{
 "cells": [
  {
   "cell_type": "code",
   "execution_count": null,
   "metadata": {},
   "outputs": [],
   "source": [
    "import pandas as pd\n",
    "import numpy as np"
   ]
  },
  {
   "cell_type": "code",
   "execution_count": null,
   "metadata": {},
   "outputs": [],
   "source": [
    "attacks_labels = {\n",
    "    'FTP-BruteForce': 0,\n",
    "    'SSH-BruteForce': 1,\n",
    "    'DoS-GoldenEye': 2,\n",
    "    'DoS-Slowloris': 3,\n",
    "    'DoS-SlowHTTPTest': 4,\n",
    "    'DoS-Hulk': 5,\n",
    "    'DDoS attacks-LOIC-HTTP': 6,\n",
    "    'DDoS-LOIC-UDP': 7,\n",
    "    'DDOS-HOIC': 8,\n",
    "    'BruteForce -Web': 9,\n",
    "    'BruteForce -XSS': 10,\n",
    "    'SQL Injection': 11,\n",
    "    'Infiltration': 12,\n",
    "    'Bot': 13,\n",
    "    'Benign': 14\n",
    "}"
   ]
  },
  {
   "attachments": {},
   "cell_type": "markdown",
   "metadata": {},
   "source": [
    "### **Data Headers**"
   ]
  },
  {
   "cell_type": "code",
   "execution_count": null,
   "metadata": {},
   "outputs": [],
   "source": []
  }
 ],
 "metadata": {
  "language_info": {
   "name": "python"
  },
  "orig_nbformat": 4
 },
 "nbformat": 4,
 "nbformat_minor": 2
}
