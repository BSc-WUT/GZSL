{
 "cells": [
  {
   "cell_type": "code",
   "execution_count": null,
   "metadata": {},
   "outputs": [],
   "source": [
    "import torch\n",
    "import torch.nn as nn\n",
    "import torch.nn.functional as F\n",
    "import torch.utils.data as data\n",
    "import torch.optim as optim"
   ]
  },
  {
   "attachments": {},
   "cell_type": "markdown",
   "metadata": {},
   "source": [
    "## Load Data"
   ]
  },
  {
   "cell_type": "code",
   "execution_count": null,
   "metadata": {},
   "outputs": [],
   "source": [
    "train_data_loader = data.DataLoader #TODO\n",
    "test_data_loader = data.DataLoader #TODO"
   ]
  },
  {
   "attachments": {},
   "cell_type": "markdown",
   "metadata": {},
   "source": [
    "## Neural Network"
   ]
  },
  {
   "cell_type": "code",
   "execution_count": null,
   "metadata": {},
   "outputs": [],
   "source": [
    "class NeuralNet(nn.Module):\n",
    "    def __init__(self, input_dim: int, latent_dim: int, output_dim: int):\n",
    "        super().__init__()\n",
    "        self.linear1 = nn.Linear(input_dim, latent_dim)\n",
    "        self.act = nn.ReLU()\n",
    "        self.linear2 = nn.Linear(latent_dim, output_dim)\n",
    "\n",
    "    def forward(self, x):\n",
    "        x = self.linear1(x)\n",
    "        x = self.act(x)\n",
    "        x = self.linear2(x)\n",
    "        return x\n",
    "    \n",
    "    def set_optim(self, learning_rate: float, momentum: float):\n",
    "        self.optim = optim.Adam(self.parameters(), lr=learning_rate, momentum=momentum)\n",
    "\n",
    "    def get_loss_fn(self):\n",
    "        return nn.MSELoss()\n",
    "    \n",
    "    def train_model(self, epochs: int, data_loader: data.DataLoader):\n",
    "        self.train()\n",
    "        loss_fn = self.get_loss_fn()\n",
    "\n",
    "        for epoch in range(epochs):\n",
    "            for inputs, labels in data_loader:\n",
    "                outputs = self(inputs)\n",
    "                loss = loss_fn(outputs, labels)\n",
    "                loss.backward()\n",
    "                self.optim.step()\n",
    "                self.optim.zero_grad()\n",
    "\n",
    "            if epoch % 10 == 1:\n",
    "                print(f\"Epoch: {epoch}, loss: {loss.item():.3}\")\n",
    "    \n",
    "    def evaluate_model(self, data_loader: data.DataLoader):\n",
    "        self.eval()\n",
    "        true_predictions, predicitons_amount = 0., 0.\n",
    "\n",
    "        with torch.no_grad():\n",
    "            for inputs, labels in data_loader:\n",
    "                predictions = self(inputs)\n",
    "                predictions = predictions.squeeze(dim=1)\n",
    "                true_predictions += (predictions == labels).sum()\n",
    "                predicitons_amount += labels.shape[0]\n",
    "\n",
    "            accuracy = 100.0 * true_predictions / predicitons_amount\n",
    "        \n",
    "        print(f\"Accuracy of the model: {accuracy:4.2f}%\")"
   ]
  },
  {
   "cell_type": "code",
   "execution_count": null,
   "metadata": {},
   "outputs": [],
   "source": [
    "input_dim = 64\n",
    "latent_dim = 256\n",
    "output_dim = 8\n",
    "learning_rate = 0.001\n",
    "momentum = 0.5"
   ]
  },
  {
   "cell_type": "code",
   "execution_count": null,
   "metadata": {},
   "outputs": [],
   "source": [
    "model = NeuralNet(input_dim=input_dim, latent_dim=latent_dim, output_dim=output_dim)\n",
    "model.set_optim(learning_rate=learning_rate, momentum=momentum)\n",
    "loss_fn = model.get_loss_fn()"
   ]
  },
  {
   "attachments": {},
   "cell_type": "markdown",
   "metadata": {},
   "source": [
    "## Training Loop"
   ]
  },
  {
   "cell_type": "code",
   "execution_count": null,
   "metadata": {},
   "outputs": [],
   "source": [
    "model.train_model(epochs=150, data_loader=[])"
   ]
  }
 ],
 "metadata": {
  "language_info": {
   "name": "python"
  },
  "orig_nbformat": 4
 },
 "nbformat": 4,
 "nbformat_minor": 2
}
