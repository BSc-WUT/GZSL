{
 "cells": [
  {
   "cell_type": "code",
   "execution_count": 1,
   "metadata": {},
   "outputs": [],
   "source": [
    "import torch\n",
    "import torch.nn as nn\n",
    "import torch.nn.functional as F\n",
    "import torch.utils.data as data\n",
    "import torch.optim as optim"
   ]
  },
  {
   "attachments": {},
   "cell_type": "markdown",
   "metadata": {},
   "source": [
    "## **Load Data**"
   ]
  },
  {
   "cell_type": "code",
   "execution_count": null,
   "metadata": {},
   "outputs": [],
   "source": [
    "train_data_loader = data.DataLoader() #TODO\n",
    "test_data_loader = data.DataLoader() #TODO"
   ]
  },
  {
   "attachments": {},
   "cell_type": "markdown",
   "metadata": {},
   "source": [
    "## **Neural Network for Network Data**"
   ]
  },
  {
   "cell_type": "code",
   "execution_count": 5,
   "metadata": {},
   "outputs": [],
   "source": [
    "class NetNet(nn.Module):\n",
    "    def __init__(self, input_dim: int, latent_dim: int, output_dim: int):\n",
    "        super().__init__()\n",
    "        self.linear1 = nn.Linear(input_dim, latent_dim)\n",
    "        self.act = nn.ReLU()\n",
    "        self.linear2 = nn.Linear(latent_dim, output_dim)\n",
    "\n",
    "    def forward(self, x):\n",
    "        x = self.linear1(x)\n",
    "        x = self.act(x)\n",
    "        x = self.linear2(x)\n",
    "        return x\n",
    "    \n",
    "    def set_optim(self, learning_rate: float):\n",
    "        self.optim = optim.Adam(self.parameters(), lr=learning_rate)\n",
    "\n",
    "    def get_loss_fn(self):\n",
    "        return nn.MSELoss()\n",
    "    \n",
    "    def train_model(self, epochs: int, data_loader: data.DataLoader, loss_fn: nn.MSELoss):\n",
    "        self.train()\n",
    "\n",
    "        for epoch in range(epochs):\n",
    "            for inputs, labels in data_loader:\n",
    "                outputs = self(inputs)\n",
    "                loss = loss_fn(outputs, labels)\n",
    "                loss.backward()\n",
    "                self.optim.step()\n",
    "                self.optim.zero_grad()\n",
    "\n",
    "            if epoch % 10 == 1:\n",
    "                print(f\"Epoch: {epoch}, loss: {loss.item():.3}\")\n",
    "    \n",
    "    def evaluate_model(self, data_loader: data.DataLoader):\n",
    "        self.eval()\n",
    "        true_predictions, predicitons_amount = 0., 0.\n",
    "\n",
    "        with torch.no_grad():\n",
    "            for inputs, labels in data_loader:\n",
    "                predictions = self(inputs)\n",
    "                predictions = predictions.squeeze(dim=1)\n",
    "                true_predictions += (predictions == labels).sum()\n",
    "                predicitons_amount += labels.shape[0]\n",
    "\n",
    "            accuracy = 100.0 * true_predictions / predicitons_amount\n",
    "        \n",
    "        print(f\"Accuracy of the model: {accuracy:4.2f}%\")"
   ]
  },
  {
   "cell_type": "code",
   "execution_count": 6,
   "metadata": {},
   "outputs": [],
   "source": [
    "input_dim = 64\n",
    "latent_dim = 256\n",
    "output_dim = 1\n",
    "learning_rate = 0.001"
   ]
  },
  {
   "cell_type": "code",
   "execution_count": 7,
   "metadata": {},
   "outputs": [],
   "source": [
    "model = NetNet(input_dim=input_dim, latent_dim=latent_dim, output_dim=output_dim)\n",
    "model.set_optim(learning_rate=learning_rate)"
   ]
  },
  {
   "attachments": {},
   "cell_type": "markdown",
   "metadata": {},
   "source": [
    "### **Word2Vec**"
   ]
  },
  {
   "cell_type": "code",
   "execution_count": 8,
   "metadata": {},
   "outputs": [
    {
     "name": "stdout",
     "output_type": "stream",
     "text": [
      "[==================================================] 100.0% 31.6/31.6MB downloaded\n"
     ]
    }
   ],
   "source": [
    "import string\n",
    "import gensim.downloader as api\n",
    "from gensim.models.word2vec import Word2Vec\n",
    "corpus = api.load('text8')\n",
    "gensim_model = Word2Vec(corpus)"
   ]
  },
  {
   "cell_type": "code",
   "execution_count": null,
   "metadata": {},
   "outputs": [],
   "source": [
    "class LabelsEmbeddings():\n",
    "    def __init__(self, gensim_model: Word2Vec):\n",
    "        self.model = gensim_model\n",
    "\n",
    "    def generate_vectors(self, labels: list):\n",
    "        vectors = []\n",
    "        for label in labels:\n",
    "            words = [word.translate(str.maketrans('', '', string.punctuation)) for word in label.split()]\n",
    "            for word in words:\n",
    "                if word in self.model.wv.vocab:\n",
    "                    vectors.append(self.model.wv[word])\n",
    "                else:\n",
    "                    vectors.append([0])\n",
    "        return vectors"
   ]
  },
  {
   "attachments": {},
   "cell_type": "markdown",
   "metadata": {},
   "source": [
    "### **Training** "
   ]
  },
  {
   "cell_type": "code",
   "execution_count": null,
   "metadata": {},
   "outputs": [],
   "source": [
    "loss_fn = model.get_loss_fn()\n",
    "model.train_model(epochs=150, data_loader=train_data_loader, loss_fn=loss_fn)"
   ]
  },
  {
   "cell_type": "code",
   "execution_count": null,
   "metadata": {},
   "outputs": [],
   "source": [
    "print(model)"
   ]
  },
  {
   "attachments": {},
   "cell_type": "markdown",
   "metadata": {},
   "source": [
    "### **Removing last layer**"
   ]
  },
  {
   "cell_type": "code",
   "execution_count": null,
   "metadata": {},
   "outputs": [],
   "source": [
    "# TODO"
   ]
  },
  {
   "cell_type": "code",
   "execution_count": null,
   "metadata": {},
   "outputs": [],
   "source": [
    "print(model)"
   ]
  }
 ],
 "metadata": {
  "kernelspec": {
   "display_name": "Python 3",
   "language": "python",
   "name": "python3"
  },
  "language_info": {
   "codemirror_mode": {
    "name": "ipython",
    "version": 3
   },
   "file_extension": ".py",
   "mimetype": "text/x-python",
   "name": "python",
   "nbconvert_exporter": "python",
   "pygments_lexer": "ipython3",
   "version": "3.11.3"
  },
  "orig_nbformat": 4
 },
 "nbformat": 4,
 "nbformat_minor": 2
}
