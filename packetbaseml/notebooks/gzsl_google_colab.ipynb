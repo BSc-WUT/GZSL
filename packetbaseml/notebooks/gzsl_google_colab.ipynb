{
  "cells": [
    {
      "cell_type": "code",
      "execution_count": 1,
      "metadata": {
        "id": "gqEJsry3cwoP"
      },
      "outputs": [],
      "source": [
        "import torch\n",
        "import torch.nn as nn\n",
        "import torch.utils.data as data\n",
        "import torch.optim as optim\n",
        "import os\n",
        "import pandas as pd"
      ]
    },
    {
      "cell_type": "code",
      "execution_count": 12,
      "metadata": {
        "colab": {
          "base_uri": "https://localhost:8080/"
        },
        "id": "O09ALdY8c_bw",
        "outputId": "b1b01a1c-fe0e-422a-fa64-cee6342bf5c2"
      },
      "outputs": [
        {
          "name": "stdout",
          "output_type": "stream",
          "text": [
            "Mounted at /content/drive\n"
          ]
        }
      ],
      "source": [
        "try:\n",
        "  from google.colab import drive\n",
        "  drive.mount('/content/drive')\n",
        "  IN_COLAB = True\n",
        "except:\n",
        "  IN_COLAB = False"
      ]
    },
    {
      "cell_type": "code",
      "execution_count": 3,
      "metadata": {
        "colab": {
          "base_uri": "https://localhost:8080/"
        },
        "id": "pecHc7gvfOLG",
        "outputId": "e10cf4e2-afd4-4cb9-c9f9-ee3d41e57702"
      },
      "outputs": [
        {
          "data": {
            "text/plain": [
              "device(type='cuda')"
            ]
          },
          "execution_count": 3,
          "metadata": {},
          "output_type": "execute_result"
        }
      ],
      "source": [
        "if torch.cuda.is_available():\n",
        "  device = torch.device(\"cuda\")\n",
        "else:\n",
        "  device = 'cpu'\n",
        "device"
      ]
    },
    {
      "cell_type": "markdown",
      "metadata": {
        "id": "yPY6CHvBcwoQ"
      },
      "source": [
        "## **About data classes**"
      ]
    },
    {
      "cell_type": "markdown",
      "metadata": {
        "id": "CQQ9qC8ZcwoR"
      },
      "source": [
        "### **Train data classes**\n",
        "- Benign                      \n",
        "- Bot                                           \n",
        "- Brute Force -XSS                 \n",
        "- DDOS attack-HOIC              \n",
        "- DDOS attack-LOIC-UDP            \n",
        "- DDoS attacks-LOIC-HTTP      \n",
        "- DoS attacks-GoldenEye          \n",
        "- DoS attacks-Hulk                    \n",
        "- DoS attacks-Slowloris          \n",
        "- FTP-BruteForce                                \n",
        "- Label                                                \n",
        "- SSH-Bruteforce\n"
      ]
    },
    {
      "cell_type": "markdown",
      "metadata": {
        "id": "KCPrXDzncwoS"
      },
      "source": [
        "### **Test data classes**\n",
        "- Brute Force -Web                 \n",
        "- DoS attacks-SlowHTTPTest      \n",
        "- Infilteration                                              \n",
        "- SQL Injection                     \n"
      ]
    },
    {
      "cell_type": "code",
      "execution_count": 9,
      "metadata": {
        "id": "7RvkdRYecwoS"
      },
      "outputs": [],
      "source": [
        "from src.vars import TRAIN_PICKLE, TEST_PICKLE\n",
        "from src.data.dataset import DatasetIDS2018, group_dataset_by_labels, save_pickle_dataset, dataframe_to_tensor_dataset, tensor_dataset_to_dataloader\n",
        "from src.data.labels import train_labels, test_labels, labels_emb, labels"
      ]
    },
    {
      "cell_type": "code",
      "execution_count": 15,
      "metadata": {
        "id": "YRX1s7ELcwoS"
      },
      "outputs": [],
      "source": [
        "PICKLE_PATH = '../data/pickle/' if not IN_COLAB else '/content/drive/MyDrive/STUDIA/INZ/data/pickle'"
      ]
    },
    {
      "cell_type": "code",
      "execution_count": 17,
      "metadata": {
        "id": "qHByKsbscwoS"
      },
      "outputs": [],
      "source": [
        "train_pickle_path = os.path.join(PICKLE_PATH, TRAIN_PICKLE)\n",
        "test_pickle_path = os.path.join(PICKLE_PATH, TEST_PICKLE)\n",
        "\n",
        "if TRAIN_PICKLE not in os.listdir(PICKLE_PATH) and TEST_PICKLE not in os.listdir(PICKLE_PATH):\n",
        "    ids_dataset = DatasetIDS2018(csv_file_name='../data/raw/small_merge_data.csv')\n",
        "\n",
        "    train_dataset = group_dataset_by_labels(dataset=ids_dataset, labels=train_labels, labels_emb=labels_emb, labels_column_name='Label')\n",
        "    save_pickle_dataset(dataset=train_dataset, pickle_path=train_pickle_path)\n",
        "\n",
        "    test_dataset = group_dataset_by_labels(dataset=ids_dataset, labels=test_labels, labels_emb=labels_emb, labels_column_name='Label')\n",
        "    save_pickle_dataset(dataset=test_dataset, pickle_path=test_pickle_path)\n",
        "else:\n",
        "    train_dataset = pd.read_pickle(train_pickle_path)\n",
        "    test_dataset = pd.read_pickle(test_pickle_path)\n",
        "\n"
      ]
    },
    {
      "cell_type": "code",
      "execution_count": 18,
      "metadata": {
        "colab": {
          "base_uri": "https://localhost:8080/"
        },
        "id": "EqCC6dpDUeIX",
        "outputId": "6c4032c9-cffb-4ac2-e1e1-545bb6166882"
      },
      "outputs": [
        {
          "data": {
            "text/plain": [
              "tensor([ 0.,  0.,  0.,  ...,  0., 14., 14.])"
            ]
          },
          "execution_count": 18,
          "metadata": {},
          "output_type": "execute_result"
        }
      ],
      "source": [
        "all_labels = torch.from_numpy(test_dataset.values[:, -1].astype(float)).float()\n",
        "all_labels"
      ]
    },
    {
      "cell_type": "code",
      "execution_count": null,
      "metadata": {},
      "outputs": [],
      "source": [
        "test_dataset = dataframe_to_tensor_dataset(test_dataset)\n",
        "train_dataset = dataframe_to_tensor_dataset(train_dataset)"
      ]
    },
    {
      "cell_type": "code",
      "execution_count": 24,
      "metadata": {
        "id": "Ps2bgF0GcwoT"
      },
      "outputs": [],
      "source": [
        "batch_size = 32\n",
        "train_data_loader = tensor_dataset_to_dataloader(train_dataset, batch_size)\n",
        "test_data_loader = tensor_dataset_to_dataloader(test_dataset, batch_size)"
      ]
    },
    {
      "cell_type": "code",
      "execution_count": 25,
      "metadata": {
        "colab": {
          "base_uri": "https://localhost:8080/"
        },
        "id": "WCswOD-9cwoT",
        "outputId": "c2300329-e3d8-41cf-875b-c544296c337f"
      },
      "outputs": [
        {
          "data": {
            "text/plain": [
              "[tensor([[6.0000e+00, 1.2883e+04, 2.0000e+00,  ..., 0.0000e+00, 0.0000e+00,\n",
              "          3.0000e+00],\n",
              "         [6.0000e+00, 4.8300e+02, 2.0000e+00,  ..., 0.0000e+00, 0.0000e+00,\n",
              "          1.0000e+00],\n",
              "         [6.0000e+00, 1.2561e+05, 3.0000e+00,  ..., 0.0000e+00, 0.0000e+00,\n",
              "          7.0000e+00],\n",
              "         ...,\n",
              "         [6.0000e+00, 1.3680e+03, 3.0000e+00,  ..., 0.0000e+00, 0.0000e+00,\n",
              "          3.0000e+00],\n",
              "         [6.0000e+00, 1.5440e+03, 2.0000e+00,  ..., 0.0000e+00, 0.0000e+00,\n",
              "          3.0000e+00],\n",
              "         [6.0000e+00, 6.3924e+04, 3.0000e+00,  ..., 0.0000e+00, 0.0000e+00,\n",
              "          7.0000e+00]]),\n",
              " tensor([ 3.,  1.,  7.,  3.,  9.,  9.,  7.,  3.,  7.,  3.,  3.,  1.,  1.,  3.,\n",
              "          3.,  3.,  1.,  1., 10.,  9.,  1.,  1.,  3.,  3.,  1.,  7.,  7.,  7.,\n",
              "          3.,  3.,  3.,  7.])]"
            ]
          },
          "execution_count": 25,
          "metadata": {},
          "output_type": "execute_result"
        }
      ],
      "source": [
        "next(iter(train_data_loader))"
      ]
    },
    {
      "cell_type": "code",
      "execution_count": 26,
      "metadata": {
        "colab": {
          "base_uri": "https://localhost:8080/"
        },
        "id": "3NPEA4lwcwoT",
        "outputId": "78c3efdf-ea3b-443b-a356-2893e16718a1"
      },
      "outputs": [
        {
          "data": {
            "text/plain": [
              "[tensor([[ 6.0000e+00,  5.3839e+07,  2.0000e+00,  0.0000e+00,  0.0000e+00,\n",
              "           0.0000e+00,  0.0000e+00,  0.0000e+00,  0.0000e+00,  0.0000e+00,\n",
              "           0.0000e+00,  0.0000e+00,  0.0000e+00,  0.0000e+00,  0.0000e+00,\n",
              "           3.7148e-02,  5.3839e+07,  0.0000e+00,  5.3839e+07,  5.3839e+07,\n",
              "           5.3839e+07,  5.3839e+07,  0.0000e+00,  5.3839e+07,  5.3839e+07,\n",
              "           0.0000e+00,  0.0000e+00,  0.0000e+00,  0.0000e+00,  0.0000e+00,\n",
              "           0.0000e+00,  0.0000e+00,  0.0000e+00,  0.0000e+00,  4.0000e+01,\n",
              "           0.0000e+00,  3.7148e-02,  0.0000e+00,  0.0000e+00,  0.0000e+00,\n",
              "           0.0000e+00,  0.0000e+00,  0.0000e+00,  0.0000e+00,  0.0000e+00,\n",
              "           0.0000e+00,  0.0000e+00,  1.0000e+00,  0.0000e+00,  0.0000e+00,\n",
              "           0.0000e+00,  0.0000e+00,  0.0000e+00,  0.0000e+00,  0.0000e+00,\n",
              "           0.0000e+00,  0.0000e+00,  0.0000e+00,  0.0000e+00,  0.0000e+00,\n",
              "           0.0000e+00,  2.0000e+00,  0.0000e+00,  0.0000e+00,  0.0000e+00,\n",
              "           2.7900e+02, -1.0000e+00,  0.0000e+00,  2.0000e+01,  0.0000e+00,\n",
              "           0.0000e+00,  0.0000e+00,  0.0000e+00,  0.0000e+00,  0.0000e+00,\n",
              "           0.0000e+00,  0.0000e+00,  0.0000e+00]]),\n",
              " tensor([0.])]"
            ]
          },
          "execution_count": 26,
          "metadata": {},
          "output_type": "execute_result"
        }
      ],
      "source": [
        "next(iter(test_data_loader))"
      ]
    },
    {
      "cell_type": "markdown",
      "metadata": {
        "id": "u9SAFgu2cwoU"
      },
      "source": [
        "### **Variables**"
      ]
    },
    {
      "cell_type": "code",
      "execution_count": 27,
      "metadata": {
        "id": "zZcaliZNcwoU"
      },
      "outputs": [],
      "source": [
        "word_vector_size = 100\n",
        "input_dim = len(train_dataset[0][0])\n",
        "output_dim = len(labels)"
      ]
    },
    {
      "cell_type": "code",
      "execution_count": 28,
      "metadata": {
        "colab": {
          "base_uri": "https://localhost:8080/"
        },
        "id": "5Si6ZqMAcwoU",
        "outputId": "36e4c97e-df6e-4bd1-fce8-0eae3b64098a"
      },
      "outputs": [
        {
          "name": "stdout",
          "output_type": "stream",
          "text": [
            "Input dim: 78\n",
            "Output dim: 16\n"
          ]
        }
      ],
      "source": [
        "print(f'Input dim: {input_dim}\\nOutput dim: {output_dim}')"
      ]
    },
    {
      "cell_type": "markdown",
      "metadata": {
        "id": "kVWq9-mxcwoU"
      },
      "source": [
        "## **Word2Vec**"
      ]
    },
    {
      "cell_type": "code",
      "execution_count": null,
      "metadata": {},
      "outputs": [],
      "source": [
        "from src.models.GZSL.word2vec import LabelsEmbeddings, gensim_model"
      ]
    },
    {
      "cell_type": "code",
      "execution_count": 33,
      "metadata": {
        "id": "c_yD01CKcwoU"
      },
      "outputs": [],
      "source": [
        "labels_embeddings = LabelsEmbeddings(gensim_model=gensim_model)\n",
        "labels_vectors = labels_embeddings.generate_vectors(labels=labels)"
      ]
    },
    {
      "cell_type": "code",
      "execution_count": 34,
      "metadata": {
        "colab": {
          "base_uri": "https://localhost:8080/"
        },
        "id": "ZPaNLkBAcwoU",
        "outputId": "2d019822-953e-48a1-995b-440da5af5c55"
      },
      "outputs": [
        {
          "data": {
            "text/plain": [
              "[3, 3, 3, 3, 3, 3, 3, 3, 3, 3, 3, 3, 3, 3, 3, 3]"
            ]
          },
          "execution_count": 34,
          "metadata": {},
          "output_type": "execute_result"
        }
      ],
      "source": [
        "[len(v) for v in labels_vectors]"
      ]
    },
    {
      "cell_type": "code",
      "execution_count": 35,
      "metadata": {
        "id": "n9URX08ecwoV"
      },
      "outputs": [],
      "source": [
        "for vector in labels_vectors:\n",
        "    for word in vector:\n",
        "        assert len(word) == word_vector_size\n"
      ]
    },
    {
      "cell_type": "markdown",
      "metadata": {
        "id": "whiZad7YcwoV"
      },
      "source": [
        "### **Map layer**\n",
        "Last layer of the model should be a map between incident embeddings and labels embeddings - we want to map given input data to the most corresponding Word2Vec label vector. To do this we have to initialize weights of this layer and freeze them."
      ]
    },
    {
      "cell_type": "code",
      "execution_count": 37,
      "metadata": {
        "colab": {
          "base_uri": "https://localhost:8080/"
        },
        "id": "DOpErBdacwoV",
        "outputId": "7c84b795-5255-4577-d982-b0d82952d3b5"
      },
      "outputs": [
        {
          "name": "stdout",
          "output_type": "stream",
          "text": [
            "Size: torch.Size([16, 100])\n",
            "Type: torch.float32\n"
          ]
        }
      ],
      "source": [
        "from src.models.GZSL.utils import map_layer_init\n",
        "\n",
        "map_layer = map_layer_init(labels_vectors)\n",
        "print(f\"Size: {map_layer.size()}\\nType: {map_layer.dtype}\")\n"
      ]
    },
    {
      "cell_type": "markdown",
      "metadata": {
        "id": "qYVjbErKcwoV"
      },
      "source": [
        "## **Neural Network for Network Data**"
      ]
    },
    {
      "cell_type": "markdown",
      "metadata": {
        "id": "l9o4-9qdcwoV"
      },
      "source": [
        "### **Training**"
      ]
    },
    {
      "cell_type": "code",
      "execution_count": 40,
      "metadata": {
        "id": "vQ9L3A-RcwoV"
      },
      "outputs": [],
      "source": [
        "from src.models.GZSL.model import NetNet, train_model, evaluate_model"
      ]
    },
    {
      "cell_type": "code",
      "execution_count": 41,
      "metadata": {
        "colab": {
          "base_uri": "https://localhost:8080/"
        },
        "id": "j9_rhgaMcwoW",
        "outputId": "bbf30a69-25d9-4168-8698-a33f4a5ce13a"
      },
      "outputs": [
        {
          "data": {
            "text/plain": [
              "NetNet(\n",
              "  (linear1): Linear(in_features=78, out_features=512, bias=True)\n",
              "  (bn1): BatchNorm1d(512, eps=1e-05, momentum=0.1, affine=True, track_running_stats=True)\n",
              "  (linear2): Linear(in_features=512, out_features=256, bias=True)\n",
              "  (bn2): BatchNorm1d(256, eps=1e-05, momentum=0.1, affine=True, track_running_stats=True)\n",
              "  (linear3): Linear(in_features=256, out_features=100, bias=True)\n",
              "  (bn3): BatchNorm1d(100, eps=1e-05, momentum=0.1, affine=True, track_running_stats=True)\n",
              "  (linear4): Linear(in_features=100, out_features=16, bias=True)\n",
              "  (ReLU): LeakyReLU(negative_slope=0.01)\n",
              ")"
            ]
          },
          "execution_count": 41,
          "metadata": {},
          "output_type": "execute_result"
        }
      ],
      "source": [
        "model = NetNet(\n",
        "    input_dim=input_dim,\n",
        "    words_embeddings_dim=word_vector_size,\n",
        "    output_dim=output_dim,\n",
        "    labels_vectors=labels_vectors\n",
        ")\n",
        "model.to(device)"
      ]
    },
    {
      "cell_type": "code",
      "execution_count": 43,
      "metadata": {
        "colab": {
          "base_uri": "https://localhost:8080/"
        },
        "id": "Qvhte_qLcwoc",
        "outputId": "e56d38c2-aa47-48ca-f457-34b49d40e2eb"
      },
      "outputs": [
        {
          "name": "stdout",
          "output_type": "stream",
          "text": [
            "Epoch: 0, loss: -0.0777\n",
            "Epoch: 1, loss: -0.0861\n",
            "Epoch: 2, loss: -0.0876\n",
            "Epoch: 3, loss: -0.0931\n",
            "Epoch: 4, loss: -0.0956\n"
          ]
        }
      ],
      "source": [
        "learning_rate = 1e-06\n",
        "loss_fn = nn.NLLLoss()\n",
        "model.optim = optim.Adam(model.parameters(), lr=learning_rate)\n",
        "torch.autograd.set_detect_anomaly(True)\n",
        "train_model(model=model, epochs=5, data_loader=train_data_loader, loss_fn=loss_fn)"
      ]
    },
    {
      "cell_type": "markdown",
      "metadata": {
        "id": "QCUA5hYxcwod"
      },
      "source": [
        "### **Removing last layer**"
      ]
    },
    {
      "cell_type": "code",
      "execution_count": 44,
      "metadata": {
        "colab": {
          "base_uri": "https://localhost:8080/"
        },
        "id": "o2PBAwZvcwod",
        "outputId": "18d02d2e-7b70-4520-acc5-ae49395a24a4"
      },
      "outputs": [
        {
          "data": {
            "text/plain": [
              "Sequential(\n",
              "  (0): Linear(in_features=78, out_features=512, bias=True)\n",
              "  (1): BatchNorm1d(512, eps=1e-05, momentum=0.1, affine=True, track_running_stats=True)\n",
              "  (2): Linear(in_features=512, out_features=256, bias=True)\n",
              "  (3): BatchNorm1d(256, eps=1e-05, momentum=0.1, affine=True, track_running_stats=True)\n",
              "  (4): Linear(in_features=256, out_features=100, bias=True)\n",
              "  (5): BatchNorm1d(100, eps=1e-05, momentum=0.1, affine=True, track_running_stats=True)\n",
              "  (6): LeakyReLU(negative_slope=0.01)\n",
              ")"
            ]
          },
          "execution_count": 44,
          "metadata": {},
          "output_type": "execute_result"
        }
      ],
      "source": [
        "zsl_model = nn.Sequential(*(list(model.children())[:6] + list(model.children())[7:]))\n",
        "zsl_model.to(device)"
      ]
    },
    {
      "cell_type": "code",
      "execution_count": 45,
      "metadata": {
        "colab": {
          "base_uri": "https://localhost:8080/"
        },
        "id": "60Zd6SHtcwod",
        "outputId": "8335cf57-8d93-4c80-dff3-2a8f08b9d206"
      },
      "outputs": [
        {
          "name": "stdout",
          "output_type": "stream",
          "text": [
            "NetNet(\n",
            "  (linear1): Linear(in_features=78, out_features=512, bias=True)\n",
            "  (bn1): BatchNorm1d(512, eps=1e-05, momentum=0.1, affine=True, track_running_stats=True)\n",
            "  (linear2): Linear(in_features=512, out_features=256, bias=True)\n",
            "  (bn2): BatchNorm1d(256, eps=1e-05, momentum=0.1, affine=True, track_running_stats=True)\n",
            "  (linear3): Linear(in_features=256, out_features=100, bias=True)\n",
            "  (bn3): BatchNorm1d(100, eps=1e-05, momentum=0.1, affine=True, track_running_stats=True)\n",
            "  (linear4): Linear(in_features=100, out_features=16, bias=True)\n",
            "  (ReLU): LeakyReLU(negative_slope=0.01)\n",
            ")\n",
            "Sequential(\n",
            "  (0): Linear(in_features=78, out_features=512, bias=True)\n",
            "  (1): BatchNorm1d(512, eps=1e-05, momentum=0.1, affine=True, track_running_stats=True)\n",
            "  (2): Linear(in_features=512, out_features=256, bias=True)\n",
            "  (3): BatchNorm1d(256, eps=1e-05, momentum=0.1, affine=True, track_running_stats=True)\n",
            "  (4): Linear(in_features=256, out_features=100, bias=True)\n",
            "  (5): BatchNorm1d(100, eps=1e-05, momentum=0.1, affine=True, track_running_stats=True)\n",
            "  (6): LeakyReLU(negative_slope=0.01)\n",
            ")\n"
          ]
        }
      ],
      "source": [
        "print(model)\n",
        "print(zsl_model)"
      ]
    },
    {
      "cell_type": "markdown",
      "metadata": {
        "id": "YRfCWx9ccwod"
      },
      "source": [
        "### **Evaluation**\n",
        "For this step we will calculate euclidean distance and find the vector which is the closest."
      ]
    },
    {
      "cell_type": "code",
      "execution_count": 48,
      "metadata": {
        "colab": {
          "base_uri": "https://localhost:8080/"
        },
        "id": "XiYNwGXUcwod",
        "outputId": "16a4b506-05cc-4c87-e12a-5b4fbfe14fc4"
      },
      "outputs": [
        {
          "name": "stdout",
          "output_type": "stream",
          "text": [
            "Accuracy of the model: 70.12%\n"
          ]
        }
      ],
      "source": [
        "evaluate_model(zsl_model, test_data_loader, map_layer)"
      ]
    }
  ],
  "metadata": {
    "accelerator": "GPU",
    "colab": {
      "gpuType": "T4",
      "provenance": []
    },
    "kernelspec": {
      "display_name": "Python 3",
      "name": "python3"
    },
    "language_info": {
      "codemirror_mode": {
        "name": "ipython",
        "version": 3
      },
      "file_extension": ".py",
      "mimetype": "text/x-python",
      "name": "python",
      "nbconvert_exporter": "python",
      "pygments_lexer": "ipython3",
      "version": "3.11.4"
    },
    "orig_nbformat": 4
  },
  "nbformat": 4,
  "nbformat_minor": 0
}
