{
  "cells": [
    {
      "cell_type": "code",
      "execution_count": 1,
      "metadata": {
        "id": "gqEJsry3cwoP"
      },
      "outputs": [],
      "source": [
        "import torch\n",
        "import torch.nn as nn\n",
        "import torch.optim as optim\n",
        "import pandas as pd"
      ]
    },
    {
      "cell_type": "markdown",
      "metadata": {},
      "source": [
        "### **Google Colab enviromnent**"
      ]
    },
    {
      "cell_type": "code",
      "execution_count": 2,
      "metadata": {
        "colab": {
          "base_uri": "https://localhost:8080/"
        },
        "id": "O09ALdY8c_bw",
        "outputId": "b1b01a1c-fe0e-422a-fa64-cee6342bf5c2"
      },
      "outputs": [],
      "source": [
        "try:\n",
        "  from google.colab import drive\n",
        "  from google.colab import drive\n",
        "  IN_COLAB = True\n",
        "  !git clone https://github.com/BSc-WUT/ML-API\n",
        "  %cd ML-API/packetbaseml\n",
        "  !pip install -e .\n",
        "except:\n",
        "  IN_COLAB = False"
      ]
    },
    {
      "cell_type": "code",
      "execution_count": null,
      "metadata": {},
      "outputs": [],
      "source": [
        "!pip install awscli"
      ]
    },
    {
      "cell_type": "code",
      "execution_count": null,
      "metadata": {},
      "outputs": [],
      "source": [
        "!make sync_data_from_s3"
      ]
    },
    {
      "cell_type": "code",
      "execution_count": null,
      "metadata": {},
      "outputs": [],
      "source": [
        "%cd /content/GZSL/\n",
        "!mkdir packetbaseml/data/interim\n",
        "!python3 packetbaseml/src/data/make_dataset.py"
      ]
    },
    {
      "cell_type": "code",
      "execution_count": 2,
      "metadata": {
        "colab": {
          "base_uri": "https://localhost:8080/"
        },
        "id": "pecHc7gvfOLG",
        "outputId": "e10cf4e2-afd4-4cb9-c9f9-ee3d41e57702"
      },
      "outputs": [
        {
          "data": {
            "text/plain": [
              "'cpu'"
            ]
          },
          "execution_count": 2,
          "metadata": {},
          "output_type": "execute_result"
        }
      ],
      "source": [
        "if torch.cuda.is_available():\n",
        "  device = torch.device(\"cuda\")\n",
        "else:\n",
        "  device = 'cpu'\n",
        "device"
      ]
    },
    {
      "cell_type": "markdown",
      "metadata": {},
      "source": [
        "### **Create Train and Test DataLoaders from IDS-2018 Dataset**"
      ]
    },
    {
      "cell_type": "code",
      "execution_count": 7,
      "metadata": {
        "id": "7RvkdRYecwoS"
      },
      "outputs": [],
      "source": [
        "from src.data.dataset import DatasetIDS2018 \n",
        "from src.data.parse_dataset import dataframe_to_dataloader\n",
        "from src.data.labels import train_labels, test_labels, labels"
      ]
    },
    {
      "cell_type": "code",
      "execution_count": 9,
      "metadata": {},
      "outputs": [],
      "source": [
        "ids_dataset: DatasetIDS2018 = DatasetIDS2018(csv_file_name='./data/interim/merged_data.csv')"
      ]
    },
    {
      "cell_type": "code",
      "execution_count": null,
      "metadata": {},
      "outputs": [],
      "source": [
        "ids_dataset.fix_dataset()"
      ]
    },
    {
      "cell_type": "code",
      "execution_count": 10,
      "metadata": {},
      "outputs": [],
      "source": [
        "labels_idx: dict = {label: i for i, label in enumerate(labels)}\n",
        "train_labels_idx: list = [idx for label, idx in labels_idx.items() if label in train_labels][:-1] # Not including `Label` class\n",
        "test_labels_idx: list = [idx for label, idx in labels_idx.items() if label in test_labels]"
      ]
    },
    {
      "cell_type": "code",
      "execution_count": 11,
      "metadata": {},
      "outputs": [],
      "source": [
        "train_dataframe: pd.DataFrame = ids_dataset.filter_data_by_labels(train_labels_idx)\n",
        "test_dataframe: pd.DataFrame = ids_dataset.filter_data_by_labels(test_labels_idx)"
      ]
    },
    {
      "cell_type": "code",
      "execution_count": 12,
      "metadata": {},
      "outputs": [
        {
          "data": {
            "text/html": [
              "<div>\n",
              "<style scoped>\n",
              "    .dataframe tbody tr th:only-of-type {\n",
              "        vertical-align: middle;\n",
              "    }\n",
              "\n",
              "    .dataframe tbody tr th {\n",
              "        vertical-align: top;\n",
              "    }\n",
              "\n",
              "    .dataframe thead th {\n",
              "        text-align: right;\n",
              "    }\n",
              "</style>\n",
              "<table border=\"1\" class=\"dataframe\">\n",
              "  <thead>\n",
              "    <tr style=\"text-align: right;\">\n",
              "      <th></th>\n",
              "      <th>Protocol</th>\n",
              "      <th>Flow Duration</th>\n",
              "      <th>Tot Fwd Pkts</th>\n",
              "      <th>Tot Bwd Pkts</th>\n",
              "      <th>TotLen Fwd Pkts</th>\n",
              "      <th>TotLen Bwd Pkts</th>\n",
              "      <th>Fwd Pkt Len Max</th>\n",
              "      <th>Fwd Pkt Len Min</th>\n",
              "      <th>Fwd Pkt Len Mean</th>\n",
              "      <th>Fwd Pkt Len Std</th>\n",
              "      <th>...</th>\n",
              "      <th>Fwd Seg Size Min</th>\n",
              "      <th>Active Mean</th>\n",
              "      <th>Active Std</th>\n",
              "      <th>Active Max</th>\n",
              "      <th>Active Min</th>\n",
              "      <th>Idle Mean</th>\n",
              "      <th>Idle Std</th>\n",
              "      <th>Idle Max</th>\n",
              "      <th>Idle Min</th>\n",
              "      <th>Label</th>\n",
              "    </tr>\n",
              "  </thead>\n",
              "  <tbody>\n",
              "    <tr>\n",
              "      <th>1234</th>\n",
              "      <td>6.0</td>\n",
              "      <td>16079.0</td>\n",
              "      <td>3.0</td>\n",
              "      <td>4.0</td>\n",
              "      <td>326.0</td>\n",
              "      <td>129.0</td>\n",
              "      <td>326.0</td>\n",
              "      <td>0.0</td>\n",
              "      <td>108.666667</td>\n",
              "      <td>188.216188</td>\n",
              "      <td>...</td>\n",
              "      <td>20.0</td>\n",
              "      <td>0.0</td>\n",
              "      <td>0.0</td>\n",
              "      <td>0.0</td>\n",
              "      <td>0.0</td>\n",
              "      <td>0.0</td>\n",
              "      <td>0.0</td>\n",
              "      <td>0.0</td>\n",
              "      <td>0.0</td>\n",
              "      <td>1</td>\n",
              "    </tr>\n",
              "    <tr>\n",
              "      <th>1235</th>\n",
              "      <td>6.0</td>\n",
              "      <td>577.0</td>\n",
              "      <td>2.0</td>\n",
              "      <td>0.0</td>\n",
              "      <td>0.0</td>\n",
              "      <td>0.0</td>\n",
              "      <td>0.0</td>\n",
              "      <td>0.0</td>\n",
              "      <td>0.000000</td>\n",
              "      <td>0.000000</td>\n",
              "      <td>...</td>\n",
              "      <td>20.0</td>\n",
              "      <td>0.0</td>\n",
              "      <td>0.0</td>\n",
              "      <td>0.0</td>\n",
              "      <td>0.0</td>\n",
              "      <td>0.0</td>\n",
              "      <td>0.0</td>\n",
              "      <td>0.0</td>\n",
              "      <td>0.0</td>\n",
              "      <td>1</td>\n",
              "    </tr>\n",
              "    <tr>\n",
              "      <th>1236</th>\n",
              "      <td>6.0</td>\n",
              "      <td>10279.0</td>\n",
              "      <td>3.0</td>\n",
              "      <td>4.0</td>\n",
              "      <td>326.0</td>\n",
              "      <td>129.0</td>\n",
              "      <td>326.0</td>\n",
              "      <td>0.0</td>\n",
              "      <td>108.666667</td>\n",
              "      <td>188.216188</td>\n",
              "      <td>...</td>\n",
              "      <td>20.0</td>\n",
              "      <td>0.0</td>\n",
              "      <td>0.0</td>\n",
              "      <td>0.0</td>\n",
              "      <td>0.0</td>\n",
              "      <td>0.0</td>\n",
              "      <td>0.0</td>\n",
              "      <td>0.0</td>\n",
              "      <td>0.0</td>\n",
              "      <td>1</td>\n",
              "    </tr>\n",
              "    <tr>\n",
              "      <th>1237</th>\n",
              "      <td>6.0</td>\n",
              "      <td>457.0</td>\n",
              "      <td>2.0</td>\n",
              "      <td>0.0</td>\n",
              "      <td>0.0</td>\n",
              "      <td>0.0</td>\n",
              "      <td>0.0</td>\n",
              "      <td>0.0</td>\n",
              "      <td>0.000000</td>\n",
              "      <td>0.000000</td>\n",
              "      <td>...</td>\n",
              "      <td>20.0</td>\n",
              "      <td>0.0</td>\n",
              "      <td>0.0</td>\n",
              "      <td>0.0</td>\n",
              "      <td>0.0</td>\n",
              "      <td>0.0</td>\n",
              "      <td>0.0</td>\n",
              "      <td>0.0</td>\n",
              "      <td>0.0</td>\n",
              "      <td>1</td>\n",
              "    </tr>\n",
              "    <tr>\n",
              "      <th>1240</th>\n",
              "      <td>6.0</td>\n",
              "      <td>10271.0</td>\n",
              "      <td>3.0</td>\n",
              "      <td>4.0</td>\n",
              "      <td>326.0</td>\n",
              "      <td>129.0</td>\n",
              "      <td>326.0</td>\n",
              "      <td>0.0</td>\n",
              "      <td>108.666667</td>\n",
              "      <td>188.216188</td>\n",
              "      <td>...</td>\n",
              "      <td>20.0</td>\n",
              "      <td>0.0</td>\n",
              "      <td>0.0</td>\n",
              "      <td>0.0</td>\n",
              "      <td>0.0</td>\n",
              "      <td>0.0</td>\n",
              "      <td>0.0</td>\n",
              "      <td>0.0</td>\n",
              "      <td>0.0</td>\n",
              "      <td>1</td>\n",
              "    </tr>\n",
              "    <tr>\n",
              "      <th>...</th>\n",
              "      <td>...</td>\n",
              "      <td>...</td>\n",
              "      <td>...</td>\n",
              "      <td>...</td>\n",
              "      <td>...</td>\n",
              "      <td>...</td>\n",
              "      <td>...</td>\n",
              "      <td>...</td>\n",
              "      <td>...</td>\n",
              "      <td>...</td>\n",
              "      <td>...</td>\n",
              "      <td>...</td>\n",
              "      <td>...</td>\n",
              "      <td>...</td>\n",
              "      <td>...</td>\n",
              "      <td>...</td>\n",
              "      <td>...</td>\n",
              "      <td>...</td>\n",
              "      <td>...</td>\n",
              "      <td>...</td>\n",
              "      <td>...</td>\n",
              "    </tr>\n",
              "    <tr>\n",
              "      <th>15619886</th>\n",
              "      <td>6.0</td>\n",
              "      <td>10855.0</td>\n",
              "      <td>2.0</td>\n",
              "      <td>0.0</td>\n",
              "      <td>0.0</td>\n",
              "      <td>0.0</td>\n",
              "      <td>0.0</td>\n",
              "      <td>0.0</td>\n",
              "      <td>0.000000</td>\n",
              "      <td>0.000000</td>\n",
              "      <td>...</td>\n",
              "      <td>20.0</td>\n",
              "      <td>0.0</td>\n",
              "      <td>0.0</td>\n",
              "      <td>0.0</td>\n",
              "      <td>0.0</td>\n",
              "      <td>0.0</td>\n",
              "      <td>0.0</td>\n",
              "      <td>0.0</td>\n",
              "      <td>0.0</td>\n",
              "      <td>3</td>\n",
              "    </tr>\n",
              "    <tr>\n",
              "      <th>15619887</th>\n",
              "      <td>6.0</td>\n",
              "      <td>1330.0</td>\n",
              "      <td>2.0</td>\n",
              "      <td>0.0</td>\n",
              "      <td>0.0</td>\n",
              "      <td>0.0</td>\n",
              "      <td>0.0</td>\n",
              "      <td>0.0</td>\n",
              "      <td>0.000000</td>\n",
              "      <td>0.000000</td>\n",
              "      <td>...</td>\n",
              "      <td>20.0</td>\n",
              "      <td>0.0</td>\n",
              "      <td>0.0</td>\n",
              "      <td>0.0</td>\n",
              "      <td>0.0</td>\n",
              "      <td>0.0</td>\n",
              "      <td>0.0</td>\n",
              "      <td>0.0</td>\n",
              "      <td>0.0</td>\n",
              "      <td>3</td>\n",
              "    </tr>\n",
              "    <tr>\n",
              "      <th>15619888</th>\n",
              "      <td>6.0</td>\n",
              "      <td>1638.0</td>\n",
              "      <td>2.0</td>\n",
              "      <td>0.0</td>\n",
              "      <td>0.0</td>\n",
              "      <td>0.0</td>\n",
              "      <td>0.0</td>\n",
              "      <td>0.0</td>\n",
              "      <td>0.000000</td>\n",
              "      <td>0.000000</td>\n",
              "      <td>...</td>\n",
              "      <td>20.0</td>\n",
              "      <td>0.0</td>\n",
              "      <td>0.0</td>\n",
              "      <td>0.0</td>\n",
              "      <td>0.0</td>\n",
              "      <td>0.0</td>\n",
              "      <td>0.0</td>\n",
              "      <td>0.0</td>\n",
              "      <td>0.0</td>\n",
              "      <td>3</td>\n",
              "    </tr>\n",
              "    <tr>\n",
              "      <th>15619891</th>\n",
              "      <td>6.0</td>\n",
              "      <td>1480.0</td>\n",
              "      <td>2.0</td>\n",
              "      <td>0.0</td>\n",
              "      <td>0.0</td>\n",
              "      <td>0.0</td>\n",
              "      <td>0.0</td>\n",
              "      <td>0.0</td>\n",
              "      <td>0.000000</td>\n",
              "      <td>0.000000</td>\n",
              "      <td>...</td>\n",
              "      <td>20.0</td>\n",
              "      <td>0.0</td>\n",
              "      <td>0.0</td>\n",
              "      <td>0.0</td>\n",
              "      <td>0.0</td>\n",
              "      <td>0.0</td>\n",
              "      <td>0.0</td>\n",
              "      <td>0.0</td>\n",
              "      <td>0.0</td>\n",
              "      <td>3</td>\n",
              "    </tr>\n",
              "    <tr>\n",
              "      <th>15619892</th>\n",
              "      <td>6.0</td>\n",
              "      <td>1827.0</td>\n",
              "      <td>2.0</td>\n",
              "      <td>0.0</td>\n",
              "      <td>0.0</td>\n",
              "      <td>0.0</td>\n",
              "      <td>0.0</td>\n",
              "      <td>0.0</td>\n",
              "      <td>0.000000</td>\n",
              "      <td>0.000000</td>\n",
              "      <td>...</td>\n",
              "      <td>20.0</td>\n",
              "      <td>0.0</td>\n",
              "      <td>0.0</td>\n",
              "      <td>0.0</td>\n",
              "      <td>0.0</td>\n",
              "      <td>0.0</td>\n",
              "      <td>0.0</td>\n",
              "      <td>0.0</td>\n",
              "      <td>0.0</td>\n",
              "      <td>3</td>\n",
              "    </tr>\n",
              "  </tbody>\n",
              "</table>\n",
              "<p>2445713 rows × 78 columns</p>\n",
              "</div>"
            ],
            "text/plain": [
              "          Protocol  Flow Duration  Tot Fwd Pkts  Tot Bwd Pkts  \\\n",
              "1234           6.0        16079.0           3.0           4.0   \n",
              "1235           6.0          577.0           2.0           0.0   \n",
              "1236           6.0        10279.0           3.0           4.0   \n",
              "1237           6.0          457.0           2.0           0.0   \n",
              "1240           6.0        10271.0           3.0           4.0   \n",
              "...            ...            ...           ...           ...   \n",
              "15619886       6.0        10855.0           2.0           0.0   \n",
              "15619887       6.0         1330.0           2.0           0.0   \n",
              "15619888       6.0         1638.0           2.0           0.0   \n",
              "15619891       6.0         1480.0           2.0           0.0   \n",
              "15619892       6.0         1827.0           2.0           0.0   \n",
              "\n",
              "          TotLen Fwd Pkts  TotLen Bwd Pkts  Fwd Pkt Len Max  Fwd Pkt Len Min  \\\n",
              "1234                326.0            129.0            326.0              0.0   \n",
              "1235                  0.0              0.0              0.0              0.0   \n",
              "1236                326.0            129.0            326.0              0.0   \n",
              "1237                  0.0              0.0              0.0              0.0   \n",
              "1240                326.0            129.0            326.0              0.0   \n",
              "...                   ...              ...              ...              ...   \n",
              "15619886              0.0              0.0              0.0              0.0   \n",
              "15619887              0.0              0.0              0.0              0.0   \n",
              "15619888              0.0              0.0              0.0              0.0   \n",
              "15619891              0.0              0.0              0.0              0.0   \n",
              "15619892              0.0              0.0              0.0              0.0   \n",
              "\n",
              "          Fwd Pkt Len Mean  Fwd Pkt Len Std  ...  Fwd Seg Size Min  \\\n",
              "1234            108.666667       188.216188  ...              20.0   \n",
              "1235              0.000000         0.000000  ...              20.0   \n",
              "1236            108.666667       188.216188  ...              20.0   \n",
              "1237              0.000000         0.000000  ...              20.0   \n",
              "1240            108.666667       188.216188  ...              20.0   \n",
              "...                    ...              ...  ...               ...   \n",
              "15619886          0.000000         0.000000  ...              20.0   \n",
              "15619887          0.000000         0.000000  ...              20.0   \n",
              "15619888          0.000000         0.000000  ...              20.0   \n",
              "15619891          0.000000         0.000000  ...              20.0   \n",
              "15619892          0.000000         0.000000  ...              20.0   \n",
              "\n",
              "          Active Mean  Active Std  Active Max  Active Min  Idle Mean  \\\n",
              "1234              0.0         0.0         0.0         0.0        0.0   \n",
              "1235              0.0         0.0         0.0         0.0        0.0   \n",
              "1236              0.0         0.0         0.0         0.0        0.0   \n",
              "1237              0.0         0.0         0.0         0.0        0.0   \n",
              "1240              0.0         0.0         0.0         0.0        0.0   \n",
              "...               ...         ...         ...         ...        ...   \n",
              "15619886          0.0         0.0         0.0         0.0        0.0   \n",
              "15619887          0.0         0.0         0.0         0.0        0.0   \n",
              "15619888          0.0         0.0         0.0         0.0        0.0   \n",
              "15619891          0.0         0.0         0.0         0.0        0.0   \n",
              "15619892          0.0         0.0         0.0         0.0        0.0   \n",
              "\n",
              "          Idle Std  Idle Max  Idle Min  Label  \n",
              "1234           0.0       0.0       0.0      1  \n",
              "1235           0.0       0.0       0.0      1  \n",
              "1236           0.0       0.0       0.0      1  \n",
              "1237           0.0       0.0       0.0      1  \n",
              "1240           0.0       0.0       0.0      1  \n",
              "...            ...       ...       ...    ...  \n",
              "15619886       0.0       0.0       0.0      3  \n",
              "15619887       0.0       0.0       0.0      3  \n",
              "15619888       0.0       0.0       0.0      3  \n",
              "15619891       0.0       0.0       0.0      3  \n",
              "15619892       0.0       0.0       0.0      3  \n",
              "\n",
              "[2445713 rows x 78 columns]"
            ]
          },
          "execution_count": 12,
          "metadata": {},
          "output_type": "execute_result"
        }
      ],
      "source": [
        "train_dataframe"
      ]
    },
    {
      "cell_type": "code",
      "execution_count": 11,
      "metadata": {},
      "outputs": [
        {
          "data": {
            "text/html": [
              "<div>\n",
              "<style scoped>\n",
              "    .dataframe tbody tr th:only-of-type {\n",
              "        vertical-align: middle;\n",
              "    }\n",
              "\n",
              "    .dataframe tbody tr th {\n",
              "        vertical-align: top;\n",
              "    }\n",
              "\n",
              "    .dataframe thead th {\n",
              "        text-align: right;\n",
              "    }\n",
              "</style>\n",
              "<table border=\"1\" class=\"dataframe\">\n",
              "  <thead>\n",
              "    <tr style=\"text-align: right;\">\n",
              "      <th></th>\n",
              "      <th>Protocol</th>\n",
              "      <th>Flow Duration</th>\n",
              "      <th>Tot Fwd Pkts</th>\n",
              "      <th>Tot Bwd Pkts</th>\n",
              "      <th>TotLen Fwd Pkts</th>\n",
              "      <th>TotLen Bwd Pkts</th>\n",
              "      <th>Fwd Pkt Len Max</th>\n",
              "      <th>Fwd Pkt Len Min</th>\n",
              "      <th>Fwd Pkt Len Mean</th>\n",
              "      <th>Fwd Pkt Len Std</th>\n",
              "      <th>...</th>\n",
              "      <th>Fwd Seg Size Min</th>\n",
              "      <th>Active Mean</th>\n",
              "      <th>Active Std</th>\n",
              "      <th>Active Max</th>\n",
              "      <th>Active Min</th>\n",
              "      <th>Idle Mean</th>\n",
              "      <th>Idle Std</th>\n",
              "      <th>Idle Max</th>\n",
              "      <th>Idle Min</th>\n",
              "      <th>Label</th>\n",
              "    </tr>\n",
              "  </thead>\n",
              "  <tbody>\n",
              "    <tr>\n",
              "      <th>0</th>\n",
              "      <td>6.0</td>\n",
              "      <td>141385.0</td>\n",
              "      <td>9.0</td>\n",
              "      <td>7.0</td>\n",
              "      <td>553.0</td>\n",
              "      <td>3773.0</td>\n",
              "      <td>202.0</td>\n",
              "      <td>0.0</td>\n",
              "      <td>61.444444</td>\n",
              "      <td>87.534438</td>\n",
              "      <td>...</td>\n",
              "      <td>20.0</td>\n",
              "      <td>0.0</td>\n",
              "      <td>0.0</td>\n",
              "      <td>0.0</td>\n",
              "      <td>0.0</td>\n",
              "      <td>0.0</td>\n",
              "      <td>0.0</td>\n",
              "      <td>0.0</td>\n",
              "      <td>0.0</td>\n",
              "      <td>0</td>\n",
              "    </tr>\n",
              "    <tr>\n",
              "      <th>1</th>\n",
              "      <td>6.0</td>\n",
              "      <td>281.0</td>\n",
              "      <td>2.0</td>\n",
              "      <td>1.0</td>\n",
              "      <td>38.0</td>\n",
              "      <td>0.0</td>\n",
              "      <td>38.0</td>\n",
              "      <td>0.0</td>\n",
              "      <td>19.000000</td>\n",
              "      <td>26.870058</td>\n",
              "      <td>...</td>\n",
              "      <td>20.0</td>\n",
              "      <td>0.0</td>\n",
              "      <td>0.0</td>\n",
              "      <td>0.0</td>\n",
              "      <td>0.0</td>\n",
              "      <td>0.0</td>\n",
              "      <td>0.0</td>\n",
              "      <td>0.0</td>\n",
              "      <td>0.0</td>\n",
              "      <td>0</td>\n",
              "    </tr>\n",
              "    <tr>\n",
              "      <th>2</th>\n",
              "      <td>6.0</td>\n",
              "      <td>279824.0</td>\n",
              "      <td>11.0</td>\n",
              "      <td>15.0</td>\n",
              "      <td>1086.0</td>\n",
              "      <td>10527.0</td>\n",
              "      <td>385.0</td>\n",
              "      <td>0.0</td>\n",
              "      <td>98.727273</td>\n",
              "      <td>129.392497</td>\n",
              "      <td>...</td>\n",
              "      <td>20.0</td>\n",
              "      <td>0.0</td>\n",
              "      <td>0.0</td>\n",
              "      <td>0.0</td>\n",
              "      <td>0.0</td>\n",
              "      <td>0.0</td>\n",
              "      <td>0.0</td>\n",
              "      <td>0.0</td>\n",
              "      <td>0.0</td>\n",
              "      <td>0</td>\n",
              "    </tr>\n",
              "    <tr>\n",
              "      <th>3</th>\n",
              "      <td>6.0</td>\n",
              "      <td>132.0</td>\n",
              "      <td>2.0</td>\n",
              "      <td>0.0</td>\n",
              "      <td>0.0</td>\n",
              "      <td>0.0</td>\n",
              "      <td>0.0</td>\n",
              "      <td>0.0</td>\n",
              "      <td>0.000000</td>\n",
              "      <td>0.000000</td>\n",
              "      <td>...</td>\n",
              "      <td>20.0</td>\n",
              "      <td>0.0</td>\n",
              "      <td>0.0</td>\n",
              "      <td>0.0</td>\n",
              "      <td>0.0</td>\n",
              "      <td>0.0</td>\n",
              "      <td>0.0</td>\n",
              "      <td>0.0</td>\n",
              "      <td>0.0</td>\n",
              "      <td>0</td>\n",
              "    </tr>\n",
              "    <tr>\n",
              "      <th>4</th>\n",
              "      <td>6.0</td>\n",
              "      <td>274016.0</td>\n",
              "      <td>9.0</td>\n",
              "      <td>13.0</td>\n",
              "      <td>1285.0</td>\n",
              "      <td>6141.0</td>\n",
              "      <td>517.0</td>\n",
              "      <td>0.0</td>\n",
              "      <td>142.777778</td>\n",
              "      <td>183.887722</td>\n",
              "      <td>...</td>\n",
              "      <td>20.0</td>\n",
              "      <td>0.0</td>\n",
              "      <td>0.0</td>\n",
              "      <td>0.0</td>\n",
              "      <td>0.0</td>\n",
              "      <td>0.0</td>\n",
              "      <td>0.0</td>\n",
              "      <td>0.0</td>\n",
              "      <td>0.0</td>\n",
              "      <td>0</td>\n",
              "    </tr>\n",
              "    <tr>\n",
              "      <th>...</th>\n",
              "      <td>...</td>\n",
              "      <td>...</td>\n",
              "      <td>...</td>\n",
              "      <td>...</td>\n",
              "      <td>...</td>\n",
              "      <td>...</td>\n",
              "      <td>...</td>\n",
              "      <td>...</td>\n",
              "      <td>...</td>\n",
              "      <td>...</td>\n",
              "      <td>...</td>\n",
              "      <td>...</td>\n",
              "      <td>...</td>\n",
              "      <td>...</td>\n",
              "      <td>...</td>\n",
              "      <td>...</td>\n",
              "      <td>...</td>\n",
              "      <td>...</td>\n",
              "      <td>...</td>\n",
              "      <td>...</td>\n",
              "      <td>...</td>\n",
              "    </tr>\n",
              "    <tr>\n",
              "      <th>16232997</th>\n",
              "      <td>6.0</td>\n",
              "      <td>3.0</td>\n",
              "      <td>1.0</td>\n",
              "      <td>1.0</td>\n",
              "      <td>0.0</td>\n",
              "      <td>0.0</td>\n",
              "      <td>0.0</td>\n",
              "      <td>0.0</td>\n",
              "      <td>0.000000</td>\n",
              "      <td>0.000000</td>\n",
              "      <td>...</td>\n",
              "      <td>24.0</td>\n",
              "      <td>0.0</td>\n",
              "      <td>0.0</td>\n",
              "      <td>0.0</td>\n",
              "      <td>0.0</td>\n",
              "      <td>0.0</td>\n",
              "      <td>0.0</td>\n",
              "      <td>0.0</td>\n",
              "      <td>0.0</td>\n",
              "      <td>14</td>\n",
              "    </tr>\n",
              "    <tr>\n",
              "      <th>16232998</th>\n",
              "      <td>6.0</td>\n",
              "      <td>2.0</td>\n",
              "      <td>1.0</td>\n",
              "      <td>1.0</td>\n",
              "      <td>0.0</td>\n",
              "      <td>0.0</td>\n",
              "      <td>0.0</td>\n",
              "      <td>0.0</td>\n",
              "      <td>0.000000</td>\n",
              "      <td>0.000000</td>\n",
              "      <td>...</td>\n",
              "      <td>24.0</td>\n",
              "      <td>0.0</td>\n",
              "      <td>0.0</td>\n",
              "      <td>0.0</td>\n",
              "      <td>0.0</td>\n",
              "      <td>0.0</td>\n",
              "      <td>0.0</td>\n",
              "      <td>0.0</td>\n",
              "      <td>0.0</td>\n",
              "      <td>14</td>\n",
              "    </tr>\n",
              "    <tr>\n",
              "      <th>16232999</th>\n",
              "      <td>6.0</td>\n",
              "      <td>732728.0</td>\n",
              "      <td>2.0</td>\n",
              "      <td>2.0</td>\n",
              "      <td>0.0</td>\n",
              "      <td>0.0</td>\n",
              "      <td>0.0</td>\n",
              "      <td>0.0</td>\n",
              "      <td>0.000000</td>\n",
              "      <td>0.000000</td>\n",
              "      <td>...</td>\n",
              "      <td>32.0</td>\n",
              "      <td>0.0</td>\n",
              "      <td>0.0</td>\n",
              "      <td>0.0</td>\n",
              "      <td>0.0</td>\n",
              "      <td>0.0</td>\n",
              "      <td>0.0</td>\n",
              "      <td>0.0</td>\n",
              "      <td>0.0</td>\n",
              "      <td>0</td>\n",
              "    </tr>\n",
              "    <tr>\n",
              "      <th>16233000</th>\n",
              "      <td>6.0</td>\n",
              "      <td>22.0</td>\n",
              "      <td>1.0</td>\n",
              "      <td>1.0</td>\n",
              "      <td>0.0</td>\n",
              "      <td>0.0</td>\n",
              "      <td>0.0</td>\n",
              "      <td>0.0</td>\n",
              "      <td>0.000000</td>\n",
              "      <td>0.000000</td>\n",
              "      <td>...</td>\n",
              "      <td>24.0</td>\n",
              "      <td>0.0</td>\n",
              "      <td>0.0</td>\n",
              "      <td>0.0</td>\n",
              "      <td>0.0</td>\n",
              "      <td>0.0</td>\n",
              "      <td>0.0</td>\n",
              "      <td>0.0</td>\n",
              "      <td>0.0</td>\n",
              "      <td>14</td>\n",
              "    </tr>\n",
              "    <tr>\n",
              "      <th>16233001</th>\n",
              "      <td>6.0</td>\n",
              "      <td>2.0</td>\n",
              "      <td>1.0</td>\n",
              "      <td>1.0</td>\n",
              "      <td>0.0</td>\n",
              "      <td>0.0</td>\n",
              "      <td>0.0</td>\n",
              "      <td>0.0</td>\n",
              "      <td>0.000000</td>\n",
              "      <td>0.000000</td>\n",
              "      <td>...</td>\n",
              "      <td>24.0</td>\n",
              "      <td>0.0</td>\n",
              "      <td>0.0</td>\n",
              "      <td>0.0</td>\n",
              "      <td>0.0</td>\n",
              "      <td>0.0</td>\n",
              "      <td>0.0</td>\n",
              "      <td>0.0</td>\n",
              "      <td>0.0</td>\n",
              "      <td>14</td>\n",
              "    </tr>\n",
              "  </tbody>\n",
              "</table>\n",
              "<p>13787230 rows × 78 columns</p>\n",
              "</div>"
            ],
            "text/plain": [
              "          Protocol  Flow Duration  Tot Fwd Pkts  Tot Bwd Pkts  \\\n",
              "0              6.0       141385.0           9.0           7.0   \n",
              "1              6.0          281.0           2.0           1.0   \n",
              "2              6.0       279824.0          11.0          15.0   \n",
              "3              6.0          132.0           2.0           0.0   \n",
              "4              6.0       274016.0           9.0          13.0   \n",
              "...            ...            ...           ...           ...   \n",
              "16232997       6.0            3.0           1.0           1.0   \n",
              "16232998       6.0            2.0           1.0           1.0   \n",
              "16232999       6.0       732728.0           2.0           2.0   \n",
              "16233000       6.0           22.0           1.0           1.0   \n",
              "16233001       6.0            2.0           1.0           1.0   \n",
              "\n",
              "          TotLen Fwd Pkts  TotLen Bwd Pkts  Fwd Pkt Len Max  Fwd Pkt Len Min  \\\n",
              "0                   553.0           3773.0            202.0              0.0   \n",
              "1                    38.0              0.0             38.0              0.0   \n",
              "2                  1086.0          10527.0            385.0              0.0   \n",
              "3                     0.0              0.0              0.0              0.0   \n",
              "4                  1285.0           6141.0            517.0              0.0   \n",
              "...                   ...              ...              ...              ...   \n",
              "16232997              0.0              0.0              0.0              0.0   \n",
              "16232998              0.0              0.0              0.0              0.0   \n",
              "16232999              0.0              0.0              0.0              0.0   \n",
              "16233000              0.0              0.0              0.0              0.0   \n",
              "16233001              0.0              0.0              0.0              0.0   \n",
              "\n",
              "          Fwd Pkt Len Mean  Fwd Pkt Len Std  ...  Fwd Seg Size Min  \\\n",
              "0                61.444444        87.534438  ...              20.0   \n",
              "1                19.000000        26.870058  ...              20.0   \n",
              "2                98.727273       129.392497  ...              20.0   \n",
              "3                 0.000000         0.000000  ...              20.0   \n",
              "4               142.777778       183.887722  ...              20.0   \n",
              "...                    ...              ...  ...               ...   \n",
              "16232997          0.000000         0.000000  ...              24.0   \n",
              "16232998          0.000000         0.000000  ...              24.0   \n",
              "16232999          0.000000         0.000000  ...              32.0   \n",
              "16233000          0.000000         0.000000  ...              24.0   \n",
              "16233001          0.000000         0.000000  ...              24.0   \n",
              "\n",
              "          Active Mean  Active Std  Active Max  Active Min  Idle Mean  \\\n",
              "0                 0.0         0.0         0.0         0.0        0.0   \n",
              "1                 0.0         0.0         0.0         0.0        0.0   \n",
              "2                 0.0         0.0         0.0         0.0        0.0   \n",
              "3                 0.0         0.0         0.0         0.0        0.0   \n",
              "4                 0.0         0.0         0.0         0.0        0.0   \n",
              "...               ...         ...         ...         ...        ...   \n",
              "16232997          0.0         0.0         0.0         0.0        0.0   \n",
              "16232998          0.0         0.0         0.0         0.0        0.0   \n",
              "16232999          0.0         0.0         0.0         0.0        0.0   \n",
              "16233000          0.0         0.0         0.0         0.0        0.0   \n",
              "16233001          0.0         0.0         0.0         0.0        0.0   \n",
              "\n",
              "          Idle Std  Idle Max  Idle Min  Label  \n",
              "0              0.0       0.0       0.0      0  \n",
              "1              0.0       0.0       0.0      0  \n",
              "2              0.0       0.0       0.0      0  \n",
              "3              0.0       0.0       0.0      0  \n",
              "4              0.0       0.0       0.0      0  \n",
              "...            ...       ...       ...    ...  \n",
              "16232997       0.0       0.0       0.0     14  \n",
              "16232998       0.0       0.0       0.0     14  \n",
              "16232999       0.0       0.0       0.0      0  \n",
              "16233000       0.0       0.0       0.0     14  \n",
              "16233001       0.0       0.0       0.0     14  \n",
              "\n",
              "[13787230 rows x 78 columns]"
            ]
          },
          "execution_count": 11,
          "metadata": {},
          "output_type": "execute_result"
        }
      ],
      "source": [
        "test_dataframe"
      ]
    },
    {
      "cell_type": "code",
      "execution_count": 13,
      "metadata": {},
      "outputs": [],
      "source": [
        "batch_size = 32\n",
        "train_data_loader = dataframe_to_dataloader(train_dataframe, batch_size)\n",
        "test_data_loader = dataframe_to_dataloader(test_dataframe, batch_size)"
      ]
    },
    {
      "cell_type": "code",
      "execution_count": 12,
      "metadata": {
        "colab": {
          "base_uri": "https://localhost:8080/"
        },
        "id": "WCswOD-9cwoT",
        "outputId": "c2300329-e3d8-41cf-875b-c544296c337f"
      },
      "outputs": [
        {
          "data": {
            "text/plain": [
              "[tensor([[6.0000e+00, 6.5100e+02, 2.0000e+00,  ..., 0.0000e+00, 0.0000e+00,\n",
              "          1.0000e+00],\n",
              "         [6.0000e+00, 7.0000e+00, 1.0000e+00,  ..., 0.0000e+00, 0.0000e+00,\n",
              "          1.0000e+01],\n",
              "         [6.0000e+00, 6.0066e+05, 3.0000e+00,  ..., 0.0000e+00, 0.0000e+00,\n",
              "          5.0000e+00],\n",
              "         ...,\n",
              "         [6.0000e+00, 8.6835e+07, 2.0000e+00,  ..., 8.6800e+07, 8.6800e+07,\n",
              "          5.0000e+00],\n",
              "         [6.0000e+00, 1.0060e+06, 3.0000e+00,  ..., 0.0000e+00, 0.0000e+00,\n",
              "          5.0000e+00],\n",
              "         [6.0000e+00, 9.0890e+03, 2.0000e+00,  ..., 0.0000e+00, 0.0000e+00,\n",
              "          3.0000e+00]]),\n",
              " tensor([ 1., 10.,  5.,  3., 10.,  3.,  3.,  5.,  5.,  5.,  5.,  1.,  7.,  5.,\n",
              "         10.,  7.,  3.,  7.,  3.,  7., 10., 10.,  3.,  7.,  7.,  7.,  5.,  3.,\n",
              "          3.,  5.,  5.,  3.])]"
            ]
          },
          "execution_count": 12,
          "metadata": {},
          "output_type": "execute_result"
        }
      ],
      "source": [
        "next(iter(train_data_loader))"
      ]
    },
    {
      "cell_type": "code",
      "execution_count": 24,
      "metadata": {
        "colab": {
          "base_uri": "https://localhost:8080/"
        },
        "id": "3NPEA4lwcwoT",
        "outputId": "78c3efdf-ea3b-443b-a356-2893e16718a1"
      },
      "outputs": [
        {
          "data": {
            "text/plain": [
              "[tensor([[6.0000e+00, 5.2026e+06, 1.4000e+01,  ..., 0.0000e+00, 0.0000e+00,\n",
              "          0.0000e+00],\n",
              "         [1.7000e+01, 2.9645e+05, 2.0000e+00,  ..., 0.0000e+00, 0.0000e+00,\n",
              "          0.0000e+00],\n",
              "         [1.7000e+01, 1.0120e+03, 1.0000e+00,  ..., 0.0000e+00, 0.0000e+00,\n",
              "          0.0000e+00],\n",
              "         ...,\n",
              "         [1.7000e+01, 3.0700e+02, 1.0000e+00,  ..., 0.0000e+00, 0.0000e+00,\n",
              "          0.0000e+00],\n",
              "         [1.7000e+01, 1.4464e+05, 2.0000e+00,  ..., 0.0000e+00, 0.0000e+00,\n",
              "          0.0000e+00],\n",
              "         [6.0000e+00, 8.7000e+01, 2.0000e+00,  ..., 0.0000e+00, 0.0000e+00,\n",
              "          0.0000e+00]]),\n",
              " tensor([ 0.,  0.,  0.,  0.,  0.,  0.,  0.,  0.,  0., 14.,  0.,  0.,  0.,  0.,\n",
              "          0.,  0.,  0., 13.,  0.,  0.,  0.,  0.,  0.,  0.,  0.,  0.,  0.,  0.,\n",
              "          0.,  0.,  0.,  0.])]"
            ]
          },
          "execution_count": 24,
          "metadata": {},
          "output_type": "execute_result"
        }
      ],
      "source": [
        "next(iter(test_data_loader))"
      ]
    },
    {
      "cell_type": "markdown",
      "metadata": {
        "id": "u9SAFgu2cwoU"
      },
      "source": [
        "### **Variables**"
      ]
    },
    {
      "cell_type": "code",
      "execution_count": 14,
      "metadata": {
        "id": "zZcaliZNcwoU"
      },
      "outputs": [],
      "source": [
        "word_vector_size = 100\n",
        "input_dim = len(train_dataframe.iloc[0])\n",
        "output_dim = len(labels)"
      ]
    },
    {
      "cell_type": "code",
      "execution_count": 14,
      "metadata": {
        "colab": {
          "base_uri": "https://localhost:8080/"
        },
        "id": "5Si6ZqMAcwoU",
        "outputId": "36e4c97e-df6e-4bd1-fce8-0eae3b64098a"
      },
      "outputs": [
        {
          "name": "stdout",
          "output_type": "stream",
          "text": [
            "Input dim: 78\n",
            "Output dim: 16\n"
          ]
        }
      ],
      "source": [
        "print(f'Input dim: {input_dim}\\nOutput dim: {output_dim}')"
      ]
    },
    {
      "cell_type": "markdown",
      "metadata": {
        "id": "kVWq9-mxcwoU"
      },
      "source": [
        "## **Word2Vec**"
      ]
    },
    {
      "cell_type": "code",
      "execution_count": 15,
      "metadata": {},
      "outputs": [],
      "source": [
        "from src.models.GZSL.word2vec import LabelsEmbeddings"
      ]
    },
    {
      "cell_type": "code",
      "execution_count": 16,
      "metadata": {
        "id": "c_yD01CKcwoU"
      },
      "outputs": [],
      "source": [
        "word_vector_size = 100\n",
        "labels_embeddings = LabelsEmbeddings(word_vector_size)\n",
        "labels_vectors = labels_embeddings.generate_vectors(labels)"
      ]
    },
    {
      "cell_type": "code",
      "execution_count": 17,
      "metadata": {
        "colab": {
          "base_uri": "https://localhost:8080/"
        },
        "id": "ZPaNLkBAcwoU",
        "outputId": "2d019822-953e-48a1-995b-440da5af5c55"
      },
      "outputs": [
        {
          "data": {
            "text/plain": [
              "[3, 3, 3, 3, 3, 3, 3, 3, 3, 3, 3, 3, 3, 3, 3, 3]"
            ]
          },
          "execution_count": 17,
          "metadata": {},
          "output_type": "execute_result"
        }
      ],
      "source": [
        "[len(v) for v in labels_vectors]"
      ]
    },
    {
      "cell_type": "code",
      "execution_count": 18,
      "metadata": {
        "id": "n9URX08ecwoV"
      },
      "outputs": [],
      "source": [
        "for vector in labels_vectors:\n",
        "    for word in vector:\n",
        "        assert len(word) == word_vector_size\n"
      ]
    },
    {
      "cell_type": "markdown",
      "metadata": {
        "id": "whiZad7YcwoV"
      },
      "source": [
        "### **Map layer**\n",
        "Last layer of the model should be a map between incident embeddings and labels embeddings - we want to map given input data to the most corresponding Word2Vec label vector. To do this we have to initialize weights of this layer and freeze them."
      ]
    },
    {
      "cell_type": "code",
      "execution_count": 17,
      "metadata": {
        "colab": {
          "base_uri": "https://localhost:8080/"
        },
        "id": "DOpErBdacwoV",
        "outputId": "7c84b795-5255-4577-d982-b0d82952d3b5"
      },
      "outputs": [
        {
          "name": "stdout",
          "output_type": "stream",
          "text": [
            "Size: torch.Size([16, 100])\n",
            "Type: torch.float32\n"
          ]
        }
      ],
      "source": [
        "from src.models.GZSL.utils import map_layer_init\n",
        "\n",
        "map_layer = map_layer_init(labels_vectors)\n",
        "print(f\"Size: {map_layer.size()}\\nType: {map_layer.dtype}\")\n"
      ]
    },
    {
      "cell_type": "markdown",
      "metadata": {
        "id": "qYVjbErKcwoV"
      },
      "source": [
        "## **Neural Network for Network Data**"
      ]
    },
    {
      "cell_type": "code",
      "execution_count": 18,
      "metadata": {
        "id": "vQ9L3A-RcwoV"
      },
      "outputs": [],
      "source": [
        "from src.models.GZSL.model import NetNet"
      ]
    },
    {
      "cell_type": "code",
      "execution_count": 25,
      "metadata": {
        "colab": {
          "base_uri": "https://localhost:8080/"
        },
        "id": "j9_rhgaMcwoW",
        "outputId": "bbf30a69-25d9-4168-8698-a33f4a5ce13a"
      },
      "outputs": [
        {
          "data": {
            "text/plain": [
              "NetNet(\n",
              "  (linear1): Linear(in_features=78, out_features=512, bias=True)\n",
              "  (bn1): BatchNorm1d(512, eps=1e-05, momentum=0.1, affine=True, track_running_stats=True)\n",
              "  (linear2): Linear(in_features=512, out_features=256, bias=True)\n",
              "  (bn2): BatchNorm1d(256, eps=1e-05, momentum=0.1, affine=True, track_running_stats=True)\n",
              "  (linear3): Linear(in_features=256, out_features=100, bias=True)\n",
              "  (bn3): BatchNorm1d(100, eps=1e-05, momentum=0.1, affine=True, track_running_stats=True)\n",
              "  (linear4): Linear(in_features=100, out_features=16, bias=True)\n",
              "  (ReLU): LeakyReLU(negative_slope=0.01)\n",
              ")"
            ]
          },
          "execution_count": 25,
          "metadata": {},
          "output_type": "execute_result"
        }
      ],
      "source": [
        "model = NetNet(\n",
        "    device=device,\n",
        "    input_dim=input_dim,\n",
        "    words_embeddings_dim=word_vector_size,\n",
        "    output_dim=output_dim,\n",
        "    labels_vectors=labels_vectors\n",
        ")\n",
        "model.to(device)"
      ]
    },
    {
      "cell_type": "code",
      "execution_count": 26,
      "metadata": {
        "colab": {
          "base_uri": "https://localhost:8080/"
        },
        "id": "Qvhte_qLcwoc",
        "outputId": "e56d38c2-aa47-48ca-f457-34b49d40e2eb"
      },
      "outputs": [
        {
          "data": {
            "text/plain": [
              "<torch.autograd.anomaly_mode.set_detect_anomaly at 0x1d69e2a1fd0>"
            ]
          },
          "execution_count": 26,
          "metadata": {},
          "output_type": "execute_result"
        }
      ],
      "source": [
        "learning_rate = 1e-06\n",
        "loss_fn = nn.NLLLoss()\n",
        "model.optim = optim.Adam(model.parameters(), lr=learning_rate)\n",
        "torch.autograd.set_detect_anomaly(True)\n"
      ]
    },
    {
      "cell_type": "markdown",
      "metadata": {
        "id": "l9o4-9qdcwoV"
      },
      "source": [
        "### **Training**"
      ]
    },
    {
      "cell_type": "code",
      "execution_count": null,
      "metadata": {},
      "outputs": [],
      "source": [
        "model.train_model(epochs=5, data_loader=train_data_loader, loss_fn=loss_fn)"
      ]
    },
    {
      "cell_type": "markdown",
      "metadata": {
        "id": "QCUA5hYxcwod"
      },
      "source": [
        "### **Removing last layer**"
      ]
    },
    {
      "cell_type": "code",
      "execution_count": null,
      "metadata": {
        "colab": {
          "base_uri": "https://localhost:8080/"
        },
        "id": "o2PBAwZvcwod",
        "outputId": "18d02d2e-7b70-4520-acc5-ae49395a24a4"
      },
      "outputs": [
        {
          "data": {
            "text/plain": [
              "Sequential(\n",
              "  (0): Linear(in_features=78, out_features=512, bias=True)\n",
              "  (1): BatchNorm1d(512, eps=1e-05, momentum=0.1, affine=True, track_running_stats=True)\n",
              "  (2): Linear(in_features=512, out_features=256, bias=True)\n",
              "  (3): BatchNorm1d(256, eps=1e-05, momentum=0.1, affine=True, track_running_stats=True)\n",
              "  (4): Linear(in_features=256, out_features=100, bias=True)\n",
              "  (5): BatchNorm1d(100, eps=1e-05, momentum=0.1, affine=True, track_running_stats=True)\n",
              "  (6): LeakyReLU(negative_slope=0.01)\n",
              ")"
            ]
          },
          "execution_count": 22,
          "metadata": {},
          "output_type": "execute_result"
        }
      ],
      "source": [
        "zsl_model = nn.Sequential(*(list(model.children())[:6] + list(model.children())[7:]))\n",
        "zsl_model.to(device)"
      ]
    },
    {
      "cell_type": "code",
      "execution_count": null,
      "metadata": {
        "colab": {
          "base_uri": "https://localhost:8080/"
        },
        "id": "60Zd6SHtcwod",
        "outputId": "8335cf57-8d93-4c80-dff3-2a8f08b9d206"
      },
      "outputs": [
        {
          "name": "stdout",
          "output_type": "stream",
          "text": [
            "NetNet(\n",
            "  (linear1): Linear(in_features=78, out_features=512, bias=True)\n",
            "  (bn1): BatchNorm1d(512, eps=1e-05, momentum=0.1, affine=True, track_running_stats=True)\n",
            "  (linear2): Linear(in_features=512, out_features=256, bias=True)\n",
            "  (bn2): BatchNorm1d(256, eps=1e-05, momentum=0.1, affine=True, track_running_stats=True)\n",
            "  (linear3): Linear(in_features=256, out_features=100, bias=True)\n",
            "  (bn3): BatchNorm1d(100, eps=1e-05, momentum=0.1, affine=True, track_running_stats=True)\n",
            "  (linear4): Linear(in_features=100, out_features=16, bias=True)\n",
            "  (ReLU): LeakyReLU(negative_slope=0.01)\n",
            ")\n",
            "Sequential(\n",
            "  (0): Linear(in_features=78, out_features=512, bias=True)\n",
            "  (1): BatchNorm1d(512, eps=1e-05, momentum=0.1, affine=True, track_running_stats=True)\n",
            "  (2): Linear(in_features=512, out_features=256, bias=True)\n",
            "  (3): BatchNorm1d(256, eps=1e-05, momentum=0.1, affine=True, track_running_stats=True)\n",
            "  (4): Linear(in_features=256, out_features=100, bias=True)\n",
            "  (5): BatchNorm1d(100, eps=1e-05, momentum=0.1, affine=True, track_running_stats=True)\n",
            "  (6): LeakyReLU(negative_slope=0.01)\n",
            ")\n"
          ]
        }
      ],
      "source": [
        "print(model)\n",
        "print(zsl_model)"
      ]
    },
    {
      "cell_type": "markdown",
      "metadata": {
        "id": "YRfCWx9ccwod"
      },
      "source": [
        "### **Evaluation**\n",
        "For this step we will calculate euclidean distance and find the vector which is the closest."
      ]
    },
    {
      "cell_type": "code",
      "execution_count": null,
      "metadata": {
        "colab": {
          "base_uri": "https://localhost:8080/"
        },
        "id": "XiYNwGXUcwod",
        "outputId": "16a4b506-05cc-4c87-e12a-5b4fbfe14fc4"
      },
      "outputs": [],
      "source": [
        "from src.models.GZSL.model_eval import evaluate_model\n",
        "\n",
        "evaluate_model(device, zsl_model, test_data_loader, map_layer)"
      ]
    }
  ],
  "metadata": {
    "accelerator": "GPU",
    "colab": {
      "gpuType": "T4",
      "provenance": []
    },
    "kernelspec": {
      "display_name": "Python 3",
      "name": "python3"
    },
    "language_info": {
      "codemirror_mode": {
        "name": "ipython",
        "version": 3
      },
      "file_extension": ".py",
      "mimetype": "text/x-python",
      "name": "python",
      "nbconvert_exporter": "python",
      "pygments_lexer": "ipython3",
      "version": "3.11.7"
    },
    "orig_nbformat": 4
  },
  "nbformat": 4,
  "nbformat_minor": 0
}
