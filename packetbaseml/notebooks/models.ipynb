{
  "cells": [
    {
      "cell_type": "code",
      "execution_count": 1,
      "metadata": {
        "id": "gqEJsry3cwoP"
      },
      "outputs": [],
      "source": [
        "import torch\n",
        "import torch.nn as nn\n",
        "import torch.optim as optim\n",
        "import pandas as pd"
      ]
    },
    {
      "cell_type": "markdown",
      "metadata": {},
      "source": [
        "### **Google Colab enviromnent**"
      ]
    },
    {
      "cell_type": "code",
      "execution_count": 2,
      "metadata": {
        "colab": {
          "base_uri": "https://localhost:8080/"
        },
        "id": "O09ALdY8c_bw",
        "outputId": "b1b01a1c-fe0e-422a-fa64-cee6342bf5c2"
      },
      "outputs": [],
      "source": [
        "try:\n",
        "  from google.colab import drive\n",
        "  from google.colab import drive\n",
        "  IN_COLAB = True\n",
        "  !git clone https://github.com/BSc-WUT/ML-API\n",
        "  %cd ML-API/packetbaseml\n",
        "  !pip install -e .\n",
        "except:\n",
        "  IN_COLAB = False"
      ]
    },
    {
      "cell_type": "code",
      "execution_count": null,
      "metadata": {},
      "outputs": [],
      "source": [
        "!pip install awscli"
      ]
    },
    {
      "cell_type": "code",
      "execution_count": null,
      "metadata": {},
      "outputs": [],
      "source": [
        "!make sync_data_from_s3"
      ]
    },
    {
      "cell_type": "code",
      "execution_count": null,
      "metadata": {},
      "outputs": [],
      "source": [
        "%cd /content/GZSL/\n",
        "!mkdir packetbaseml/data/interim\n",
        "!python3 packetbaseml/src/data/make_dataset.py"
      ]
    },
    {
      "cell_type": "markdown",
      "metadata": {},
      "source": [
        "### **Setup**"
      ]
    },
    {
      "cell_type": "code",
      "execution_count": 2,
      "metadata": {
        "colab": {
          "base_uri": "https://localhost:8080/"
        },
        "id": "pecHc7gvfOLG",
        "outputId": "e10cf4e2-afd4-4cb9-c9f9-ee3d41e57702"
      },
      "outputs": [
        {
          "data": {
            "text/plain": [
              "'cpu'"
            ]
          },
          "execution_count": 2,
          "metadata": {},
          "output_type": "execute_result"
        }
      ],
      "source": [
        "if torch.cuda.is_available():\n",
        "  device = torch.device(\"cuda\")\n",
        "else:\n",
        "  device = 'cpu'\n",
        "device"
      ]
    },
    {
      "cell_type": "code",
      "execution_count": 3,
      "metadata": {},
      "outputs": [
        {
          "name": "stdout",
          "output_type": "stream",
          "text": [
            "c:\\Users\\bkosinski\\Desktop\\STUDIA\\INZ\\modules\\ML-API\\packetbaseml\n"
          ]
        }
      ],
      "source": [
        "%cd .."
      ]
    },
    {
      "cell_type": "markdown",
      "metadata": {},
      "source": [
        "### **Datasets**"
      ]
    },
    {
      "cell_type": "code",
      "execution_count": 4,
      "metadata": {
        "id": "7RvkdRYecwoS"
      },
      "outputs": [],
      "source": [
        "from src.data.dataset import Dataset \n",
        "from src.data.parse_dataset import dataframe_to_dataloader\n",
        "from src.data.labels import cicids2018_labels, cicids2018_train_labels, nb15v2_labels, nb15v2_train_labels"
      ]
    },
    {
      "cell_type": "markdown",
      "metadata": {},
      "source": [
        "#### **CICIDS2018**"
      ]
    },
    {
      "cell_type": "code",
      "execution_count": 5,
      "metadata": {},
      "outputs": [],
      "source": [
        "dataset: Dataset = Dataset(csv_file_name=\"./data/CICIDS2018/interim/corr_data.csv\")"
      ]
    },
    {
      "cell_type": "code",
      "execution_count": 6,
      "metadata": {},
      "outputs": [
        {
          "data": {
            "text/html": [
              "<div>\n",
              "<style scoped>\n",
              "    .dataframe tbody tr th:only-of-type {\n",
              "        vertical-align: middle;\n",
              "    }\n",
              "\n",
              "    .dataframe tbody tr th {\n",
              "        vertical-align: top;\n",
              "    }\n",
              "\n",
              "    .dataframe thead th {\n",
              "        text-align: right;\n",
              "    }\n",
              "</style>\n",
              "<table border=\"1\" class=\"dataframe\">\n",
              "  <thead>\n",
              "    <tr style=\"text-align: right;\">\n",
              "      <th></th>\n",
              "      <th>Unnamed: 0</th>\n",
              "      <th>Protocol</th>\n",
              "      <th>Fwd Pkt Len Max</th>\n",
              "      <th>Fwd Pkt Len Min</th>\n",
              "      <th>Fwd Pkt Len Mean</th>\n",
              "      <th>Fwd Pkt Len Std</th>\n",
              "      <th>Bwd Pkt Len Max</th>\n",
              "      <th>Bwd Pkt Len Min</th>\n",
              "      <th>Bwd Pkt Len Mean</th>\n",
              "      <th>Bwd Pkt Len Std</th>\n",
              "      <th>...</th>\n",
              "      <th>PSH Flag Cnt</th>\n",
              "      <th>URG Flag Cnt</th>\n",
              "      <th>ECE Flag Cnt</th>\n",
              "      <th>Down/Up Ratio</th>\n",
              "      <th>Pkt Size Avg</th>\n",
              "      <th>Fwd Seg Size Avg</th>\n",
              "      <th>Bwd Seg Size Avg</th>\n",
              "      <th>Init Bwd Win Byts</th>\n",
              "      <th>Fwd Seg Size Min</th>\n",
              "      <th>Label</th>\n",
              "    </tr>\n",
              "  </thead>\n",
              "  <tbody>\n",
              "    <tr>\n",
              "      <th>0</th>\n",
              "      <td>0</td>\n",
              "      <td>17.0</td>\n",
              "      <td>39.0</td>\n",
              "      <td>39.0</td>\n",
              "      <td>39.000000</td>\n",
              "      <td>0.000000</td>\n",
              "      <td>98.0</td>\n",
              "      <td>98.0</td>\n",
              "      <td>98.000000</td>\n",
              "      <td>0.000000</td>\n",
              "      <td>...</td>\n",
              "      <td>0.0</td>\n",
              "      <td>0.0</td>\n",
              "      <td>0.0</td>\n",
              "      <td>1.0</td>\n",
              "      <td>78.250</td>\n",
              "      <td>39.000000</td>\n",
              "      <td>98.000000</td>\n",
              "      <td>-1.0</td>\n",
              "      <td>8.0</td>\n",
              "      <td>0</td>\n",
              "    </tr>\n",
              "    <tr>\n",
              "      <th>1</th>\n",
              "      <td>1</td>\n",
              "      <td>6.0</td>\n",
              "      <td>196.0</td>\n",
              "      <td>0.0</td>\n",
              "      <td>36.000000</td>\n",
              "      <td>72.998288</td>\n",
              "      <td>1460.0</td>\n",
              "      <td>0.0</td>\n",
              "      <td>319.727273</td>\n",
              "      <td>574.435217</td>\n",
              "      <td>...</td>\n",
              "      <td>1.0</td>\n",
              "      <td>0.0</td>\n",
              "      <td>1.0</td>\n",
              "      <td>1.0</td>\n",
              "      <td>192.050</td>\n",
              "      <td>36.000000</td>\n",
              "      <td>319.727273</td>\n",
              "      <td>131.0</td>\n",
              "      <td>20.0</td>\n",
              "      <td>0</td>\n",
              "    </tr>\n",
              "    <tr>\n",
              "      <th>2</th>\n",
              "      <td>2</td>\n",
              "      <td>6.0</td>\n",
              "      <td>1141.0</td>\n",
              "      <td>0.0</td>\n",
              "      <td>339.636364</td>\n",
              "      <td>421.410316</td>\n",
              "      <td>1460.0</td>\n",
              "      <td>0.0</td>\n",
              "      <td>506.222222</td>\n",
              "      <td>603.973463</td>\n",
              "      <td>...</td>\n",
              "      <td>1.0</td>\n",
              "      <td>0.0</td>\n",
              "      <td>0.0</td>\n",
              "      <td>0.0</td>\n",
              "      <td>414.600</td>\n",
              "      <td>339.636364</td>\n",
              "      <td>506.222222</td>\n",
              "      <td>513.0</td>\n",
              "      <td>20.0</td>\n",
              "      <td>0</td>\n",
              "    </tr>\n",
              "    <tr>\n",
              "      <th>3</th>\n",
              "      <td>3</td>\n",
              "      <td>6.0</td>\n",
              "      <td>0.0</td>\n",
              "      <td>0.0</td>\n",
              "      <td>0.000000</td>\n",
              "      <td>0.000000</td>\n",
              "      <td>0.0</td>\n",
              "      <td>0.0</td>\n",
              "      <td>0.000000</td>\n",
              "      <td>0.000000</td>\n",
              "      <td>...</td>\n",
              "      <td>0.0</td>\n",
              "      <td>0.0</td>\n",
              "      <td>0.0</td>\n",
              "      <td>0.0</td>\n",
              "      <td>0.000</td>\n",
              "      <td>0.000000</td>\n",
              "      <td>0.000000</td>\n",
              "      <td>-1.0</td>\n",
              "      <td>20.0</td>\n",
              "      <td>0</td>\n",
              "    </tr>\n",
              "    <tr>\n",
              "      <th>4</th>\n",
              "      <td>4</td>\n",
              "      <td>6.0</td>\n",
              "      <td>935.0</td>\n",
              "      <td>0.0</td>\n",
              "      <td>187.000000</td>\n",
              "      <td>418.144712</td>\n",
              "      <td>376.0</td>\n",
              "      <td>0.0</td>\n",
              "      <td>125.333333</td>\n",
              "      <td>217.083701</td>\n",
              "      <td>...</td>\n",
              "      <td>0.0</td>\n",
              "      <td>0.0</td>\n",
              "      <td>0.0</td>\n",
              "      <td>0.0</td>\n",
              "      <td>163.875</td>\n",
              "      <td>187.000000</td>\n",
              "      <td>125.333333</td>\n",
              "      <td>211.0</td>\n",
              "      <td>32.0</td>\n",
              "      <td>0</td>\n",
              "    </tr>\n",
              "    <tr>\n",
              "      <th>...</th>\n",
              "      <td>...</td>\n",
              "      <td>...</td>\n",
              "      <td>...</td>\n",
              "      <td>...</td>\n",
              "      <td>...</td>\n",
              "      <td>...</td>\n",
              "      <td>...</td>\n",
              "      <td>...</td>\n",
              "      <td>...</td>\n",
              "      <td>...</td>\n",
              "      <td>...</td>\n",
              "      <td>...</td>\n",
              "      <td>...</td>\n",
              "      <td>...</td>\n",
              "      <td>...</td>\n",
              "      <td>...</td>\n",
              "      <td>...</td>\n",
              "      <td>...</td>\n",
              "      <td>...</td>\n",
              "      <td>...</td>\n",
              "      <td>...</td>\n",
              "    </tr>\n",
              "    <tr>\n",
              "      <th>3827066</th>\n",
              "      <td>3827066</td>\n",
              "      <td>6.0</td>\n",
              "      <td>0.0</td>\n",
              "      <td>0.0</td>\n",
              "      <td>0.000000</td>\n",
              "      <td>0.000000</td>\n",
              "      <td>0.0</td>\n",
              "      <td>0.0</td>\n",
              "      <td>0.000000</td>\n",
              "      <td>0.000000</td>\n",
              "      <td>...</td>\n",
              "      <td>1.0</td>\n",
              "      <td>0.0</td>\n",
              "      <td>0.0</td>\n",
              "      <td>1.0</td>\n",
              "      <td>0.000</td>\n",
              "      <td>0.000000</td>\n",
              "      <td>0.000000</td>\n",
              "      <td>0.0</td>\n",
              "      <td>24.0</td>\n",
              "      <td>14</td>\n",
              "    </tr>\n",
              "    <tr>\n",
              "      <th>3827067</th>\n",
              "      <td>3827067</td>\n",
              "      <td>6.0</td>\n",
              "      <td>0.0</td>\n",
              "      <td>0.0</td>\n",
              "      <td>0.000000</td>\n",
              "      <td>0.000000</td>\n",
              "      <td>0.0</td>\n",
              "      <td>0.0</td>\n",
              "      <td>0.000000</td>\n",
              "      <td>0.000000</td>\n",
              "      <td>...</td>\n",
              "      <td>1.0</td>\n",
              "      <td>0.0</td>\n",
              "      <td>0.0</td>\n",
              "      <td>1.0</td>\n",
              "      <td>0.000</td>\n",
              "      <td>0.000000</td>\n",
              "      <td>0.000000</td>\n",
              "      <td>0.0</td>\n",
              "      <td>24.0</td>\n",
              "      <td>14</td>\n",
              "    </tr>\n",
              "    <tr>\n",
              "      <th>3827068</th>\n",
              "      <td>3827068</td>\n",
              "      <td>6.0</td>\n",
              "      <td>0.0</td>\n",
              "      <td>0.0</td>\n",
              "      <td>0.000000</td>\n",
              "      <td>0.000000</td>\n",
              "      <td>0.0</td>\n",
              "      <td>0.0</td>\n",
              "      <td>0.000000</td>\n",
              "      <td>0.000000</td>\n",
              "      <td>...</td>\n",
              "      <td>1.0</td>\n",
              "      <td>0.0</td>\n",
              "      <td>0.0</td>\n",
              "      <td>1.0</td>\n",
              "      <td>0.000</td>\n",
              "      <td>0.000000</td>\n",
              "      <td>0.000000</td>\n",
              "      <td>0.0</td>\n",
              "      <td>24.0</td>\n",
              "      <td>14</td>\n",
              "    </tr>\n",
              "    <tr>\n",
              "      <th>3827069</th>\n",
              "      <td>3827069</td>\n",
              "      <td>6.0</td>\n",
              "      <td>0.0</td>\n",
              "      <td>0.0</td>\n",
              "      <td>0.000000</td>\n",
              "      <td>0.000000</td>\n",
              "      <td>0.0</td>\n",
              "      <td>0.0</td>\n",
              "      <td>0.000000</td>\n",
              "      <td>0.000000</td>\n",
              "      <td>...</td>\n",
              "      <td>1.0</td>\n",
              "      <td>0.0</td>\n",
              "      <td>0.0</td>\n",
              "      <td>1.0</td>\n",
              "      <td>0.000</td>\n",
              "      <td>0.000000</td>\n",
              "      <td>0.000000</td>\n",
              "      <td>0.0</td>\n",
              "      <td>24.0</td>\n",
              "      <td>14</td>\n",
              "    </tr>\n",
              "    <tr>\n",
              "      <th>3827070</th>\n",
              "      <td>3827070</td>\n",
              "      <td>6.0</td>\n",
              "      <td>0.0</td>\n",
              "      <td>0.0</td>\n",
              "      <td>0.000000</td>\n",
              "      <td>0.000000</td>\n",
              "      <td>0.0</td>\n",
              "      <td>0.0</td>\n",
              "      <td>0.000000</td>\n",
              "      <td>0.000000</td>\n",
              "      <td>...</td>\n",
              "      <td>1.0</td>\n",
              "      <td>0.0</td>\n",
              "      <td>0.0</td>\n",
              "      <td>1.0</td>\n",
              "      <td>0.000</td>\n",
              "      <td>0.000000</td>\n",
              "      <td>0.000000</td>\n",
              "      <td>0.0</td>\n",
              "      <td>24.0</td>\n",
              "      <td>14</td>\n",
              "    </tr>\n",
              "  </tbody>\n",
              "</table>\n",
              "<p>3827071 rows × 34 columns</p>\n",
              "</div>"
            ],
            "text/plain": [
              "         Unnamed: 0  Protocol  Fwd Pkt Len Max  Fwd Pkt Len Min  \\\n",
              "0                 0      17.0             39.0             39.0   \n",
              "1                 1       6.0            196.0              0.0   \n",
              "2                 2       6.0           1141.0              0.0   \n",
              "3                 3       6.0              0.0              0.0   \n",
              "4                 4       6.0            935.0              0.0   \n",
              "...             ...       ...              ...              ...   \n",
              "3827066     3827066       6.0              0.0              0.0   \n",
              "3827067     3827067       6.0              0.0              0.0   \n",
              "3827068     3827068       6.0              0.0              0.0   \n",
              "3827069     3827069       6.0              0.0              0.0   \n",
              "3827070     3827070       6.0              0.0              0.0   \n",
              "\n",
              "         Fwd Pkt Len Mean  Fwd Pkt Len Std  Bwd Pkt Len Max  Bwd Pkt Len Min  \\\n",
              "0               39.000000         0.000000             98.0             98.0   \n",
              "1               36.000000        72.998288           1460.0              0.0   \n",
              "2              339.636364       421.410316           1460.0              0.0   \n",
              "3                0.000000         0.000000              0.0              0.0   \n",
              "4              187.000000       418.144712            376.0              0.0   \n",
              "...                   ...              ...              ...              ...   \n",
              "3827066          0.000000         0.000000              0.0              0.0   \n",
              "3827067          0.000000         0.000000              0.0              0.0   \n",
              "3827068          0.000000         0.000000              0.0              0.0   \n",
              "3827069          0.000000         0.000000              0.0              0.0   \n",
              "3827070          0.000000         0.000000              0.0              0.0   \n",
              "\n",
              "         Bwd Pkt Len Mean  Bwd Pkt Len Std  ...  PSH Flag Cnt  URG Flag Cnt  \\\n",
              "0               98.000000         0.000000  ...           0.0           0.0   \n",
              "1              319.727273       574.435217  ...           1.0           0.0   \n",
              "2              506.222222       603.973463  ...           1.0           0.0   \n",
              "3                0.000000         0.000000  ...           0.0           0.0   \n",
              "4              125.333333       217.083701  ...           0.0           0.0   \n",
              "...                   ...              ...  ...           ...           ...   \n",
              "3827066          0.000000         0.000000  ...           1.0           0.0   \n",
              "3827067          0.000000         0.000000  ...           1.0           0.0   \n",
              "3827068          0.000000         0.000000  ...           1.0           0.0   \n",
              "3827069          0.000000         0.000000  ...           1.0           0.0   \n",
              "3827070          0.000000         0.000000  ...           1.0           0.0   \n",
              "\n",
              "         ECE Flag Cnt  Down/Up Ratio  Pkt Size Avg  Fwd Seg Size Avg  \\\n",
              "0                 0.0            1.0        78.250         39.000000   \n",
              "1                 1.0            1.0       192.050         36.000000   \n",
              "2                 0.0            0.0       414.600        339.636364   \n",
              "3                 0.0            0.0         0.000          0.000000   \n",
              "4                 0.0            0.0       163.875        187.000000   \n",
              "...               ...            ...           ...               ...   \n",
              "3827066           0.0            1.0         0.000          0.000000   \n",
              "3827067           0.0            1.0         0.000          0.000000   \n",
              "3827068           0.0            1.0         0.000          0.000000   \n",
              "3827069           0.0            1.0         0.000          0.000000   \n",
              "3827070           0.0            1.0         0.000          0.000000   \n",
              "\n",
              "         Bwd Seg Size Avg  Init Bwd Win Byts  Fwd Seg Size Min  Label  \n",
              "0               98.000000               -1.0               8.0      0  \n",
              "1              319.727273              131.0              20.0      0  \n",
              "2              506.222222              513.0              20.0      0  \n",
              "3                0.000000               -1.0              20.0      0  \n",
              "4              125.333333              211.0              32.0      0  \n",
              "...                   ...                ...               ...    ...  \n",
              "3827066          0.000000                0.0              24.0     14  \n",
              "3827067          0.000000                0.0              24.0     14  \n",
              "3827068          0.000000                0.0              24.0     14  \n",
              "3827069          0.000000                0.0              24.0     14  \n",
              "3827070          0.000000                0.0              24.0     14  \n",
              "\n",
              "[3827071 rows x 34 columns]"
            ]
          },
          "execution_count": 6,
          "metadata": {},
          "output_type": "execute_result"
        }
      ],
      "source": [
        "dataset.data"
      ]
    },
    {
      "cell_type": "code",
      "execution_count": 30,
      "metadata": {},
      "outputs": [],
      "source": [
        "labels_idx: dict = {label: i for i, label in enumerate(cicids2018_labels)}\n",
        "train_labels_idx: list = [\n",
        "    idx for label, idx in labels_idx.items() if label in cicids2018_train_labels\n",
        "][\n",
        "    :-1\n",
        "]  # Not including `Label` class\n",
        "test_labels_idx: list = [idx for _, idx in labels_idx.items()]"
      ]
    },
    {
      "cell_type": "code",
      "execution_count": 31,
      "metadata": {},
      "outputs": [],
      "source": [
        "train_labels_idx[0] = 0 #Benign traffic should be used in training"
      ]
    },
    {
      "cell_type": "code",
      "execution_count": 32,
      "metadata": {},
      "outputs": [],
      "source": [
        "label_name = \"Label\""
      ]
    },
    {
      "cell_type": "markdown",
      "metadata": {},
      "source": [
        "##### **Dataset quick view**"
      ]
    },
    {
      "cell_type": "code",
      "execution_count": 9,
      "metadata": {},
      "outputs": [
        {
          "data": {
            "text/html": [
              "<div>\n",
              "<style scoped>\n",
              "    .dataframe tbody tr th:only-of-type {\n",
              "        vertical-align: middle;\n",
              "    }\n",
              "\n",
              "    .dataframe tbody tr th {\n",
              "        vertical-align: top;\n",
              "    }\n",
              "\n",
              "    .dataframe thead th {\n",
              "        text-align: right;\n",
              "    }\n",
              "</style>\n",
              "<table border=\"1\" class=\"dataframe\">\n",
              "  <thead>\n",
              "    <tr style=\"text-align: right;\">\n",
              "      <th></th>\n",
              "      <th>Label</th>\n",
              "    </tr>\n",
              "    <tr>\n",
              "      <th>Label</th>\n",
              "      <th></th>\n",
              "    </tr>\n",
              "  </thead>\n",
              "  <tbody>\n",
              "    <tr>\n",
              "      <th>0</th>\n",
              "      <td>1078777</td>\n",
              "    </tr>\n",
              "    <tr>\n",
              "      <th>2</th>\n",
              "      <td>230</td>\n",
              "    </tr>\n",
              "    <tr>\n",
              "      <th>3</th>\n",
              "      <td>686012</td>\n",
              "    </tr>\n",
              "    <tr>\n",
              "      <th>4</th>\n",
              "      <td>1730</td>\n",
              "    </tr>\n",
              "    <tr>\n",
              "      <th>5</th>\n",
              "      <td>576191</td>\n",
              "    </tr>\n",
              "    <tr>\n",
              "      <th>6</th>\n",
              "      <td>41508</td>\n",
              "    </tr>\n",
              "    <tr>\n",
              "      <th>7</th>\n",
              "      <td>461912</td>\n",
              "    </tr>\n",
              "    <tr>\n",
              "      <th>8</th>\n",
              "      <td>10990</td>\n",
              "    </tr>\n",
              "    <tr>\n",
              "      <th>9</th>\n",
              "      <td>193360</td>\n",
              "    </tr>\n",
              "    <tr>\n",
              "      <th>10</th>\n",
              "      <td>187589</td>\n",
              "    </tr>\n",
              "  </tbody>\n",
              "</table>\n",
              "</div>"
            ],
            "text/plain": [
              "         Label\n",
              "Label         \n",
              "0      1078777\n",
              "2          230\n",
              "3       686012\n",
              "4         1730\n",
              "5       576191\n",
              "6        41508\n",
              "7       461912\n",
              "8        10990\n",
              "9       193360\n",
              "10      187589"
            ]
          },
          "execution_count": 9,
          "metadata": {},
          "output_type": "execute_result"
        }
      ],
      "source": [
        "train_dataframe.groupby(\"Label\")[\"Label\",].count()"
      ]
    },
    {
      "cell_type": "code",
      "execution_count": 35,
      "metadata": {},
      "outputs": [
        {
          "data": {
            "text/html": [
              "<div>\n",
              "<style scoped>\n",
              "    .dataframe tbody tr th:only-of-type {\n",
              "        vertical-align: middle;\n",
              "    }\n",
              "\n",
              "    .dataframe tbody tr th {\n",
              "        vertical-align: top;\n",
              "    }\n",
              "\n",
              "    .dataframe thead th {\n",
              "        text-align: right;\n",
              "    }\n",
              "</style>\n",
              "<table border=\"1\" class=\"dataframe\">\n",
              "  <thead>\n",
              "    <tr style=\"text-align: right;\">\n",
              "      <th></th>\n",
              "      <th>Protocol</th>\n",
              "      <th>Flow Duration</th>\n",
              "      <th>Tot Fwd Pkts</th>\n",
              "      <th>Tot Bwd Pkts</th>\n",
              "      <th>TotLen Fwd Pkts</th>\n",
              "      <th>TotLen Bwd Pkts</th>\n",
              "      <th>Fwd Pkt Len Max</th>\n",
              "      <th>Fwd Pkt Len Min</th>\n",
              "      <th>Fwd Pkt Len Mean</th>\n",
              "      <th>Fwd Pkt Len Std</th>\n",
              "      <th>...</th>\n",
              "      <th>Fwd Seg Size Min</th>\n",
              "      <th>Active Mean</th>\n",
              "      <th>Active Std</th>\n",
              "      <th>Active Max</th>\n",
              "      <th>Active Min</th>\n",
              "      <th>Idle Mean</th>\n",
              "      <th>Idle Std</th>\n",
              "      <th>Idle Max</th>\n",
              "      <th>Idle Min</th>\n",
              "      <th>Label</th>\n",
              "    </tr>\n",
              "  </thead>\n",
              "  <tbody>\n",
              "    <tr>\n",
              "      <th>9497246</th>\n",
              "      <td>17.0</td>\n",
              "      <td>43705.0</td>\n",
              "      <td>2.0</td>\n",
              "      <td>2.0</td>\n",
              "      <td>78.0</td>\n",
              "      <td>196.0</td>\n",
              "      <td>39.0</td>\n",
              "      <td>39.0</td>\n",
              "      <td>39.000000</td>\n",
              "      <td>0.000000</td>\n",
              "      <td>...</td>\n",
              "      <td>8.0</td>\n",
              "      <td>0.000000</td>\n",
              "      <td>0.000000</td>\n",
              "      <td>0.0</td>\n",
              "      <td>0.0</td>\n",
              "      <td>0.0</td>\n",
              "      <td>0.000000</td>\n",
              "      <td>0.0</td>\n",
              "      <td>0.0</td>\n",
              "      <td>0</td>\n",
              "    </tr>\n",
              "    <tr>\n",
              "      <th>9107654</th>\n",
              "      <td>6.0</td>\n",
              "      <td>28614199.0</td>\n",
              "      <td>9.0</td>\n",
              "      <td>11.0</td>\n",
              "      <td>324.0</td>\n",
              "      <td>3517.0</td>\n",
              "      <td>196.0</td>\n",
              "      <td>0.0</td>\n",
              "      <td>36.000000</td>\n",
              "      <td>72.998288</td>\n",
              "      <td>...</td>\n",
              "      <td>20.0</td>\n",
              "      <td>67788.333333</td>\n",
              "      <td>82307.381226</td>\n",
              "      <td>162306.0</td>\n",
              "      <td>11909.0</td>\n",
              "      <td>9469945.0</td>\n",
              "      <td>906914.347578</td>\n",
              "      <td>10033127.0</td>\n",
              "      <td>8423754.0</td>\n",
              "      <td>0</td>\n",
              "    </tr>\n",
              "    <tr>\n",
              "      <th>14010168</th>\n",
              "      <td>6.0</td>\n",
              "      <td>60366096.0</td>\n",
              "      <td>11.0</td>\n",
              "      <td>9.0</td>\n",
              "      <td>3736.0</td>\n",
              "      <td>4556.0</td>\n",
              "      <td>1141.0</td>\n",
              "      <td>0.0</td>\n",
              "      <td>339.636364</td>\n",
              "      <td>421.410316</td>\n",
              "      <td>...</td>\n",
              "      <td>20.0</td>\n",
              "      <td>0.000000</td>\n",
              "      <td>0.000000</td>\n",
              "      <td>0.0</td>\n",
              "      <td>0.0</td>\n",
              "      <td>0.0</td>\n",
              "      <td>0.000000</td>\n",
              "      <td>0.0</td>\n",
              "      <td>0.0</td>\n",
              "      <td>0</td>\n",
              "    </tr>\n",
              "    <tr>\n",
              "      <th>8500320</th>\n",
              "      <td>6.0</td>\n",
              "      <td>40.0</td>\n",
              "      <td>2.0</td>\n",
              "      <td>0.0</td>\n",
              "      <td>0.0</td>\n",
              "      <td>0.0</td>\n",
              "      <td>0.0</td>\n",
              "      <td>0.0</td>\n",
              "      <td>0.000000</td>\n",
              "      <td>0.000000</td>\n",
              "      <td>...</td>\n",
              "      <td>20.0</td>\n",
              "      <td>0.000000</td>\n",
              "      <td>0.000000</td>\n",
              "      <td>0.0</td>\n",
              "      <td>0.0</td>\n",
              "      <td>0.0</td>\n",
              "      <td>0.000000</td>\n",
              "      <td>0.0</td>\n",
              "      <td>0.0</td>\n",
              "      <td>0</td>\n",
              "    </tr>\n",
              "    <tr>\n",
              "      <th>1763191</th>\n",
              "      <td>6.0</td>\n",
              "      <td>4236838.0</td>\n",
              "      <td>5.0</td>\n",
              "      <td>3.0</td>\n",
              "      <td>935.0</td>\n",
              "      <td>376.0</td>\n",
              "      <td>935.0</td>\n",
              "      <td>0.0</td>\n",
              "      <td>187.000000</td>\n",
              "      <td>418.144712</td>\n",
              "      <td>...</td>\n",
              "      <td>32.0</td>\n",
              "      <td>0.000000</td>\n",
              "      <td>0.000000</td>\n",
              "      <td>0.0</td>\n",
              "      <td>0.0</td>\n",
              "      <td>0.0</td>\n",
              "      <td>0.000000</td>\n",
              "      <td>0.0</td>\n",
              "      <td>0.0</td>\n",
              "      <td>0</td>\n",
              "    </tr>\n",
              "    <tr>\n",
              "      <th>...</th>\n",
              "      <td>...</td>\n",
              "      <td>...</td>\n",
              "      <td>...</td>\n",
              "      <td>...</td>\n",
              "      <td>...</td>\n",
              "      <td>...</td>\n",
              "      <td>...</td>\n",
              "      <td>...</td>\n",
              "      <td>...</td>\n",
              "      <td>...</td>\n",
              "      <td>...</td>\n",
              "      <td>...</td>\n",
              "      <td>...</td>\n",
              "      <td>...</td>\n",
              "      <td>...</td>\n",
              "      <td>...</td>\n",
              "      <td>...</td>\n",
              "      <td>...</td>\n",
              "      <td>...</td>\n",
              "      <td>...</td>\n",
              "      <td>...</td>\n",
              "    </tr>\n",
              "    <tr>\n",
              "      <th>15619886</th>\n",
              "      <td>6.0</td>\n",
              "      <td>10855.0</td>\n",
              "      <td>2.0</td>\n",
              "      <td>0.0</td>\n",
              "      <td>0.0</td>\n",
              "      <td>0.0</td>\n",
              "      <td>0.0</td>\n",
              "      <td>0.0</td>\n",
              "      <td>0.000000</td>\n",
              "      <td>0.000000</td>\n",
              "      <td>...</td>\n",
              "      <td>20.0</td>\n",
              "      <td>0.000000</td>\n",
              "      <td>0.000000</td>\n",
              "      <td>0.0</td>\n",
              "      <td>0.0</td>\n",
              "      <td>0.0</td>\n",
              "      <td>0.000000</td>\n",
              "      <td>0.0</td>\n",
              "      <td>0.0</td>\n",
              "      <td>3</td>\n",
              "    </tr>\n",
              "    <tr>\n",
              "      <th>15619887</th>\n",
              "      <td>6.0</td>\n",
              "      <td>1330.0</td>\n",
              "      <td>2.0</td>\n",
              "      <td>0.0</td>\n",
              "      <td>0.0</td>\n",
              "      <td>0.0</td>\n",
              "      <td>0.0</td>\n",
              "      <td>0.0</td>\n",
              "      <td>0.000000</td>\n",
              "      <td>0.000000</td>\n",
              "      <td>...</td>\n",
              "      <td>20.0</td>\n",
              "      <td>0.000000</td>\n",
              "      <td>0.000000</td>\n",
              "      <td>0.0</td>\n",
              "      <td>0.0</td>\n",
              "      <td>0.0</td>\n",
              "      <td>0.000000</td>\n",
              "      <td>0.0</td>\n",
              "      <td>0.0</td>\n",
              "      <td>3</td>\n",
              "    </tr>\n",
              "    <tr>\n",
              "      <th>15619888</th>\n",
              "      <td>6.0</td>\n",
              "      <td>1638.0</td>\n",
              "      <td>2.0</td>\n",
              "      <td>0.0</td>\n",
              "      <td>0.0</td>\n",
              "      <td>0.0</td>\n",
              "      <td>0.0</td>\n",
              "      <td>0.0</td>\n",
              "      <td>0.000000</td>\n",
              "      <td>0.000000</td>\n",
              "      <td>...</td>\n",
              "      <td>20.0</td>\n",
              "      <td>0.000000</td>\n",
              "      <td>0.000000</td>\n",
              "      <td>0.0</td>\n",
              "      <td>0.0</td>\n",
              "      <td>0.0</td>\n",
              "      <td>0.000000</td>\n",
              "      <td>0.0</td>\n",
              "      <td>0.0</td>\n",
              "      <td>3</td>\n",
              "    </tr>\n",
              "    <tr>\n",
              "      <th>15619891</th>\n",
              "      <td>6.0</td>\n",
              "      <td>1480.0</td>\n",
              "      <td>2.0</td>\n",
              "      <td>0.0</td>\n",
              "      <td>0.0</td>\n",
              "      <td>0.0</td>\n",
              "      <td>0.0</td>\n",
              "      <td>0.0</td>\n",
              "      <td>0.000000</td>\n",
              "      <td>0.000000</td>\n",
              "      <td>...</td>\n",
              "      <td>20.0</td>\n",
              "      <td>0.000000</td>\n",
              "      <td>0.000000</td>\n",
              "      <td>0.0</td>\n",
              "      <td>0.0</td>\n",
              "      <td>0.0</td>\n",
              "      <td>0.000000</td>\n",
              "      <td>0.0</td>\n",
              "      <td>0.0</td>\n",
              "      <td>3</td>\n",
              "    </tr>\n",
              "    <tr>\n",
              "      <th>15619892</th>\n",
              "      <td>6.0</td>\n",
              "      <td>1827.0</td>\n",
              "      <td>2.0</td>\n",
              "      <td>0.0</td>\n",
              "      <td>0.0</td>\n",
              "      <td>0.0</td>\n",
              "      <td>0.0</td>\n",
              "      <td>0.0</td>\n",
              "      <td>0.000000</td>\n",
              "      <td>0.000000</td>\n",
              "      <td>...</td>\n",
              "      <td>20.0</td>\n",
              "      <td>0.000000</td>\n",
              "      <td>0.000000</td>\n",
              "      <td>0.0</td>\n",
              "      <td>0.0</td>\n",
              "      <td>0.0</td>\n",
              "      <td>0.000000</td>\n",
              "      <td>0.0</td>\n",
              "      <td>0.0</td>\n",
              "      <td>3</td>\n",
              "    </tr>\n",
              "  </tbody>\n",
              "</table>\n",
              "<p>3238299 rows × 78 columns</p>\n",
              "</div>"
            ],
            "text/plain": [
              "          Protocol  Flow Duration  Tot Fwd Pkts  Tot Bwd Pkts  \\\n",
              "9497246       17.0        43705.0           2.0           2.0   \n",
              "9107654        6.0     28614199.0           9.0          11.0   \n",
              "14010168       6.0     60366096.0          11.0           9.0   \n",
              "8500320        6.0           40.0           2.0           0.0   \n",
              "1763191        6.0      4236838.0           5.0           3.0   \n",
              "...            ...            ...           ...           ...   \n",
              "15619886       6.0        10855.0           2.0           0.0   \n",
              "15619887       6.0         1330.0           2.0           0.0   \n",
              "15619888       6.0         1638.0           2.0           0.0   \n",
              "15619891       6.0         1480.0           2.0           0.0   \n",
              "15619892       6.0         1827.0           2.0           0.0   \n",
              "\n",
              "          TotLen Fwd Pkts  TotLen Bwd Pkts  Fwd Pkt Len Max  Fwd Pkt Len Min  \\\n",
              "9497246              78.0            196.0             39.0             39.0   \n",
              "9107654             324.0           3517.0            196.0              0.0   \n",
              "14010168           3736.0           4556.0           1141.0              0.0   \n",
              "8500320               0.0              0.0              0.0              0.0   \n",
              "1763191             935.0            376.0            935.0              0.0   \n",
              "...                   ...              ...              ...              ...   \n",
              "15619886              0.0              0.0              0.0              0.0   \n",
              "15619887              0.0              0.0              0.0              0.0   \n",
              "15619888              0.0              0.0              0.0              0.0   \n",
              "15619891              0.0              0.0              0.0              0.0   \n",
              "15619892              0.0              0.0              0.0              0.0   \n",
              "\n",
              "          Fwd Pkt Len Mean  Fwd Pkt Len Std  ...  Fwd Seg Size Min  \\\n",
              "9497246          39.000000         0.000000  ...               8.0   \n",
              "9107654          36.000000        72.998288  ...              20.0   \n",
              "14010168        339.636364       421.410316  ...              20.0   \n",
              "8500320           0.000000         0.000000  ...              20.0   \n",
              "1763191         187.000000       418.144712  ...              32.0   \n",
              "...                    ...              ...  ...               ...   \n",
              "15619886          0.000000         0.000000  ...              20.0   \n",
              "15619887          0.000000         0.000000  ...              20.0   \n",
              "15619888          0.000000         0.000000  ...              20.0   \n",
              "15619891          0.000000         0.000000  ...              20.0   \n",
              "15619892          0.000000         0.000000  ...              20.0   \n",
              "\n",
              "           Active Mean    Active Std  Active Max  Active Min  Idle Mean  \\\n",
              "9497246       0.000000      0.000000         0.0         0.0        0.0   \n",
              "9107654   67788.333333  82307.381226    162306.0     11909.0  9469945.0   \n",
              "14010168      0.000000      0.000000         0.0         0.0        0.0   \n",
              "8500320       0.000000      0.000000         0.0         0.0        0.0   \n",
              "1763191       0.000000      0.000000         0.0         0.0        0.0   \n",
              "...                ...           ...         ...         ...        ...   \n",
              "15619886      0.000000      0.000000         0.0         0.0        0.0   \n",
              "15619887      0.000000      0.000000         0.0         0.0        0.0   \n",
              "15619888      0.000000      0.000000         0.0         0.0        0.0   \n",
              "15619891      0.000000      0.000000         0.0         0.0        0.0   \n",
              "15619892      0.000000      0.000000         0.0         0.0        0.0   \n",
              "\n",
              "               Idle Std    Idle Max   Idle Min  Label  \n",
              "9497246        0.000000         0.0        0.0      0  \n",
              "9107654   906914.347578  10033127.0  8423754.0      0  \n",
              "14010168       0.000000         0.0        0.0      0  \n",
              "8500320        0.000000         0.0        0.0      0  \n",
              "1763191        0.000000         0.0        0.0      0  \n",
              "...                 ...         ...        ...    ...  \n",
              "15619886       0.000000         0.0        0.0      3  \n",
              "15619887       0.000000         0.0        0.0      3  \n",
              "15619888       0.000000         0.0        0.0      3  \n",
              "15619891       0.000000         0.0        0.0      3  \n",
              "15619892       0.000000         0.0        0.0      3  \n",
              "\n",
              "[3238299 rows x 78 columns]"
            ]
          },
          "execution_count": 35,
          "metadata": {},
          "output_type": "execute_result"
        }
      ],
      "source": [
        "train_dataframe"
      ]
    },
    {
      "cell_type": "code",
      "execution_count": 11,
      "metadata": {},
      "outputs": [
        {
          "data": {
            "text/html": [
              "<div>\n",
              "<style scoped>\n",
              "    .dataframe tbody tr th:only-of-type {\n",
              "        vertical-align: middle;\n",
              "    }\n",
              "\n",
              "    .dataframe tbody tr th {\n",
              "        vertical-align: top;\n",
              "    }\n",
              "\n",
              "    .dataframe thead th {\n",
              "        text-align: right;\n",
              "    }\n",
              "</style>\n",
              "<table border=\"1\" class=\"dataframe\">\n",
              "  <thead>\n",
              "    <tr style=\"text-align: right;\">\n",
              "      <th></th>\n",
              "      <th>Protocol</th>\n",
              "      <th>Flow Duration</th>\n",
              "      <th>Tot Fwd Pkts</th>\n",
              "      <th>Tot Bwd Pkts</th>\n",
              "      <th>TotLen Fwd Pkts</th>\n",
              "      <th>TotLen Bwd Pkts</th>\n",
              "      <th>Fwd Pkt Len Max</th>\n",
              "      <th>Fwd Pkt Len Min</th>\n",
              "      <th>Fwd Pkt Len Mean</th>\n",
              "      <th>Fwd Pkt Len Std</th>\n",
              "      <th>...</th>\n",
              "      <th>Fwd Seg Size Min</th>\n",
              "      <th>Active Mean</th>\n",
              "      <th>Active Std</th>\n",
              "      <th>Active Max</th>\n",
              "      <th>Active Min</th>\n",
              "      <th>Idle Mean</th>\n",
              "      <th>Idle Std</th>\n",
              "      <th>Idle Max</th>\n",
              "      <th>Idle Min</th>\n",
              "      <th>Label</th>\n",
              "    </tr>\n",
              "  </thead>\n",
              "  <tbody>\n",
              "    <tr>\n",
              "      <th>0</th>\n",
              "      <td>6.0</td>\n",
              "      <td>141385.0</td>\n",
              "      <td>9.0</td>\n",
              "      <td>7.0</td>\n",
              "      <td>553.0</td>\n",
              "      <td>3773.0</td>\n",
              "      <td>202.0</td>\n",
              "      <td>0.0</td>\n",
              "      <td>61.444444</td>\n",
              "      <td>87.534438</td>\n",
              "      <td>...</td>\n",
              "      <td>20.0</td>\n",
              "      <td>0.0</td>\n",
              "      <td>0.0</td>\n",
              "      <td>0.0</td>\n",
              "      <td>0.0</td>\n",
              "      <td>0.0</td>\n",
              "      <td>0.0</td>\n",
              "      <td>0.0</td>\n",
              "      <td>0.0</td>\n",
              "      <td>0</td>\n",
              "    </tr>\n",
              "    <tr>\n",
              "      <th>1</th>\n",
              "      <td>6.0</td>\n",
              "      <td>281.0</td>\n",
              "      <td>2.0</td>\n",
              "      <td>1.0</td>\n",
              "      <td>38.0</td>\n",
              "      <td>0.0</td>\n",
              "      <td>38.0</td>\n",
              "      <td>0.0</td>\n",
              "      <td>19.000000</td>\n",
              "      <td>26.870058</td>\n",
              "      <td>...</td>\n",
              "      <td>20.0</td>\n",
              "      <td>0.0</td>\n",
              "      <td>0.0</td>\n",
              "      <td>0.0</td>\n",
              "      <td>0.0</td>\n",
              "      <td>0.0</td>\n",
              "      <td>0.0</td>\n",
              "      <td>0.0</td>\n",
              "      <td>0.0</td>\n",
              "      <td>0</td>\n",
              "    </tr>\n",
              "    <tr>\n",
              "      <th>2</th>\n",
              "      <td>6.0</td>\n",
              "      <td>279824.0</td>\n",
              "      <td>11.0</td>\n",
              "      <td>15.0</td>\n",
              "      <td>1086.0</td>\n",
              "      <td>10527.0</td>\n",
              "      <td>385.0</td>\n",
              "      <td>0.0</td>\n",
              "      <td>98.727273</td>\n",
              "      <td>129.392497</td>\n",
              "      <td>...</td>\n",
              "      <td>20.0</td>\n",
              "      <td>0.0</td>\n",
              "      <td>0.0</td>\n",
              "      <td>0.0</td>\n",
              "      <td>0.0</td>\n",
              "      <td>0.0</td>\n",
              "      <td>0.0</td>\n",
              "      <td>0.0</td>\n",
              "      <td>0.0</td>\n",
              "      <td>0</td>\n",
              "    </tr>\n",
              "    <tr>\n",
              "      <th>3</th>\n",
              "      <td>6.0</td>\n",
              "      <td>132.0</td>\n",
              "      <td>2.0</td>\n",
              "      <td>0.0</td>\n",
              "      <td>0.0</td>\n",
              "      <td>0.0</td>\n",
              "      <td>0.0</td>\n",
              "      <td>0.0</td>\n",
              "      <td>0.000000</td>\n",
              "      <td>0.000000</td>\n",
              "      <td>...</td>\n",
              "      <td>20.0</td>\n",
              "      <td>0.0</td>\n",
              "      <td>0.0</td>\n",
              "      <td>0.0</td>\n",
              "      <td>0.0</td>\n",
              "      <td>0.0</td>\n",
              "      <td>0.0</td>\n",
              "      <td>0.0</td>\n",
              "      <td>0.0</td>\n",
              "      <td>0</td>\n",
              "    </tr>\n",
              "    <tr>\n",
              "      <th>4</th>\n",
              "      <td>6.0</td>\n",
              "      <td>274016.0</td>\n",
              "      <td>9.0</td>\n",
              "      <td>13.0</td>\n",
              "      <td>1285.0</td>\n",
              "      <td>6141.0</td>\n",
              "      <td>517.0</td>\n",
              "      <td>0.0</td>\n",
              "      <td>142.777778</td>\n",
              "      <td>183.887722</td>\n",
              "      <td>...</td>\n",
              "      <td>20.0</td>\n",
              "      <td>0.0</td>\n",
              "      <td>0.0</td>\n",
              "      <td>0.0</td>\n",
              "      <td>0.0</td>\n",
              "      <td>0.0</td>\n",
              "      <td>0.0</td>\n",
              "      <td>0.0</td>\n",
              "      <td>0.0</td>\n",
              "      <td>0</td>\n",
              "    </tr>\n",
              "    <tr>\n",
              "      <th>...</th>\n",
              "      <td>...</td>\n",
              "      <td>...</td>\n",
              "      <td>...</td>\n",
              "      <td>...</td>\n",
              "      <td>...</td>\n",
              "      <td>...</td>\n",
              "      <td>...</td>\n",
              "      <td>...</td>\n",
              "      <td>...</td>\n",
              "      <td>...</td>\n",
              "      <td>...</td>\n",
              "      <td>...</td>\n",
              "      <td>...</td>\n",
              "      <td>...</td>\n",
              "      <td>...</td>\n",
              "      <td>...</td>\n",
              "      <td>...</td>\n",
              "      <td>...</td>\n",
              "      <td>...</td>\n",
              "      <td>...</td>\n",
              "      <td>...</td>\n",
              "    </tr>\n",
              "    <tr>\n",
              "      <th>16232997</th>\n",
              "      <td>6.0</td>\n",
              "      <td>3.0</td>\n",
              "      <td>1.0</td>\n",
              "      <td>1.0</td>\n",
              "      <td>0.0</td>\n",
              "      <td>0.0</td>\n",
              "      <td>0.0</td>\n",
              "      <td>0.0</td>\n",
              "      <td>0.000000</td>\n",
              "      <td>0.000000</td>\n",
              "      <td>...</td>\n",
              "      <td>24.0</td>\n",
              "      <td>0.0</td>\n",
              "      <td>0.0</td>\n",
              "      <td>0.0</td>\n",
              "      <td>0.0</td>\n",
              "      <td>0.0</td>\n",
              "      <td>0.0</td>\n",
              "      <td>0.0</td>\n",
              "      <td>0.0</td>\n",
              "      <td>14</td>\n",
              "    </tr>\n",
              "    <tr>\n",
              "      <th>16232998</th>\n",
              "      <td>6.0</td>\n",
              "      <td>2.0</td>\n",
              "      <td>1.0</td>\n",
              "      <td>1.0</td>\n",
              "      <td>0.0</td>\n",
              "      <td>0.0</td>\n",
              "      <td>0.0</td>\n",
              "      <td>0.0</td>\n",
              "      <td>0.000000</td>\n",
              "      <td>0.000000</td>\n",
              "      <td>...</td>\n",
              "      <td>24.0</td>\n",
              "      <td>0.0</td>\n",
              "      <td>0.0</td>\n",
              "      <td>0.0</td>\n",
              "      <td>0.0</td>\n",
              "      <td>0.0</td>\n",
              "      <td>0.0</td>\n",
              "      <td>0.0</td>\n",
              "      <td>0.0</td>\n",
              "      <td>14</td>\n",
              "    </tr>\n",
              "    <tr>\n",
              "      <th>16232999</th>\n",
              "      <td>6.0</td>\n",
              "      <td>732728.0</td>\n",
              "      <td>2.0</td>\n",
              "      <td>2.0</td>\n",
              "      <td>0.0</td>\n",
              "      <td>0.0</td>\n",
              "      <td>0.0</td>\n",
              "      <td>0.0</td>\n",
              "      <td>0.000000</td>\n",
              "      <td>0.000000</td>\n",
              "      <td>...</td>\n",
              "      <td>32.0</td>\n",
              "      <td>0.0</td>\n",
              "      <td>0.0</td>\n",
              "      <td>0.0</td>\n",
              "      <td>0.0</td>\n",
              "      <td>0.0</td>\n",
              "      <td>0.0</td>\n",
              "      <td>0.0</td>\n",
              "      <td>0.0</td>\n",
              "      <td>0</td>\n",
              "    </tr>\n",
              "    <tr>\n",
              "      <th>16233000</th>\n",
              "      <td>6.0</td>\n",
              "      <td>22.0</td>\n",
              "      <td>1.0</td>\n",
              "      <td>1.0</td>\n",
              "      <td>0.0</td>\n",
              "      <td>0.0</td>\n",
              "      <td>0.0</td>\n",
              "      <td>0.0</td>\n",
              "      <td>0.000000</td>\n",
              "      <td>0.000000</td>\n",
              "      <td>...</td>\n",
              "      <td>24.0</td>\n",
              "      <td>0.0</td>\n",
              "      <td>0.0</td>\n",
              "      <td>0.0</td>\n",
              "      <td>0.0</td>\n",
              "      <td>0.0</td>\n",
              "      <td>0.0</td>\n",
              "      <td>0.0</td>\n",
              "      <td>0.0</td>\n",
              "      <td>14</td>\n",
              "    </tr>\n",
              "    <tr>\n",
              "      <th>16233001</th>\n",
              "      <td>6.0</td>\n",
              "      <td>2.0</td>\n",
              "      <td>1.0</td>\n",
              "      <td>1.0</td>\n",
              "      <td>0.0</td>\n",
              "      <td>0.0</td>\n",
              "      <td>0.0</td>\n",
              "      <td>0.0</td>\n",
              "      <td>0.000000</td>\n",
              "      <td>0.000000</td>\n",
              "      <td>...</td>\n",
              "      <td>24.0</td>\n",
              "      <td>0.0</td>\n",
              "      <td>0.0</td>\n",
              "      <td>0.0</td>\n",
              "      <td>0.0</td>\n",
              "      <td>0.0</td>\n",
              "      <td>0.0</td>\n",
              "      <td>0.0</td>\n",
              "      <td>0.0</td>\n",
              "      <td>14</td>\n",
              "    </tr>\n",
              "  </tbody>\n",
              "</table>\n",
              "<p>13787230 rows × 78 columns</p>\n",
              "</div>"
            ],
            "text/plain": [
              "          Protocol  Flow Duration  Tot Fwd Pkts  Tot Bwd Pkts  \\\n",
              "0              6.0       141385.0           9.0           7.0   \n",
              "1              6.0          281.0           2.0           1.0   \n",
              "2              6.0       279824.0          11.0          15.0   \n",
              "3              6.0          132.0           2.0           0.0   \n",
              "4              6.0       274016.0           9.0          13.0   \n",
              "...            ...            ...           ...           ...   \n",
              "16232997       6.0            3.0           1.0           1.0   \n",
              "16232998       6.0            2.0           1.0           1.0   \n",
              "16232999       6.0       732728.0           2.0           2.0   \n",
              "16233000       6.0           22.0           1.0           1.0   \n",
              "16233001       6.0            2.0           1.0           1.0   \n",
              "\n",
              "          TotLen Fwd Pkts  TotLen Bwd Pkts  Fwd Pkt Len Max  Fwd Pkt Len Min  \\\n",
              "0                   553.0           3773.0            202.0              0.0   \n",
              "1                    38.0              0.0             38.0              0.0   \n",
              "2                  1086.0          10527.0            385.0              0.0   \n",
              "3                     0.0              0.0              0.0              0.0   \n",
              "4                  1285.0           6141.0            517.0              0.0   \n",
              "...                   ...              ...              ...              ...   \n",
              "16232997              0.0              0.0              0.0              0.0   \n",
              "16232998              0.0              0.0              0.0              0.0   \n",
              "16232999              0.0              0.0              0.0              0.0   \n",
              "16233000              0.0              0.0              0.0              0.0   \n",
              "16233001              0.0              0.0              0.0              0.0   \n",
              "\n",
              "          Fwd Pkt Len Mean  Fwd Pkt Len Std  ...  Fwd Seg Size Min  \\\n",
              "0                61.444444        87.534438  ...              20.0   \n",
              "1                19.000000        26.870058  ...              20.0   \n",
              "2                98.727273       129.392497  ...              20.0   \n",
              "3                 0.000000         0.000000  ...              20.0   \n",
              "4               142.777778       183.887722  ...              20.0   \n",
              "...                    ...              ...  ...               ...   \n",
              "16232997          0.000000         0.000000  ...              24.0   \n",
              "16232998          0.000000         0.000000  ...              24.0   \n",
              "16232999          0.000000         0.000000  ...              32.0   \n",
              "16233000          0.000000         0.000000  ...              24.0   \n",
              "16233001          0.000000         0.000000  ...              24.0   \n",
              "\n",
              "          Active Mean  Active Std  Active Max  Active Min  Idle Mean  \\\n",
              "0                 0.0         0.0         0.0         0.0        0.0   \n",
              "1                 0.0         0.0         0.0         0.0        0.0   \n",
              "2                 0.0         0.0         0.0         0.0        0.0   \n",
              "3                 0.0         0.0         0.0         0.0        0.0   \n",
              "4                 0.0         0.0         0.0         0.0        0.0   \n",
              "...               ...         ...         ...         ...        ...   \n",
              "16232997          0.0         0.0         0.0         0.0        0.0   \n",
              "16232998          0.0         0.0         0.0         0.0        0.0   \n",
              "16232999          0.0         0.0         0.0         0.0        0.0   \n",
              "16233000          0.0         0.0         0.0         0.0        0.0   \n",
              "16233001          0.0         0.0         0.0         0.0        0.0   \n",
              "\n",
              "          Idle Std  Idle Max  Idle Min  Label  \n",
              "0              0.0       0.0       0.0      0  \n",
              "1              0.0       0.0       0.0      0  \n",
              "2              0.0       0.0       0.0      0  \n",
              "3              0.0       0.0       0.0      0  \n",
              "4              0.0       0.0       0.0      0  \n",
              "...            ...       ...       ...    ...  \n",
              "16232997       0.0       0.0       0.0     14  \n",
              "16232998       0.0       0.0       0.0     14  \n",
              "16232999       0.0       0.0       0.0      0  \n",
              "16233000       0.0       0.0       0.0     14  \n",
              "16233001       0.0       0.0       0.0     14  \n",
              "\n",
              "[13787230 rows x 78 columns]"
            ]
          },
          "execution_count": 11,
          "metadata": {},
          "output_type": "execute_result"
        }
      ],
      "source": [
        "test_dataframe"
      ]
    },
    {
      "cell_type": "code",
      "execution_count": 12,
      "metadata": {
        "colab": {
          "base_uri": "https://localhost:8080/"
        },
        "id": "WCswOD-9cwoT",
        "outputId": "c2300329-e3d8-41cf-875b-c544296c337f"
      },
      "outputs": [
        {
          "data": {
            "text/plain": [
              "[tensor([[6.0000e+00, 6.5100e+02, 2.0000e+00,  ..., 0.0000e+00, 0.0000e+00,\n",
              "          1.0000e+00],\n",
              "         [6.0000e+00, 7.0000e+00, 1.0000e+00,  ..., 0.0000e+00, 0.0000e+00,\n",
              "          1.0000e+01],\n",
              "         [6.0000e+00, 6.0066e+05, 3.0000e+00,  ..., 0.0000e+00, 0.0000e+00,\n",
              "          5.0000e+00],\n",
              "         ...,\n",
              "         [6.0000e+00, 8.6835e+07, 2.0000e+00,  ..., 8.6800e+07, 8.6800e+07,\n",
              "          5.0000e+00],\n",
              "         [6.0000e+00, 1.0060e+06, 3.0000e+00,  ..., 0.0000e+00, 0.0000e+00,\n",
              "          5.0000e+00],\n",
              "         [6.0000e+00, 9.0890e+03, 2.0000e+00,  ..., 0.0000e+00, 0.0000e+00,\n",
              "          3.0000e+00]]),\n",
              " tensor([ 1., 10.,  5.,  3., 10.,  3.,  3.,  5.,  5.,  5.,  5.,  1.,  7.,  5.,\n",
              "         10.,  7.,  3.,  7.,  3.,  7., 10., 10.,  3.,  7.,  7.,  7.,  5.,  3.,\n",
              "          3.,  5.,  5.,  3.])]"
            ]
          },
          "execution_count": 12,
          "metadata": {},
          "output_type": "execute_result"
        }
      ],
      "source": [
        "next(iter(train_data_loader))"
      ]
    },
    {
      "cell_type": "code",
      "execution_count": 24,
      "metadata": {
        "colab": {
          "base_uri": "https://localhost:8080/"
        },
        "id": "3NPEA4lwcwoT",
        "outputId": "78c3efdf-ea3b-443b-a356-2893e16718a1"
      },
      "outputs": [
        {
          "data": {
            "text/plain": [
              "[tensor([[6.0000e+00, 5.2026e+06, 1.4000e+01,  ..., 0.0000e+00, 0.0000e+00,\n",
              "          0.0000e+00],\n",
              "         [1.7000e+01, 2.9645e+05, 2.0000e+00,  ..., 0.0000e+00, 0.0000e+00,\n",
              "          0.0000e+00],\n",
              "         [1.7000e+01, 1.0120e+03, 1.0000e+00,  ..., 0.0000e+00, 0.0000e+00,\n",
              "          0.0000e+00],\n",
              "         ...,\n",
              "         [1.7000e+01, 3.0700e+02, 1.0000e+00,  ..., 0.0000e+00, 0.0000e+00,\n",
              "          0.0000e+00],\n",
              "         [1.7000e+01, 1.4464e+05, 2.0000e+00,  ..., 0.0000e+00, 0.0000e+00,\n",
              "          0.0000e+00],\n",
              "         [6.0000e+00, 8.7000e+01, 2.0000e+00,  ..., 0.0000e+00, 0.0000e+00,\n",
              "          0.0000e+00]]),\n",
              " tensor([ 0.,  0.,  0.,  0.,  0.,  0.,  0.,  0.,  0., 14.,  0.,  0.,  0.,  0.,\n",
              "          0.,  0.,  0., 13.,  0.,  0.,  0.,  0.,  0.,  0.,  0.,  0.,  0.,  0.,\n",
              "          0.,  0.,  0.,  0.])]"
            ]
          },
          "execution_count": 24,
          "metadata": {},
          "output_type": "execute_result"
        }
      ],
      "source": [
        "next(iter(test_data_loader))"
      ]
    },
    {
      "cell_type": "markdown",
      "metadata": {},
      "source": [
        "#### **NB15v2**"
      ]
    },
    {
      "cell_type": "code",
      "execution_count": 7,
      "metadata": {},
      "outputs": [],
      "source": [
        "dataset: Dataset = Dataset(\n",
        "    \"./data/NB15v2/interim/corr_data.csv\"\n",
        ")"
      ]
    },
    {
      "cell_type": "code",
      "execution_count": 8,
      "metadata": {},
      "outputs": [],
      "source": [
        "dataset.drop_columns(['Label'])"
      ]
    },
    {
      "cell_type": "code",
      "execution_count": 9,
      "metadata": {},
      "outputs": [],
      "source": [
        "dataset.fix_data_type_to_numeric()"
      ]
    },
    {
      "cell_type": "code",
      "execution_count": 10,
      "metadata": {},
      "outputs": [
        {
          "data": {
            "text/plain": [
              "18"
            ]
          },
          "execution_count": 10,
          "metadata": {},
          "output_type": "execute_result"
        }
      ],
      "source": [
        "len(dataset.data.columns)"
      ]
    },
    {
      "cell_type": "code",
      "execution_count": 11,
      "metadata": {},
      "outputs": [],
      "source": [
        "labels_idx: dict = {label: i for i, label in enumerate(nb15v2_labels)}\n",
        "train_labels_idx: list = [\n",
        "    idx for label, idx in labels_idx.items() if label in nb15v2_train_labels\n",
        "]\n",
        "test_labels_idx: list = [idx for _, idx in labels_idx.items()]"
      ]
    },
    {
      "cell_type": "code",
      "execution_count": 12,
      "metadata": {},
      "outputs": [],
      "source": [
        "label_name = \"Attack\""
      ]
    },
    {
      "cell_type": "code",
      "execution_count": 13,
      "metadata": {},
      "outputs": [],
      "source": [
        "dataset.drop_columns(['Unnamed: 0', \"\"])"
      ]
    },
    {
      "cell_type": "code",
      "execution_count": 14,
      "metadata": {},
      "outputs": [
        {
          "data": {
            "text/html": [
              "<div>\n",
              "<style scoped>\n",
              "    .dataframe tbody tr th:only-of-type {\n",
              "        vertical-align: middle;\n",
              "    }\n",
              "\n",
              "    .dataframe tbody tr th {\n",
              "        vertical-align: top;\n",
              "    }\n",
              "\n",
              "    .dataframe thead th {\n",
              "        text-align: right;\n",
              "    }\n",
              "</style>\n",
              "<table border=\"1\" class=\"dataframe\">\n",
              "  <thead>\n",
              "    <tr style=\"text-align: right;\">\n",
              "      <th></th>\n",
              "      <th>PROTOCOL</th>\n",
              "      <th>OUT_PKTS</th>\n",
              "      <th>TCP_FLAGS</th>\n",
              "      <th>CLIENT_TCP_FLAGS</th>\n",
              "      <th>SERVER_TCP_FLAGS</th>\n",
              "      <th>MIN_TTL</th>\n",
              "      <th>MAX_TTL</th>\n",
              "      <th>LONGEST_FLOW_PKT</th>\n",
              "      <th>SHORTEST_FLOW_PKT</th>\n",
              "      <th>MIN_IP_PKT_LEN</th>\n",
              "      <th>MAX_IP_PKT_LEN</th>\n",
              "      <th>DST_TO_SRC_AVG_THROUGHPUT</th>\n",
              "      <th>NUM_PKTS_UP_TO_128_BYTES</th>\n",
              "      <th>TCP_WIN_MAX_IN</th>\n",
              "      <th>TCP_WIN_MAX_OUT</th>\n",
              "      <th>FTP_COMMAND_RET_CODE</th>\n",
              "      <th>Attack</th>\n",
              "    </tr>\n",
              "  </thead>\n",
              "  <tbody>\n",
              "    <tr>\n",
              "      <th>0</th>\n",
              "      <td>6</td>\n",
              "      <td>18</td>\n",
              "      <td>27</td>\n",
              "      <td>27</td>\n",
              "      <td>27</td>\n",
              "      <td>31</td>\n",
              "      <td>32</td>\n",
              "      <td>1500</td>\n",
              "      <td>52</td>\n",
              "      <td>52</td>\n",
              "      <td>1500</td>\n",
              "      <td>81344000</td>\n",
              "      <td>18</td>\n",
              "      <td>11584</td>\n",
              "      <td>8688</td>\n",
              "      <td>0.0</td>\n",
              "      <td>2</td>\n",
              "    </tr>\n",
              "    <tr>\n",
              "      <th>1</th>\n",
              "      <td>6</td>\n",
              "      <td>86</td>\n",
              "      <td>27</td>\n",
              "      <td>27</td>\n",
              "      <td>27</td>\n",
              "      <td>31</td>\n",
              "      <td>32</td>\n",
              "      <td>1352</td>\n",
              "      <td>52</td>\n",
              "      <td>52</td>\n",
              "      <td>1352</td>\n",
              "      <td>633888000</td>\n",
              "      <td>110</td>\n",
              "      <td>56472</td>\n",
              "      <td>14480</td>\n",
              "      <td>0.0</td>\n",
              "      <td>2</td>\n",
              "    </tr>\n",
              "    <tr>\n",
              "      <th>2</th>\n",
              "      <td>6</td>\n",
              "      <td>12</td>\n",
              "      <td>27</td>\n",
              "      <td>27</td>\n",
              "      <td>27</td>\n",
              "      <td>31</td>\n",
              "      <td>32</td>\n",
              "      <td>829</td>\n",
              "      <td>52</td>\n",
              "      <td>52</td>\n",
              "      <td>829</td>\n",
              "      <td>18096000</td>\n",
              "      <td>20</td>\n",
              "      <td>10136</td>\n",
              "      <td>10136</td>\n",
              "      <td>0.0</td>\n",
              "      <td>2</td>\n",
              "    </tr>\n",
              "    <tr>\n",
              "      <th>3</th>\n",
              "      <td>6</td>\n",
              "      <td>50</td>\n",
              "      <td>27</td>\n",
              "      <td>27</td>\n",
              "      <td>27</td>\n",
              "      <td>31</td>\n",
              "      <td>32</td>\n",
              "      <td>1352</td>\n",
              "      <td>52</td>\n",
              "      <td>52</td>\n",
              "      <td>1352</td>\n",
              "      <td>271056000</td>\n",
              "      <td>74</td>\n",
              "      <td>30408</td>\n",
              "      <td>14480</td>\n",
              "      <td>0.0</td>\n",
              "      <td>2</td>\n",
              "    </tr>\n",
              "    <tr>\n",
              "      <th>4</th>\n",
              "      <td>6</td>\n",
              "      <td>18</td>\n",
              "      <td>27</td>\n",
              "      <td>27</td>\n",
              "      <td>27</td>\n",
              "      <td>31</td>\n",
              "      <td>32</td>\n",
              "      <td>1128</td>\n",
              "      <td>52</td>\n",
              "      <td>52</td>\n",
              "      <td>1128</td>\n",
              "      <td>19648000</td>\n",
              "      <td>14</td>\n",
              "      <td>14480</td>\n",
              "      <td>14480</td>\n",
              "      <td>0.0</td>\n",
              "      <td>2</td>\n",
              "    </tr>\n",
              "    <tr>\n",
              "      <th>...</th>\n",
              "      <td>...</td>\n",
              "      <td>...</td>\n",
              "      <td>...</td>\n",
              "      <td>...</td>\n",
              "      <td>...</td>\n",
              "      <td>...</td>\n",
              "      <td>...</td>\n",
              "      <td>...</td>\n",
              "      <td>...</td>\n",
              "      <td>...</td>\n",
              "      <td>...</td>\n",
              "      <td>...</td>\n",
              "      <td>...</td>\n",
              "      <td>...</td>\n",
              "      <td>...</td>\n",
              "      <td>...</td>\n",
              "      <td>...</td>\n",
              "    </tr>\n",
              "    <tr>\n",
              "      <th>278666</th>\n",
              "      <td>2</td>\n",
              "      <td>0</td>\n",
              "      <td>0</td>\n",
              "      <td>0</td>\n",
              "      <td>0</td>\n",
              "      <td>254</td>\n",
              "      <td>254</td>\n",
              "      <td>40</td>\n",
              "      <td>40</td>\n",
              "      <td>0</td>\n",
              "      <td>40</td>\n",
              "      <td>0</td>\n",
              "      <td>2</td>\n",
              "      <td>0</td>\n",
              "      <td>0</td>\n",
              "      <td>0.0</td>\n",
              "      <td>5</td>\n",
              "    </tr>\n",
              "    <tr>\n",
              "      <th>278667</th>\n",
              "      <td>2</td>\n",
              "      <td>0</td>\n",
              "      <td>0</td>\n",
              "      <td>0</td>\n",
              "      <td>0</td>\n",
              "      <td>254</td>\n",
              "      <td>254</td>\n",
              "      <td>40</td>\n",
              "      <td>40</td>\n",
              "      <td>0</td>\n",
              "      <td>40</td>\n",
              "      <td>0</td>\n",
              "      <td>2</td>\n",
              "      <td>0</td>\n",
              "      <td>0</td>\n",
              "      <td>0.0</td>\n",
              "      <td>0</td>\n",
              "    </tr>\n",
              "    <tr>\n",
              "      <th>278668</th>\n",
              "      <td>2</td>\n",
              "      <td>0</td>\n",
              "      <td>0</td>\n",
              "      <td>0</td>\n",
              "      <td>0</td>\n",
              "      <td>254</td>\n",
              "      <td>254</td>\n",
              "      <td>40</td>\n",
              "      <td>40</td>\n",
              "      <td>0</td>\n",
              "      <td>40</td>\n",
              "      <td>0</td>\n",
              "      <td>2</td>\n",
              "      <td>0</td>\n",
              "      <td>0</td>\n",
              "      <td>0.0</td>\n",
              "      <td>1</td>\n",
              "    </tr>\n",
              "    <tr>\n",
              "      <th>278669</th>\n",
              "      <td>2</td>\n",
              "      <td>0</td>\n",
              "      <td>0</td>\n",
              "      <td>0</td>\n",
              "      <td>0</td>\n",
              "      <td>254</td>\n",
              "      <td>254</td>\n",
              "      <td>40</td>\n",
              "      <td>40</td>\n",
              "      <td>0</td>\n",
              "      <td>40</td>\n",
              "      <td>0</td>\n",
              "      <td>2</td>\n",
              "      <td>0</td>\n",
              "      <td>0</td>\n",
              "      <td>0.0</td>\n",
              "      <td>3</td>\n",
              "    </tr>\n",
              "    <tr>\n",
              "      <th>278670</th>\n",
              "      <td>2</td>\n",
              "      <td>0</td>\n",
              "      <td>0</td>\n",
              "      <td>0</td>\n",
              "      <td>0</td>\n",
              "      <td>254</td>\n",
              "      <td>254</td>\n",
              "      <td>40</td>\n",
              "      <td>40</td>\n",
              "      <td>0</td>\n",
              "      <td>40</td>\n",
              "      <td>0</td>\n",
              "      <td>2</td>\n",
              "      <td>0</td>\n",
              "      <td>0</td>\n",
              "      <td>0.0</td>\n",
              "      <td>4</td>\n",
              "    </tr>\n",
              "  </tbody>\n",
              "</table>\n",
              "<p>278671 rows × 17 columns</p>\n",
              "</div>"
            ],
            "text/plain": [
              "        PROTOCOL  OUT_PKTS  TCP_FLAGS  CLIENT_TCP_FLAGS  SERVER_TCP_FLAGS  \\\n",
              "0              6        18         27                27                27   \n",
              "1              6        86         27                27                27   \n",
              "2              6        12         27                27                27   \n",
              "3              6        50         27                27                27   \n",
              "4              6        18         27                27                27   \n",
              "...          ...       ...        ...               ...               ...   \n",
              "278666         2         0          0                 0                 0   \n",
              "278667         2         0          0                 0                 0   \n",
              "278668         2         0          0                 0                 0   \n",
              "278669         2         0          0                 0                 0   \n",
              "278670         2         0          0                 0                 0   \n",
              "\n",
              "        MIN_TTL  MAX_TTL  LONGEST_FLOW_PKT  SHORTEST_FLOW_PKT  MIN_IP_PKT_LEN  \\\n",
              "0            31       32              1500                 52              52   \n",
              "1            31       32              1352                 52              52   \n",
              "2            31       32               829                 52              52   \n",
              "3            31       32              1352                 52              52   \n",
              "4            31       32              1128                 52              52   \n",
              "...         ...      ...               ...                ...             ...   \n",
              "278666      254      254                40                 40               0   \n",
              "278667      254      254                40                 40               0   \n",
              "278668      254      254                40                 40               0   \n",
              "278669      254      254                40                 40               0   \n",
              "278670      254      254                40                 40               0   \n",
              "\n",
              "        MAX_IP_PKT_LEN  DST_TO_SRC_AVG_THROUGHPUT  NUM_PKTS_UP_TO_128_BYTES  \\\n",
              "0                 1500                   81344000                        18   \n",
              "1                 1352                  633888000                       110   \n",
              "2                  829                   18096000                        20   \n",
              "3                 1352                  271056000                        74   \n",
              "4                 1128                   19648000                        14   \n",
              "...                ...                        ...                       ...   \n",
              "278666              40                          0                         2   \n",
              "278667              40                          0                         2   \n",
              "278668              40                          0                         2   \n",
              "278669              40                          0                         2   \n",
              "278670              40                          0                         2   \n",
              "\n",
              "        TCP_WIN_MAX_IN  TCP_WIN_MAX_OUT  FTP_COMMAND_RET_CODE  Attack  \n",
              "0                11584             8688                   0.0       2  \n",
              "1                56472            14480                   0.0       2  \n",
              "2                10136            10136                   0.0       2  \n",
              "3                30408            14480                   0.0       2  \n",
              "4                14480            14480                   0.0       2  \n",
              "...                ...              ...                   ...     ...  \n",
              "278666               0                0                   0.0       5  \n",
              "278667               0                0                   0.0       0  \n",
              "278668               0                0                   0.0       1  \n",
              "278669               0                0                   0.0       3  \n",
              "278670               0                0                   0.0       4  \n",
              "\n",
              "[278671 rows x 17 columns]"
            ]
          },
          "execution_count": 14,
          "metadata": {},
          "output_type": "execute_result"
        }
      ],
      "source": [
        "dataset.data"
      ]
    },
    {
      "cell_type": "markdown",
      "metadata": {},
      "source": [
        "### **Preprare dataframe**"
      ]
    },
    {
      "cell_type": "code",
      "execution_count": 15,
      "metadata": {},
      "outputs": [],
      "source": [
        "train_dataframe: pd.DataFrame = dataset.filter_data_by_labels(\n",
        "    train_labels_idx, label_name\n",
        ")\n",
        "test_dataframe: pd.DataFrame = dataset.filter_data_by_labels(\n",
        "    test_labels_idx, label_name\n",
        ")"
      ]
    },
    {
      "cell_type": "code",
      "execution_count": 16,
      "metadata": {},
      "outputs": [],
      "source": [
        "batch_size = 16\n",
        "train_data_loader = dataframe_to_dataloader(train_dataframe, batch_size)\n",
        "test_data_loader = dataframe_to_dataloader(test_dataframe, batch_size)"
      ]
    },
    {
      "cell_type": "markdown",
      "metadata": {
        "id": "u9SAFgu2cwoU"
      },
      "source": [
        "### **Variables**"
      ]
    },
    {
      "cell_type": "code",
      "execution_count": 16,
      "metadata": {
        "id": "zZcaliZNcwoU"
      },
      "outputs": [],
      "source": [
        "word_vector_size = 100\n",
        "input_dim = len(train_dataframe.iloc[0])\n",
        "output_dim = len(nb15v2_labels)"
      ]
    },
    {
      "cell_type": "code",
      "execution_count": 17,
      "metadata": {
        "colab": {
          "base_uri": "https://localhost:8080/"
        },
        "id": "5Si6ZqMAcwoU",
        "outputId": "36e4c97e-df6e-4bd1-fce8-0eae3b64098a"
      },
      "outputs": [
        {
          "name": "stdout",
          "output_type": "stream",
          "text": [
            "Input dim: 29\n",
            "Output dim: 10\n"
          ]
        }
      ],
      "source": [
        "print(f'Input dim: {input_dim}\\nOutput dim: {output_dim}')"
      ]
    },
    {
      "cell_type": "markdown",
      "metadata": {
        "id": "kVWq9-mxcwoU"
      },
      "source": [
        "## **Word2Vec**"
      ]
    },
    {
      "cell_type": "code",
      "execution_count": 29,
      "metadata": {},
      "outputs": [],
      "source": [
        "from src.models.GZSL.word2vec import LabelsEmbeddings"
      ]
    },
    {
      "cell_type": "code",
      "execution_count": 30,
      "metadata": {
        "id": "c_yD01CKcwoU"
      },
      "outputs": [],
      "source": [
        "word_vector_size = 100\n",
        "labels_embeddings = LabelsEmbeddings(word_vector_size, nb15v2_labels)\n",
        "labels_vectors = labels_embeddings.generate_vectors(nb15v2_labels)"
      ]
    },
    {
      "cell_type": "code",
      "execution_count": 31,
      "metadata": {
        "colab": {
          "base_uri": "https://localhost:8080/"
        },
        "id": "ZPaNLkBAcwoU",
        "outputId": "2d019822-953e-48a1-995b-440da5af5c55"
      },
      "outputs": [
        {
          "data": {
            "text/plain": [
              "[1, 1, 1, 1, 1, 1, 1, 1, 1, 1]"
            ]
          },
          "execution_count": 31,
          "metadata": {},
          "output_type": "execute_result"
        }
      ],
      "source": [
        "[len(v) for v in labels_vectors]"
      ]
    },
    {
      "cell_type": "code",
      "execution_count": 32,
      "metadata": {
        "id": "n9URX08ecwoV"
      },
      "outputs": [],
      "source": [
        "for vector in labels_vectors:\n",
        "    for word in vector:\n",
        "        assert len(word) == word_vector_size\n"
      ]
    },
    {
      "cell_type": "markdown",
      "metadata": {
        "id": "whiZad7YcwoV"
      },
      "source": [
        "### **Map layer**\n",
        "Last layer of the model should be a map between incident embeddings and labels embeddings - we want to map given input data to the most corresponding Word2Vec label vector. To do this we have to initialize weights of this layer and freeze them."
      ]
    },
    {
      "cell_type": "code",
      "execution_count": 33,
      "metadata": {
        "colab": {
          "base_uri": "https://localhost:8080/"
        },
        "id": "DOpErBdacwoV",
        "outputId": "7c84b795-5255-4577-d982-b0d82952d3b5"
      },
      "outputs": [
        {
          "name": "stdout",
          "output_type": "stream",
          "text": [
            "Size: torch.Size([10, 100])\n",
            "Type: torch.float32\n"
          ]
        }
      ],
      "source": [
        "from src.models.GZSL.utils import map_layer_init\n",
        "\n",
        "map_layer = map_layer_init(labels_vectors)\n",
        "print(f\"Size: {map_layer.size()}\\nType: {map_layer.dtype}\")\n"
      ]
    },
    {
      "cell_type": "markdown",
      "metadata": {
        "id": "qYVjbErKcwoV"
      },
      "source": [
        "## **Neural Network for Network Data**"
      ]
    },
    {
      "cell_type": "code",
      "execution_count": 34,
      "metadata": {
        "id": "vQ9L3A-RcwoV"
      },
      "outputs": [],
      "source": [
        "from src.models.GZSL.model import NetNet"
      ]
    },
    {
      "cell_type": "code",
      "execution_count": 35,
      "metadata": {
        "colab": {
          "base_uri": "https://localhost:8080/"
        },
        "id": "j9_rhgaMcwoW",
        "outputId": "bbf30a69-25d9-4168-8698-a33f4a5ce13a"
      },
      "outputs": [
        {
          "data": {
            "text/plain": [
              "NetNet(\n",
              "  (linear1): Linear(in_features=32, out_features=512, bias=True)\n",
              "  (bn1): BatchNorm1d(512, eps=1e-05, momentum=0.1, affine=True, track_running_stats=True)\n",
              "  (linear2): Linear(in_features=512, out_features=256, bias=True)\n",
              "  (bn2): BatchNorm1d(256, eps=1e-05, momentum=0.1, affine=True, track_running_stats=True)\n",
              "  (linear3): Linear(in_features=256, out_features=100, bias=True)\n",
              "  (bn3): BatchNorm1d(100, eps=1e-05, momentum=0.1, affine=True, track_running_stats=True)\n",
              "  (linear4): Linear(in_features=100, out_features=10, bias=True)\n",
              "  (ReLU): LeakyReLU(negative_slope=0.01)\n",
              ")"
            ]
          },
          "execution_count": 35,
          "metadata": {},
          "output_type": "execute_result"
        }
      ],
      "source": [
        "model = NetNet(\n",
        "    device=device,\n",
        "    input_dim=input_dim,\n",
        "    words_embeddings_dim=word_vector_size,\n",
        "    output_dim=output_dim,\n",
        "    labels_vectors=labels_vectors\n",
        ")\n",
        "model.to(device)"
      ]
    },
    {
      "cell_type": "code",
      "execution_count": 36,
      "metadata": {
        "colab": {
          "base_uri": "https://localhost:8080/"
        },
        "id": "Qvhte_qLcwoc",
        "outputId": "e56d38c2-aa47-48ca-f457-34b49d40e2eb"
      },
      "outputs": [
        {
          "data": {
            "text/plain": [
              "<torch.autograd.anomaly_mode.set_detect_anomaly at 0x27f4ea7c5d0>"
            ]
          },
          "execution_count": 36,
          "metadata": {},
          "output_type": "execute_result"
        }
      ],
      "source": [
        "learning_rate = 1e-06\n",
        "loss_fn = nn.NLLLoss()\n",
        "model.optim = optim.Adam(model.parameters(), lr=learning_rate)\n",
        "torch.autograd.set_detect_anomaly(True)\n"
      ]
    },
    {
      "cell_type": "markdown",
      "metadata": {
        "id": "l9o4-9qdcwoV"
      },
      "source": [
        "### **Training**"
      ]
    },
    {
      "cell_type": "code",
      "execution_count": 37,
      "metadata": {},
      "outputs": [
        {
          "name": "stdout",
          "output_type": "stream",
          "text": [
            "Epoch: 0, loss: -0.688\n",
            "Epoch: 1, loss: -0.562\n",
            "Epoch: 2, loss: -0.812\n",
            "Epoch: 3, loss: -0.688\n",
            "Epoch: 4, loss: -0.75\n"
          ]
        }
      ],
      "source": [
        "model.train_model(epochs=5, data_loader=train_data_loader, loss_fn=loss_fn)"
      ]
    },
    {
      "cell_type": "markdown",
      "metadata": {
        "id": "QCUA5hYxcwod"
      },
      "source": [
        "### **Removing last layer**"
      ]
    },
    {
      "cell_type": "code",
      "execution_count": 38,
      "metadata": {
        "colab": {
          "base_uri": "https://localhost:8080/"
        },
        "id": "o2PBAwZvcwod",
        "outputId": "18d02d2e-7b70-4520-acc5-ae49395a24a4"
      },
      "outputs": [
        {
          "data": {
            "text/plain": [
              "Sequential(\n",
              "  (0): Linear(in_features=32, out_features=512, bias=True)\n",
              "  (1): BatchNorm1d(512, eps=1e-05, momentum=0.1, affine=True, track_running_stats=True)\n",
              "  (2): Linear(in_features=512, out_features=256, bias=True)\n",
              "  (3): BatchNorm1d(256, eps=1e-05, momentum=0.1, affine=True, track_running_stats=True)\n",
              "  (4): Linear(in_features=256, out_features=100, bias=True)\n",
              "  (5): BatchNorm1d(100, eps=1e-05, momentum=0.1, affine=True, track_running_stats=True)\n",
              "  (6): LeakyReLU(negative_slope=0.01)\n",
              ")"
            ]
          },
          "execution_count": 38,
          "metadata": {},
          "output_type": "execute_result"
        }
      ],
      "source": [
        "zsl_model = nn.Sequential(*(list(model.children())[:6] + list(model.children())[7:]))\n",
        "zsl_model.to(device)"
      ]
    },
    {
      "cell_type": "code",
      "execution_count": 39,
      "metadata": {
        "colab": {
          "base_uri": "https://localhost:8080/"
        },
        "id": "60Zd6SHtcwod",
        "outputId": "8335cf57-8d93-4c80-dff3-2a8f08b9d206"
      },
      "outputs": [
        {
          "name": "stdout",
          "output_type": "stream",
          "text": [
            "NetNet(\n",
            "  (linear1): Linear(in_features=32, out_features=512, bias=True)\n",
            "  (bn1): BatchNorm1d(512, eps=1e-05, momentum=0.1, affine=True, track_running_stats=True)\n",
            "  (linear2): Linear(in_features=512, out_features=256, bias=True)\n",
            "  (bn2): BatchNorm1d(256, eps=1e-05, momentum=0.1, affine=True, track_running_stats=True)\n",
            "  (linear3): Linear(in_features=256, out_features=100, bias=True)\n",
            "  (bn3): BatchNorm1d(100, eps=1e-05, momentum=0.1, affine=True, track_running_stats=True)\n",
            "  (linear4): Linear(in_features=100, out_features=10, bias=True)\n",
            "  (ReLU): LeakyReLU(negative_slope=0.01)\n",
            ")\n",
            "Sequential(\n",
            "  (0): Linear(in_features=32, out_features=512, bias=True)\n",
            "  (1): BatchNorm1d(512, eps=1e-05, momentum=0.1, affine=True, track_running_stats=True)\n",
            "  (2): Linear(in_features=512, out_features=256, bias=True)\n",
            "  (3): BatchNorm1d(256, eps=1e-05, momentum=0.1, affine=True, track_running_stats=True)\n",
            "  (4): Linear(in_features=256, out_features=100, bias=True)\n",
            "  (5): BatchNorm1d(100, eps=1e-05, momentum=0.1, affine=True, track_running_stats=True)\n",
            "  (6): LeakyReLU(negative_slope=0.01)\n",
            ")\n"
          ]
        }
      ],
      "source": [
        "print(model)\n",
        "print(zsl_model)"
      ]
    },
    {
      "cell_type": "markdown",
      "metadata": {
        "id": "YRfCWx9ccwod"
      },
      "source": [
        "### **Evaluation**\n",
        "For this step we will calculate euclidean distance and find the vector which is the closest."
      ]
    },
    {
      "cell_type": "code",
      "execution_count": 41,
      "metadata": {
        "colab": {
          "base_uri": "https://localhost:8080/"
        },
        "id": "XiYNwGXUcwod",
        "outputId": "16a4b506-05cc-4c87-e12a-5b4fbfe14fc4"
      },
      "outputs": [
        {
          "name": "stdout",
          "output_type": "stream",
          "text": [
            "[                                                  ] 1/17417 batches processed"
          ]
        },
        {
          "ename": "RuntimeError",
          "evalue": "The size of tensor a (100) must match the size of tensor b (10) at non-singleton dimension 0",
          "output_type": "error",
          "traceback": [
            "\u001b[1;31m---------------------------------------------------------------------------\u001b[0m",
            "\u001b[1;31mRuntimeError\u001b[0m                              Traceback (most recent call last)",
            "\u001b[1;32mc:\\Users\\bkosinski\\Desktop\\STUDIA\\INZ\\modules\\ML-API\\packetbaseml\\notebooks\\models.ipynb Cell 54\u001b[0m line \u001b[0;36m3\n\u001b[0;32m      <a href='vscode-notebook-cell:/c%3A/Users/bkosinski/Desktop/STUDIA/INZ/modules/ML-API/packetbaseml/notebooks/models.ipynb#Y104sZmlsZQ%3D%3D?line=0'>1</a>\u001b[0m \u001b[39mfrom\u001b[39;00m \u001b[39msrc\u001b[39;00m\u001b[39m.\u001b[39;00m\u001b[39mmodels\u001b[39;00m\u001b[39m.\u001b[39;00m\u001b[39mGZSL\u001b[39;00m\u001b[39m.\u001b[39;00m\u001b[39mmodel_eval\u001b[39;00m \u001b[39mimport\u001b[39;00m evaluate_model\n\u001b[1;32m----> <a href='vscode-notebook-cell:/c%3A/Users/bkosinski/Desktop/STUDIA/INZ/modules/ML-API/packetbaseml/notebooks/models.ipynb#Y104sZmlsZQ%3D%3D?line=2'>3</a>\u001b[0m evaluate_model(device, model, test_data_loader, map_layer)\n",
            "File \u001b[1;32mc:\\Users\\bkosinski\\Desktop\\STUDIA\\INZ\\modules\\ML-API\\packetbaseml\\src\\models\\GZSL\\model_eval.py:49\u001b[0m, in \u001b[0;36mevaluate_model\u001b[1;34m(device, model, data_loader, labels_vectors)\u001b[0m\n\u001b[0;32m     46\u001b[0m labels_vectors \u001b[39m=\u001b[39m labels_vectors\u001b[39m.\u001b[39mto(device)\n\u001b[0;32m     48\u001b[0m pred_inputs \u001b[39m=\u001b[39m model(inputs)\n\u001b[1;32m---> 49\u001b[0m pred_labels \u001b[39m=\u001b[39m [\n\u001b[0;32m     50\u001b[0m     find_closest_vector(vector\u001b[39m=\u001b[39;49mpred_input, labels_vectors\u001b[39m=\u001b[39;49mlabels_vectors)\n\u001b[0;32m     51\u001b[0m     \u001b[39mfor\u001b[39;49;00m pred_input \u001b[39min\u001b[39;49;00m pred_inputs\n\u001b[0;32m     52\u001b[0m ]\n\u001b[0;32m     53\u001b[0m pred_labels \u001b[39m=\u001b[39m torch\u001b[39m.\u001b[39mtensor(pred_labels, device\u001b[39m=\u001b[39mdevice)\n\u001b[0;32m     54\u001b[0m true_predictions \u001b[39m+\u001b[39m\u001b[39m=\u001b[39m (pred_labels \u001b[39m==\u001b[39m labels)\u001b[39m.\u001b[39msum()\u001b[39m.\u001b[39mitem()\n",
            "File \u001b[1;32mc:\\Users\\bkosinski\\Desktop\\STUDIA\\INZ\\modules\\ML-API\\packetbaseml\\src\\models\\GZSL\\model_eval.py:50\u001b[0m, in \u001b[0;36m<listcomp>\u001b[1;34m(.0)\u001b[0m\n\u001b[0;32m     46\u001b[0m labels_vectors \u001b[39m=\u001b[39m labels_vectors\u001b[39m.\u001b[39mto(device)\n\u001b[0;32m     48\u001b[0m pred_inputs \u001b[39m=\u001b[39m model(inputs)\n\u001b[0;32m     49\u001b[0m pred_labels \u001b[39m=\u001b[39m [\n\u001b[1;32m---> 50\u001b[0m     find_closest_vector(vector\u001b[39m=\u001b[39;49mpred_input, labels_vectors\u001b[39m=\u001b[39;49mlabels_vectors)\n\u001b[0;32m     51\u001b[0m     \u001b[39mfor\u001b[39;00m pred_input \u001b[39min\u001b[39;00m pred_inputs\n\u001b[0;32m     52\u001b[0m ]\n\u001b[0;32m     53\u001b[0m pred_labels \u001b[39m=\u001b[39m torch\u001b[39m.\u001b[39mtensor(pred_labels, device\u001b[39m=\u001b[39mdevice)\n\u001b[0;32m     54\u001b[0m true_predictions \u001b[39m+\u001b[39m\u001b[39m=\u001b[39m (pred_labels \u001b[39m==\u001b[39m labels)\u001b[39m.\u001b[39msum()\u001b[39m.\u001b[39mitem()\n",
            "File \u001b[1;32mc:\\Users\\bkosinski\\Desktop\\STUDIA\\INZ\\modules\\ML-API\\packetbaseml\\src\\models\\GZSL\\model_eval.py:13\u001b[0m, in \u001b[0;36mfind_closest_vector\u001b[1;34m(vector, labels_vectors)\u001b[0m\n\u001b[0;32m     11\u001b[0m pdist \u001b[39m=\u001b[39m torch\u001b[39m.\u001b[39mnn\u001b[39m.\u001b[39mPairwiseDistance(p\u001b[39m=\u001b[39m\u001b[39m2\u001b[39m)\n\u001b[0;32m     12\u001b[0m \u001b[39mfor\u001b[39;00m label, label_vector \u001b[39min\u001b[39;00m \u001b[39menumerate\u001b[39m(labels_vectors, start\u001b[39m=\u001b[39m\u001b[39m0\u001b[39m):\n\u001b[1;32m---> 13\u001b[0m     dist \u001b[39m=\u001b[39m pdist(label_vector, vector)\n\u001b[0;32m     14\u001b[0m     \u001b[39mif\u001b[39;00m dist \u001b[39m<\u001b[39m min_dist:\n\u001b[0;32m     15\u001b[0m         min_dist \u001b[39m=\u001b[39m dist\n",
            "File \u001b[1;32m~\\AppData\\Local\\Packages\\PythonSoftwareFoundation.Python.3.11_qbz5n2kfra8p0\\LocalCache\\local-packages\\Python311\\site-packages\\torch\\nn\\modules\\module.py:1501\u001b[0m, in \u001b[0;36mModule._call_impl\u001b[1;34m(self, *args, **kwargs)\u001b[0m\n\u001b[0;32m   1496\u001b[0m \u001b[39m# If we don't have any hooks, we want to skip the rest of the logic in\u001b[39;00m\n\u001b[0;32m   1497\u001b[0m \u001b[39m# this function, and just call forward.\u001b[39;00m\n\u001b[0;32m   1498\u001b[0m \u001b[39mif\u001b[39;00m \u001b[39mnot\u001b[39;00m (\u001b[39mself\u001b[39m\u001b[39m.\u001b[39m_backward_hooks \u001b[39mor\u001b[39;00m \u001b[39mself\u001b[39m\u001b[39m.\u001b[39m_backward_pre_hooks \u001b[39mor\u001b[39;00m \u001b[39mself\u001b[39m\u001b[39m.\u001b[39m_forward_hooks \u001b[39mor\u001b[39;00m \u001b[39mself\u001b[39m\u001b[39m.\u001b[39m_forward_pre_hooks\n\u001b[0;32m   1499\u001b[0m         \u001b[39mor\u001b[39;00m _global_backward_pre_hooks \u001b[39mor\u001b[39;00m _global_backward_hooks\n\u001b[0;32m   1500\u001b[0m         \u001b[39mor\u001b[39;00m _global_forward_hooks \u001b[39mor\u001b[39;00m _global_forward_pre_hooks):\n\u001b[1;32m-> 1501\u001b[0m     \u001b[39mreturn\u001b[39;00m forward_call(\u001b[39m*\u001b[39;49margs, \u001b[39m*\u001b[39;49m\u001b[39m*\u001b[39;49mkwargs)\n\u001b[0;32m   1502\u001b[0m \u001b[39m# Do not call functions when jit is used\u001b[39;00m\n\u001b[0;32m   1503\u001b[0m full_backward_hooks, non_full_backward_hooks \u001b[39m=\u001b[39m [], []\n",
            "File \u001b[1;32m~\\AppData\\Local\\Packages\\PythonSoftwareFoundation.Python.3.11_qbz5n2kfra8p0\\LocalCache\\local-packages\\Python311\\site-packages\\torch\\nn\\modules\\distance.py:53\u001b[0m, in \u001b[0;36mPairwiseDistance.forward\u001b[1;34m(self, x1, x2)\u001b[0m\n\u001b[0;32m     52\u001b[0m \u001b[39mdef\u001b[39;00m \u001b[39mforward\u001b[39m(\u001b[39mself\u001b[39m, x1: Tensor, x2: Tensor) \u001b[39m-\u001b[39m\u001b[39m>\u001b[39m Tensor:\n\u001b[1;32m---> 53\u001b[0m     \u001b[39mreturn\u001b[39;00m F\u001b[39m.\u001b[39;49mpairwise_distance(x1, x2, \u001b[39mself\u001b[39;49m\u001b[39m.\u001b[39;49mnorm, \u001b[39mself\u001b[39;49m\u001b[39m.\u001b[39;49meps, \u001b[39mself\u001b[39;49m\u001b[39m.\u001b[39;49mkeepdim)\n",
            "\u001b[1;31mRuntimeError\u001b[0m: The size of tensor a (100) must match the size of tensor b (10) at non-singleton dimension 0"
          ]
        }
      ],
      "source": [
        "from src.models.GZSL.model_eval import evaluate_model\n",
        "\n",
        "evaluate_model(device, model, test_data_loader, map_layer)"
      ]
    },
    {
      "cell_type": "markdown",
      "metadata": {},
      "source": [
        "## **Other models**"
      ]
    },
    {
      "cell_type": "markdown",
      "metadata": {},
      "source": [
        "### **DYI MLP in PyTorch**"
      ]
    },
    {
      "cell_type": "code",
      "execution_count": 35,
      "metadata": {},
      "outputs": [
        {
          "data": {
            "text/plain": [
              "MLP(\n",
              "  (linear1): Linear(in_features=42, out_features=128, bias=True)\n",
              "  (linear2): Linear(in_features=128, out_features=32, bias=True)\n",
              "  (linear3): Linear(in_features=32, out_features=16, bias=True)\n",
              "  (ReLU): LeakyReLU(negative_slope=0.01)\n",
              ")"
            ]
          },
          "execution_count": 35,
          "metadata": {},
          "output_type": "execute_result"
        }
      ],
      "source": [
        "from src.models.MLP.model import MLP, evaluate_model\n",
        "\n",
        "mlp_model = MLP(device, input_dim, output_dim).to(device)\n",
        "mlp_model"
      ]
    },
    {
      "cell_type": "code",
      "execution_count": 36,
      "metadata": {},
      "outputs": [],
      "source": [
        "learning_rate = 1e-03\n",
        "loss_fn = nn.NLLLoss()\n",
        "mlp_model.optim = optim.Adam(mlp_model.parameters(), lr=learning_rate)"
      ]
    },
    {
      "cell_type": "code",
      "execution_count": null,
      "metadata": {},
      "outputs": [],
      "source": [
        "inputs, labels = next(iter(train_data_loader))\n",
        "outputs = mlp_model(inputs)\n",
        "(labels, outputs)"
      ]
    },
    {
      "cell_type": "code",
      "execution_count": 38,
      "metadata": {},
      "outputs": [
        {
          "name": "stdout",
          "output_type": "stream",
          "text": [
            "Epoch: 0, loss: -0.0909\n",
            "Epoch: 1, loss: -0.273\n",
            "Epoch: 2, loss: -0.273\n",
            "Epoch: 3, loss: 0.0\n"
          ]
        }
      ],
      "source": [
        "mlp_model.train_model(epochs=10, data_loader=train_data_loader, loss_fn=loss_fn)"
      ]
    },
    {
      "cell_type": "code",
      "execution_count": 19,
      "metadata": {},
      "outputs": [
        {
          "name": "stdout",
          "output_type": "stream",
          "text": [
            "[==================================================] 239192/239192 batches processed\n",
            "Accuracy: 20.05%\n",
            "Precision: 22.95%\n",
            "Sensitivity: 71.12%\n",
            "F1: 34.70%\n"
          ]
        }
      ],
      "source": [
        "evaluate_model(device, mlp_model, test_data_loader)"
      ]
    },
    {
      "cell_type": "code",
      "execution_count": 21,
      "metadata": {},
      "outputs": [],
      "source": [
        "from src.models.operations import load_model\n",
        "import torch\n",
        "\n",
        "zsl_model = torch.load(\n",
        "    \"./models/zsl_model.pt\", map_location=torch.device(\"cpu\")\n",
        ")"
      ]
    },
    {
      "cell_type": "code",
      "execution_count": 22,
      "metadata": {},
      "outputs": [
        {
          "name": "stdout",
          "output_type": "stream",
          "text": [
            "[==================================================] 430851/430851 batches processed\n",
            "Accuracy: 36.86%\n",
            "Precision: 99.12\n",
            "Sensitivity: 37.68\n",
            "F1: 54.61\n"
          ]
        }
      ],
      "source": [
        "from src.models.GZSL.model_eval import evaluate_model\n",
        "\n",
        "evaluate_model(\n",
        "    device,\n",
        "    zsl_model,\n",
        "    test_data_loader,\n",
        "    map_layer,\n",
        ")"
      ]
    },
    {
      "cell_type": "markdown",
      "metadata": {},
      "source": [
        "### **Scikit learn**"
      ]
    },
    {
      "cell_type": "code",
      "execution_count": 17,
      "metadata": {},
      "outputs": [],
      "source": [
        "def extract_data(loader):\n",
        "    features = []\n",
        "    labels = []\n",
        "    for batch in loader:\n",
        "        x, y = batch\n",
        "        features.append(x.view(x.size(0), -1))  # Flatten the features\n",
        "        labels.append(y)\n",
        "\n",
        "    return torch.cat(features).numpy(), torch.cat(labels).numpy()\n"
      ]
    },
    {
      "cell_type": "code",
      "execution_count": 37,
      "metadata": {},
      "outputs": [],
      "source": [
        "from sklearn.metrics import accuracy_score, precision_score, f1_score, recall_score\n",
        "import numpy as np\n",
        "\n",
        "\n",
        "def print_metrics(y_test: int, y_pred: int, method: str | None) -> None:\n",
        "    accuracy = accuracy_score(y_test, y_pred)\n",
        "    print(f\"Accuracy: {accuracy * 100:4.2f}%\")\n",
        "\n",
        "    precision = precision_score(y_test, y_pred, average=method, zero_division=np.nan)\n",
        "    print(f\"Precision: {precision * 100:4.2f}%\")\n",
        "\n",
        "    f1 = f1_score(y_test, y_pred, average=method)\n",
        "    print(f\"F1 Score: {f1 * 100:4.2f}%\")\n",
        "\n",
        "    recall = f1 * precision / (2 * precision - f1)\n",
        "    print(f\"Recall (Sensitivity): {recall * 100:4.2f}%\")"
      ]
    },
    {
      "cell_type": "code",
      "execution_count": 19,
      "metadata": {},
      "outputs": [],
      "source": [
        "X_train, y_train = extract_data(train_data_loader)\n",
        "X_test, y_test = extract_data(test_data_loader)"
      ]
    },
    {
      "cell_type": "code",
      "execution_count": 20,
      "metadata": {},
      "outputs": [],
      "source": [
        "import numpy as np\n",
        "\n",
        "X_train = np.where(np.isfinite(X_train), X_train, np.nan)\n",
        "X_test = np.where(np.isfinite(X_test), X_test, np.nan)"
      ]
    },
    {
      "cell_type": "code",
      "execution_count": 21,
      "metadata": {},
      "outputs": [],
      "source": [
        "from sklearn.impute import SimpleImputer\n",
        "\n",
        "imputer = SimpleImputer(missing_values=np.nan, strategy=\"mean\")  \n",
        "\n",
        "X_train = imputer.fit_transform(X_train)\n",
        "X_test = imputer.transform(X_test)"
      ]
    },
    {
      "cell_type": "markdown",
      "metadata": {},
      "source": [
        "#### **MLP Classifier**"
      ]
    },
    {
      "cell_type": "code",
      "execution_count": 29,
      "metadata": {},
      "outputs": [
        {
          "name": "stdout",
          "output_type": "stream",
          "text": [
            "Iteration 1, loss = 7.16208155\n",
            "Iteration 2, loss = 4.35023882\n",
            "Iteration 3, loss = 4.23011600\n",
            "Iteration 4, loss = 4.23329158\n",
            "Iteration 5, loss = 4.21739982\n",
            "Iteration 6, loss = 4.15345882\n",
            "Iteration 7, loss = 4.04989369\n",
            "Iteration 8, loss = 3.92736908\n",
            "Iteration 9, loss = 3.92534446\n",
            "Iteration 10, loss = 4.00454492\n",
            "Iteration 11, loss = 3.98734717\n",
            "Iteration 12, loss = 3.97637029\n",
            "Iteration 13, loss = 3.84016560\n",
            "Iteration 14, loss = 3.83031146\n",
            "Iteration 15, loss = 3.81538975\n",
            "Iteration 16, loss = 3.78285178\n",
            "Iteration 17, loss = 3.78246300\n",
            "Iteration 18, loss = 3.73174890\n",
            "Iteration 19, loss = 3.78216883\n",
            "Iteration 20, loss = 3.64288290\n",
            "Iteration 21, loss = 3.68257869\n",
            "Iteration 22, loss = 3.68617644\n",
            "Iteration 23, loss = 3.62506411\n",
            "Iteration 24, loss = 3.65979977\n",
            "Iteration 25, loss = 3.58851441\n",
            "Iteration 26, loss = 3.58213375\n",
            "Iteration 27, loss = 3.58588732\n",
            "Iteration 28, loss = 3.45861313\n",
            "Iteration 29, loss = 3.56087047\n",
            "Iteration 30, loss = 3.48941982\n",
            "Iteration 31, loss = 3.48237964\n",
            "Iteration 32, loss = 3.50685773\n",
            "Iteration 33, loss = 3.42616498\n",
            "Iteration 34, loss = 3.49432068\n",
            "Iteration 35, loss = 3.43211415\n",
            "Iteration 36, loss = 3.52152770\n",
            "Iteration 37, loss = 3.38003885\n",
            "Iteration 38, loss = 3.52901634\n",
            "Iteration 39, loss = 3.43396198\n",
            "Iteration 40, loss = 3.33896444\n",
            "Iteration 41, loss = 3.42788344\n",
            "Iteration 42, loss = 3.44028003\n",
            "Iteration 43, loss = 3.35394770\n",
            "Iteration 44, loss = 3.42836939\n",
            "Iteration 45, loss = 3.40372514\n",
            "Iteration 46, loss = 3.43681135\n",
            "Iteration 47, loss = 3.36236132\n",
            "Iteration 48, loss = 3.38403069\n",
            "Iteration 49, loss = 3.30821331\n",
            "Iteration 50, loss = 3.35533931\n",
            "Iteration 51, loss = 3.30617788\n",
            "Iteration 52, loss = 3.35042899\n",
            "Iteration 53, loss = 3.19360416\n",
            "Iteration 54, loss = 3.21775169\n",
            "Iteration 55, loss = 3.17158233\n",
            "Iteration 56, loss = 3.33774640\n",
            "Iteration 57, loss = 3.12256299\n",
            "Iteration 58, loss = 3.31506441\n",
            "Iteration 59, loss = 3.37608411\n",
            "Iteration 60, loss = 3.20537813\n",
            "Iteration 61, loss = 3.23600169\n",
            "Iteration 62, loss = 3.21206425\n",
            "Iteration 63, loss = 3.32882764\n",
            "Iteration 64, loss = 3.25721112\n",
            "Iteration 65, loss = 3.20629134\n",
            "Iteration 66, loss = 3.26146700\n",
            "Iteration 67, loss = 3.27914937\n",
            "Iteration 68, loss = 3.17775159\n",
            "Training loss did not improve more than tol=0.000100 for 10 consecutive epochs. Stopping.\n"
          ]
        }
      ],
      "source": [
        "from sklearn.neural_network import MLPClassifier\n",
        "\n",
        "\n",
        "mlp = MLPClassifier(\n",
        "    hidden_layer_sizes=(100,),\n",
        "    max_iter=500,\n",
        "    alpha=1e-6,\n",
        "    solver=\"adam\",\n",
        "    verbose=10,\n",
        "    random_state=1,\n",
        "    learning_rate_init=1e-4,\n",
        ")\n",
        "\n",
        "\n",
        "mlp.fit(X_train, y_train)\n",
        "\n",
        "y_pred = mlp.predict(X_test)"
      ]
    },
    {
      "cell_type": "code",
      "execution_count": 43,
      "metadata": {},
      "outputs": [
        {
          "name": "stdout",
          "output_type": "stream",
          "text": [
            "Accuracy: 76.08%\n",
            "Precision: 75.77%\n",
            "Recall (Sensitivity): 76.08%\n",
            "F1 Score: 71.65%\n"
          ]
        }
      ],
      "source": [
        "print_metrics(y_test, y_pred, method=\"weighted\")"
      ]
    },
    {
      "cell_type": "markdown",
      "metadata": {},
      "source": [
        "#### **SVM**"
      ]
    },
    {
      "cell_type": "code",
      "execution_count": 19,
      "metadata": {},
      "outputs": [
        {
          "name": "stdout",
          "output_type": "stream",
          "text": [
            "[LibSVM]"
          ]
        }
      ],
      "source": [
        "from sklearn.svm import SVC\n",
        "\n",
        "\n",
        "svm_model = SVC(probability=True, verbose=True)\n",
        "svm_model.fit(X_train, y_train)\n",
        "\n",
        "y_pred = svm_model.predict(X_test)"
      ]
    },
    {
      "cell_type": "code",
      "execution_count": null,
      "metadata": {},
      "outputs": [],
      "source": [
        "y_pred = svm_model.predict(X_test)"
      ]
    },
    {
      "cell_type": "code",
      "execution_count": null,
      "metadata": {},
      "outputs": [],
      "source": [
        "print_metrics(y_test, y_pred, method=\"weighted\")"
      ]
    },
    {
      "cell_type": "markdown",
      "metadata": {},
      "source": [
        "### **Random forest**"
      ]
    },
    {
      "cell_type": "code",
      "execution_count": 24,
      "metadata": {},
      "outputs": [
        {
          "data": {
            "text/html": [
              "<style>#sk-container-id-1 {color: black;}#sk-container-id-1 pre{padding: 0;}#sk-container-id-1 div.sk-toggleable {background-color: white;}#sk-container-id-1 label.sk-toggleable__label {cursor: pointer;display: block;width: 100%;margin-bottom: 0;padding: 0.3em;box-sizing: border-box;text-align: center;}#sk-container-id-1 label.sk-toggleable__label-arrow:before {content: \"▸\";float: left;margin-right: 0.25em;color: #696969;}#sk-container-id-1 label.sk-toggleable__label-arrow:hover:before {color: black;}#sk-container-id-1 div.sk-estimator:hover label.sk-toggleable__label-arrow:before {color: black;}#sk-container-id-1 div.sk-toggleable__content {max-height: 0;max-width: 0;overflow: hidden;text-align: left;background-color: #f0f8ff;}#sk-container-id-1 div.sk-toggleable__content pre {margin: 0.2em;color: black;border-radius: 0.25em;background-color: #f0f8ff;}#sk-container-id-1 input.sk-toggleable__control:checked~div.sk-toggleable__content {max-height: 200px;max-width: 100%;overflow: auto;}#sk-container-id-1 input.sk-toggleable__control:checked~label.sk-toggleable__label-arrow:before {content: \"▾\";}#sk-container-id-1 div.sk-estimator input.sk-toggleable__control:checked~label.sk-toggleable__label {background-color: #d4ebff;}#sk-container-id-1 div.sk-label input.sk-toggleable__control:checked~label.sk-toggleable__label {background-color: #d4ebff;}#sk-container-id-1 input.sk-hidden--visually {border: 0;clip: rect(1px 1px 1px 1px);clip: rect(1px, 1px, 1px, 1px);height: 1px;margin: -1px;overflow: hidden;padding: 0;position: absolute;width: 1px;}#sk-container-id-1 div.sk-estimator {font-family: monospace;background-color: #f0f8ff;border: 1px dotted black;border-radius: 0.25em;box-sizing: border-box;margin-bottom: 0.5em;}#sk-container-id-1 div.sk-estimator:hover {background-color: #d4ebff;}#sk-container-id-1 div.sk-parallel-item::after {content: \"\";width: 100%;border-bottom: 1px solid gray;flex-grow: 1;}#sk-container-id-1 div.sk-label:hover label.sk-toggleable__label {background-color: #d4ebff;}#sk-container-id-1 div.sk-serial::before {content: \"\";position: absolute;border-left: 1px solid gray;box-sizing: border-box;top: 0;bottom: 0;left: 50%;z-index: 0;}#sk-container-id-1 div.sk-serial {display: flex;flex-direction: column;align-items: center;background-color: white;padding-right: 0.2em;padding-left: 0.2em;position: relative;}#sk-container-id-1 div.sk-item {position: relative;z-index: 1;}#sk-container-id-1 div.sk-parallel {display: flex;align-items: stretch;justify-content: center;background-color: white;position: relative;}#sk-container-id-1 div.sk-item::before, #sk-container-id-1 div.sk-parallel-item::before {content: \"\";position: absolute;border-left: 1px solid gray;box-sizing: border-box;top: 0;bottom: 0;left: 50%;z-index: -1;}#sk-container-id-1 div.sk-parallel-item {display: flex;flex-direction: column;z-index: 1;position: relative;background-color: white;}#sk-container-id-1 div.sk-parallel-item:first-child::after {align-self: flex-end;width: 50%;}#sk-container-id-1 div.sk-parallel-item:last-child::after {align-self: flex-start;width: 50%;}#sk-container-id-1 div.sk-parallel-item:only-child::after {width: 0;}#sk-container-id-1 div.sk-dashed-wrapped {border: 1px dashed gray;margin: 0 0.4em 0.5em 0.4em;box-sizing: border-box;padding-bottom: 0.4em;background-color: white;}#sk-container-id-1 div.sk-label label {font-family: monospace;font-weight: bold;display: inline-block;line-height: 1.2em;}#sk-container-id-1 div.sk-label-container {text-align: center;}#sk-container-id-1 div.sk-container {/* jupyter's `normalize.less` sets `[hidden] { display: none; }` but bootstrap.min.css set `[hidden] { display: none !important; }` so we also need the `!important` here to be able to override the default hidden behavior on the sphinx rendered scikit-learn.org. See: https://github.com/scikit-learn/scikit-learn/issues/21755 */display: inline-block !important;position: relative;}#sk-container-id-1 div.sk-text-repr-fallback {display: none;}</style><div id=\"sk-container-id-1\" class=\"sk-top-container\"><div class=\"sk-text-repr-fallback\"><pre>RandomForestClassifier(n_jobs=-1, random_state=42)</pre><b>In a Jupyter environment, please rerun this cell to show the HTML representation or trust the notebook. <br />On GitHub, the HTML representation is unable to render, please try loading this page with nbviewer.org.</b></div><div class=\"sk-container\" hidden><div class=\"sk-item\"><div class=\"sk-estimator sk-toggleable\"><input class=\"sk-toggleable__control sk-hidden--visually\" id=\"sk-estimator-id-1\" type=\"checkbox\" checked><label for=\"sk-estimator-id-1\" class=\"sk-toggleable__label sk-toggleable__label-arrow\">RandomForestClassifier</label><div class=\"sk-toggleable__content\"><pre>RandomForestClassifier(n_jobs=-1, random_state=42)</pre></div></div></div></div></div>"
            ],
            "text/plain": [
              "RandomForestClassifier(n_jobs=-1, random_state=42)"
            ]
          },
          "execution_count": 24,
          "metadata": {},
          "output_type": "execute_result"
        }
      ],
      "source": [
        "from sklearn.ensemble import RandomForestClassifier\n",
        "\n",
        "rf_classifier = RandomForestClassifier(n_estimators=100, random_state=42, n_jobs=-1)\n",
        "\n",
        "rf_classifier.fit(X_train, y_train)"
      ]
    },
    {
      "cell_type": "code",
      "execution_count": 25,
      "metadata": {},
      "outputs": [],
      "source": [
        "y_pred = rf_classifier.predict(X_test)"
      ]
    },
    {
      "cell_type": "code",
      "execution_count": 28,
      "metadata": {},
      "outputs": [
        {
          "name": "stdout",
          "output_type": "stream",
          "text": [
            "Accuracy: 91.22%\n",
            "Precision: 71.18%\n",
            "Recall (Sensitivity): 80.00%\n",
            "F1 Score: 74.33%\n"
          ]
        },
        {
          "name": "stderr",
          "output_type": "stream",
          "text": [
            "C:\\Users\\bkosinski\\AppData\\Local\\Packages\\PythonSoftwareFoundation.Python.3.11_qbz5n2kfra8p0\\LocalCache\\local-packages\\Python311\\site-packages\\sklearn\\metrics\\_classification.py:1471: UndefinedMetricWarning: Precision is ill-defined and being set to 0.0 in labels with no predicted samples. Use `zero_division` parameter to control this behavior.\n",
            "  _warn_prf(average, modifier, msg_start, len(result))\n"
          ]
        }
      ],
      "source": [
        "print_metrics(y_test, y_pred, method=\"macro\")"
      ]
    }
  ],
  "metadata": {
    "accelerator": "GPU",
    "colab": {
      "gpuType": "T4",
      "provenance": []
    },
    "kernelspec": {
      "display_name": "Python 3",
      "name": "python3"
    },
    "language_info": {
      "codemirror_mode": {
        "name": "ipython",
        "version": 3
      },
      "file_extension": ".py",
      "mimetype": "text/x-python",
      "name": "python",
      "nbconvert_exporter": "python",
      "pygments_lexer": "ipython3",
      "version": "3.11.7"
    },
    "orig_nbformat": 4
  },
  "nbformat": 4,
  "nbformat_minor": 0
}
