{
 "cells": [
  {
   "cell_type": "code",
   "execution_count": 1,
   "metadata": {},
   "outputs": [],
   "source": [
    "import pandas as pd\n",
    "import os\n",
    "import torch.utils.data as data"
   ]
  },
  {
   "cell_type": "code",
   "execution_count": 2,
   "metadata": {},
   "outputs": [],
   "source": [
    "DATA_PATH = \"../data/raw/\"\n",
    "MERGED_DATA_FILES = 'merged_data.csv'"
   ]
  },
  {
   "cell_type": "markdown",
   "metadata": {},
   "source": [
    "### **Create tensor dataset**"
   ]
  },
  {
   "cell_type": "code",
   "execution_count": 3,
   "metadata": {},
   "outputs": [],
   "source": [
    "class DatasetIDS2018(data.Dataset):\n",
    "    def __init__(self, csv_file_name: str =os.path.join(DATA_PATH, MERGED_DATA_FILES), transform=None):\n",
    "        self.data = pd.read_csv(csv_file_name)\n",
    "        self.transform = transform\n",
    "\n",
    "    def __len__(self):\n",
    "        return len(self.data)\n",
    "    \n",
    "    def __getitem__(self, idx):\n",
    "        data_point = self.data[idx]\n",
    "        data_label = self.label[idx]\n",
    "        if self.transform:\n",
    "            data_point = self.transform(data_point)\n",
    "        return data_point, data_label\n",
    "    \n",
    "    def get_data_by_labels(self, labels: list) -> pd.DataFrame:\n",
    "        mask = self.data['Label'].isin(labels)\n",
    "        return pd.DataFrame(self.data[mask])"
   ]
  },
  {
   "cell_type": "code",
   "execution_count": 4,
   "metadata": {},
   "outputs": [],
   "source": [
    "is_imported = True"
   ]
  },
  {
   "cell_type": "code",
   "execution_count": 5,
   "metadata": {},
   "outputs": [],
   "source": [
    "if not is_imported:\n",
    "    d = DatasetIDS2018()\n",
    "    test_data = d.get_data_by_labels([\n",
    "        'Brute Force -XSS',\n",
    "        'DDOS attack-HOIC',\n",
    "        'DDOS attack-LOIC-UDP',\n",
    "        'DDoS attacks-LOIC-HTTP',\n",
    "        'DoS attacks-GoldenEye',\n",
    "        'DoS attacks-Hulk',\n",
    "        ])"
   ]
  },
  {
   "cell_type": "code",
   "execution_count": 6,
   "metadata": {},
   "outputs": [],
   "source": [
    "if not is_imported:\n",
    "    test_data.groupby('Label')['Timestamp', ].count()"
   ]
  },
  {
   "cell_type": "code",
   "execution_count": null,
   "metadata": {},
   "outputs": [],
   "source": [
    "def parse_dataset(dataset: pd.DataFrame, columns_to_drop: list, fixed_type, labels_emb: dict, labels_column_name: str) -> pd.DataFrame:\n",
    "    for column in columns_to_drop:\n",
    "        if column in list(dataset.columns):\n",
    "            del dataset[column]\n",
    "    dataset[labels_column_name] = dataset[labels_column_name].map(labels_emb)\n",
    "    for column in dataset.columns:\n",
    "        dataset[column] = pd.to_numeric(dataset[column], errors='coerce')\n",
    "    return dataset"
   ]
  }
 ],
 "metadata": {
  "kernelspec": {
   "display_name": "Python 3",
   "language": "python",
   "name": "python3"
  },
  "language_info": {
   "codemirror_mode": {
    "name": "ipython",
    "version": 3
   },
   "file_extension": ".py",
   "mimetype": "text/x-python",
   "name": "python",
   "nbconvert_exporter": "python",
   "pygments_lexer": "ipython3",
   "version": "3.11.4"
  },
  "orig_nbformat": 4
 },
 "nbformat": 4,
 "nbformat_minor": 2
}
